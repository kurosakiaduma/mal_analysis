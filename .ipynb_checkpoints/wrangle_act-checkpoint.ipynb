{
 "cells": [
  {
   "cell_type": "code",
   "execution_count": 1,
   "id": "22d3e79d",
   "metadata": {},
   "outputs": [
    {
     "ename": "ModuleNotFoundError",
     "evalue": "No module named 'textblob'",
     "output_type": "error",
     "traceback": [
      "\u001b[1;31m---------------------------------------------------------------------------\u001b[0m",
      "\u001b[1;31mModuleNotFoundError\u001b[0m                       Traceback (most recent call last)",
      "Input \u001b[1;32mIn [1]\u001b[0m, in \u001b[0;36m<cell line: 1>\u001b[1;34m()\u001b[0m\n\u001b[1;32m----> 1\u001b[0m \u001b[38;5;28;01mfrom\u001b[39;00m \u001b[38;5;21;01mtextblob\u001b[39;00m \u001b[38;5;28;01mimport\u001b[39;00m TextBlob\n\u001b[0;32m      2\u001b[0m \u001b[38;5;28;01mfrom\u001b[39;00m \u001b[38;5;21;01mwordcloud\u001b[39;00m \u001b[38;5;28;01mimport\u001b[39;00m WordCloud\n\u001b[0;32m      3\u001b[0m \u001b[38;5;28;01mimport\u001b[39;00m \u001b[38;5;21;01m_json\u001b[39;00m\n",
      "\u001b[1;31mModuleNotFoundError\u001b[0m: No module named 'textblob'"
     ]
    }
   ],
   "source": [
    "from textblob import TextBlob\n",
    "from wordcloud import WordCloud\n",
    "import _json\n",
    "\n",
    "import unittest\n",
    "\n",
    "import os\n",
    "import pandas as pd\n",
    "import numpy as np\n",
    "import re\n",
    "\n",
    "#ensure all Plotly plots render while offline\n",
    "import matplotlib.pyplot as plt\n",
    "import seaborn as sb\n",
    "\n",
    "from plotly.offline import iplot, init_notebook_mode\n",
    "import plotly.graph_objects as go\n",
    "import plotly.express as px\n",
    "\n",
    "init_notebook_mode(connected=True)\n",
    "\n",
    "%matplotlib inline"
   ]
  },
  {
   "cell_type": "code",
   "execution_count": null,
   "id": "25efec9c",
   "metadata": {},
   "outputs": [],
   "source": [
    "#custom function to read data into Pandas DataFrame\n",
    "def open_set(csv, sep=','):\n",
    "    df = pd.read_csv(csv, low_memory=False)\n",
    "    \n",
    "    return df"
   ]
  },
  {
   "cell_type": "code",
   "execution_count": null,
   "id": "7ba4e9e4",
   "metadata": {},
   "outputs": [],
   "source": [
    "df_animes = open_set('data/animes.csv') \n",
    "df_reviews = open_set('data/reviews.csv')\n",
    "df_users = open_set('data/users.csv')"
   ]
  },
  {
   "cell_type": "code",
   "execution_count": null,
   "id": "fd848a9b",
   "metadata": {},
   "outputs": [],
   "source": [
    "df_animes"
   ]
  },
  {
   "cell_type": "code",
   "execution_count": null,
   "id": "94a81f23",
   "metadata": {},
   "outputs": [],
   "source": [
    "df_animes.info()"
   ]
  },
  {
   "cell_type": "code",
   "execution_count": null,
   "id": "b83a2892",
   "metadata": {},
   "outputs": [],
   "source": []
  },
  {
   "cell_type": "code",
   "execution_count": null,
   "id": "1961838b",
   "metadata": {},
   "outputs": [],
   "source": []
  },
  {
   "cell_type": "code",
   "execution_count": null,
   "id": "98175165",
   "metadata": {},
   "outputs": [],
   "source": [
    "df_users"
   ]
  },
  {
   "cell_type": "code",
   "execution_count": null,
   "id": "3efecf0a",
   "metadata": {},
   "outputs": [],
   "source": [
    "df_users.info()"
   ]
  },
  {
   "cell_type": "code",
   "execution_count": null,
   "id": "882cc2fa",
   "metadata": {},
   "outputs": [],
   "source": []
  },
  {
   "cell_type": "code",
   "execution_count": null,
   "id": "d2bbe323",
   "metadata": {},
   "outputs": [],
   "source": []
  },
  {
   "cell_type": "code",
   "execution_count": null,
   "id": "ad53b026",
   "metadata": {
    "scrolled": false
   },
   "outputs": [],
   "source": [
    "df_reviews"
   ]
  },
  {
   "cell_type": "code",
   "execution_count": null,
   "id": "947d3e00",
   "metadata": {},
   "outputs": [],
   "source": [
    "df_reviews.info()"
   ]
  },
  {
   "cell_type": "code",
   "execution_count": null,
   "id": "3c472125",
   "metadata": {},
   "outputs": [],
   "source": []
  },
  {
   "cell_type": "code",
   "execution_count": null,
   "id": "206c5d4c",
   "metadata": {},
   "outputs": [],
   "source": []
  },
  {
   "cell_type": "code",
   "execution_count": null,
   "id": "e4f30003",
   "metadata": {},
   "outputs": [],
   "source": [
    "\n",
    "def splitter(df):\n",
    "    df['Overall'] = (df.scores.str.split(\"'\", expand=True)[3]).astype(int)\n",
    "    df['Story'] = df.scores.str.split(\"'\", expand=True)[7].astype(int)\n",
    "    df['Animation'] = df.scores.str.split(\"'\", expand=True)[11].astype(int)\n",
    "    df['Music'] = df.scores.str.split(\"'\", expand=True)[15].astype(int)\n",
    "    df['Character Development'] = df.scores.str.split(\"'\", expand=True)[19].astype(int)\n",
    "    df['Enjoyment'] = df.scores.str.split(\"'\", expand=True)[23].astype(int)"
   ]
  },
  {
   "cell_type": "code",
   "execution_count": null,
   "id": "266d8f58",
   "metadata": {
    "scrolled": true
   },
   "outputs": [],
   "source": [
    "splitter(df_reviews)"
   ]
  },
  {
   "cell_type": "code",
   "execution_count": null,
   "id": "6ec4918f",
   "metadata": {},
   "outputs": [],
   "source": [
    "df_reviews.drop(columns=['uid', 'profile', 'link', 'scores', 'score'], inplace=True)"
   ]
  },
  {
   "cell_type": "code",
   "execution_count": null,
   "id": "837c5164",
   "metadata": {},
   "outputs": [],
   "source": []
  },
  {
   "cell_type": "code",
   "execution_count": null,
   "id": "c9f740bd",
   "metadata": {},
   "outputs": [],
   "source": []
  },
  {
   "cell_type": "code",
   "execution_count": null,
   "id": "0556178b",
   "metadata": {},
   "outputs": [],
   "source": []
  },
  {
   "cell_type": "code",
   "execution_count": null,
   "id": "949135e3",
   "metadata": {
    "scrolled": false
   },
   "outputs": [],
   "source": [
    "df_reviews['Overall'] = df_reviews.iloc[:, 3:7].mean(axis=1)"
   ]
  },
  {
   "cell_type": "code",
   "execution_count": null,
   "id": "a946620e",
   "metadata": {},
   "outputs": [],
   "source": [
    "df_reviews"
   ]
  },
  {
   "cell_type": "code",
   "execution_count": null,
   "id": "cfc151ae",
   "metadata": {},
   "outputs": [],
   "source": []
  },
  {
   "cell_type": "code",
   "execution_count": null,
   "id": "11cb861f",
   "metadata": {},
   "outputs": [],
   "source": []
  },
  {
   "cell_type": "code",
   "execution_count": null,
   "id": "1963a838",
   "metadata": {},
   "outputs": [],
   "source": []
  },
  {
   "cell_type": "code",
   "execution_count": null,
   "id": "0f20eda8",
   "metadata": {},
   "outputs": [],
   "source": []
  },
  {
   "cell_type": "code",
   "execution_count": null,
   "id": "449f64ec",
   "metadata": {},
   "outputs": [],
   "source": []
  },
  {
   "cell_type": "code",
   "execution_count": null,
   "id": "07c94102",
   "metadata": {},
   "outputs": [],
   "source": [
    "df_anime_reviews = pd.merge(df_animes, df_reviews, how='inner', left_on='anime_id', right_on='anime_uid')"
   ]
  },
  {
   "cell_type": "code",
   "execution_count": null,
   "id": "da7ad415",
   "metadata": {},
   "outputs": [],
   "source": [
    "df_anime_reviews"
   ]
  },
  {
   "cell_type": "code",
   "execution_count": null,
   "id": "42a6f155",
   "metadata": {},
   "outputs": [],
   "source": [
    "df_anime_reviews.info()"
   ]
  },
  {
   "cell_type": "code",
   "execution_count": null,
   "id": "98a2dbae",
   "metadata": {},
   "outputs": [],
   "source": [
    "df_anime_reviews.drop(columns=['title_japanese','title_synonyms',\n",
    "       'airing', 'aired_string', 'aired', 'background', 'broadcast', 'related', 'producer', 'licensor', 'opening_theme', 'ending_theme', 'anime_uid'], inplace=True)"
   ]
  },
  {
   "cell_type": "code",
   "execution_count": null,
   "id": "83d216ea",
   "metadata": {},
   "outputs": [],
   "source": [
    "df_anime_reviews"
   ]
  },
  {
   "cell_type": "code",
   "execution_count": null,
   "id": "c36b7f4f",
   "metadata": {
    "scrolled": true
   },
   "outputs": [],
   "source": [
    "df_anime_reviews.groupby('studio')['Animation'].mean().nlargest(20)"
   ]
  },
  {
   "cell_type": "code",
   "execution_count": null,
   "id": "9dcb8b64",
   "metadata": {},
   "outputs": [],
   "source": []
  },
  {
   "cell_type": "code",
   "execution_count": null,
   "id": "248278b7",
   "metadata": {},
   "outputs": [],
   "source": []
  },
  {
   "cell_type": "code",
   "execution_count": null,
   "id": "efa743a8",
   "metadata": {},
   "outputs": [],
   "source": []
  },
  {
   "cell_type": "code",
   "execution_count": null,
   "id": "b64d0428",
   "metadata": {},
   "outputs": [],
   "source": []
  }
 ],
 "metadata": {
  "kernelspec": {
   "display_name": "Python 3 (ipykernel)",
   "language": "python",
   "name": "python3"
  },
  "language_info": {
   "codemirror_mode": {
    "name": "ipython",
    "version": 3
   },
   "file_extension": ".py",
   "mimetype": "text/x-python",
   "name": "python",
   "nbconvert_exporter": "python",
   "pygments_lexer": "ipython3",
   "version": "3.9.12"
  },
  "vscode": {
   "interpreter": {
    "hash": "029b569da63376c84d57b341ad8d5c496a855b1e8c2df7461c7a700257a3b569"
   }
  }
 },
 "nbformat": 4,
 "nbformat_minor": 5
}
