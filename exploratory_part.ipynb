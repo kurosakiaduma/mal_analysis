{
 "cells": [
  {
   "cell_type": "code",
   "execution_count": 1,
   "id": "8148a43c",
   "metadata": {},
   "outputs": [
    {
     "data": {
      "text/html": [
       "        <script type=\"text/javascript\">\n",
       "        window.PlotlyConfig = {MathJaxConfig: 'local'};\n",
       "        if (window.MathJax) {MathJax.Hub.Config({SVG: {font: \"STIX-Web\"}});}\n",
       "        if (typeof require !== 'undefined') {\n",
       "        require.undef(\"plotly\");\n",
       "        requirejs.config({\n",
       "            paths: {\n",
       "                'plotly': ['https://cdn.plot.ly/plotly-2.9.0.min']\n",
       "            }\n",
       "        });\n",
       "        require(['plotly'], function(Plotly) {\n",
       "            window._Plotly = Plotly;\n",
       "        });\n",
       "        }\n",
       "        </script>\n",
       "        "
      ]
     },
     "metadata": {},
     "output_type": "display_data"
    }
   ],
   "source": [
    "from wordcloud import WordCloud\n",
    "import os\n",
    "\n",
    "import pandas as pd\n",
    "import numpy as np\n",
    "import re\n",
    "\n",
    "#ensure all Plotly plots render while offline\n",
    "import matplotlib.pyplot as plt\n",
    "import seaborn as sb\n",
    "\n",
    "from plotly.offline import iplot, init_notebook_mode\n",
    "import plotly.graph_objects as go\n",
    "import plotly.express as px\n",
    "\n",
    "init_notebook_mode(connected=True)\n",
    "\n",
    "%matplotlib inline"
   ]
  },
  {
   "cell_type": "code",
   "execution_count": null,
   "id": "afdd0c94",
   "metadata": {},
   "outputs": [],
   "source": []
  },
  {
   "cell_type": "code",
   "execution_count": null,
   "id": "8e2d75b2",
   "metadata": {},
   "outputs": [],
   "source": []
  },
  {
   "cell_type": "code",
   "execution_count": 17,
   "id": "25efec9c",
   "metadata": {},
   "outputs": [],
   "source": [
    "#custom function to read data into Pandas DataFrame\n",
    "def open_set(csv, sep=',', encoding='utf-8', usecols=None):\n",
    "    df = pd.read_csv('data/'+csv, low_memory=False, encoding=encoding)\n",
    "    \n",
    "    return df"
   ]
  },
  {
   "cell_type": "code",
   "execution_count": 21,
   "id": "66acd3a9",
   "metadata": {},
   "outputs": [],
   "source": [
    "df_animes = open_set('animes_cleaned.csv')\n",
    "df_reviews = open_set('reviews_cleaned.csv', encoding='latin', usecols=[0,1,2,3,4,5,6,7,8,9,10,11,12,13,14])\n",
    "df_users = open_set('users_cleaned.csv')\n"
   ]
  },
  {
   "cell_type": "code",
   "execution_count": null,
   "id": "6a7fbeba",
   "metadata": {},
   "outputs": [],
   "source": []
  },
  {
   "cell_type": "code",
   "execution_count": null,
   "id": "c4393099",
   "metadata": {},
   "outputs": [],
   "source": []
  },
  {
   "cell_type": "code",
   "execution_count": 49,
   "id": "480ea49b",
   "metadata": {},
   "outputs": [],
   "source": [
    "def describe_pretty(x):\n",
    "    if type(x) == float:\n",
    "        x = f'{x:.1f}'\n",
    "    elif type(x) == str:\n",
    "        x = x\n",
    "    \n",
    "    return x"
   ]
  },
  {
   "cell_type": "code",
   "execution_count": null,
   "id": "2027af2e",
   "metadata": {},
   "outputs": [],
   "source": []
  },
  {
   "cell_type": "code",
   "execution_count": null,
   "id": "d8c7adbc",
   "metadata": {},
   "outputs": [],
   "source": []
  },
  {
   "cell_type": "code",
   "execution_count": 50,
   "id": "bd74891c",
   "metadata": {},
   "outputs": [
    {
     "name": "stdout",
     "output_type": "stream",
     "text": [
      "<class 'pandas.core.frame.DataFrame'>\n",
      "RangeIndex: 7158 entries, 0 to 7157\n",
      "Data columns (total 20 columns):\n",
      " #   Column           Non-Null Count  Dtype  \n",
      "---  ------           --------------  -----  \n",
      " 0   anime_id         7158 non-null   int64  \n",
      " 1   title            7158 non-null   object \n",
      " 2   genre            7158 non-null   object \n",
      " 3   studio           7158 non-null   object \n",
      " 4   premiered        7158 non-null   object \n",
      " 5   type             7158 non-null   object \n",
      " 6   source           7158 non-null   object \n",
      " 7   episodes         7158 non-null   int64  \n",
      " 8   status           7158 non-null   object \n",
      " 9   rank             7158 non-null   int64  \n",
      " 10  image_url        7157 non-null   object \n",
      " 11  rating           7158 non-null   object \n",
      " 12  score            7158 non-null   float64\n",
      " 13  scored_by        7158 non-null   int64  \n",
      " 14  score_rank       7158 non-null   int64  \n",
      " 15  popularity       7158 non-null   int64  \n",
      " 16  popularity_rank  7158 non-null   int64  \n",
      " 17  members          7158 non-null   int64  \n",
      " 18  favorites        7158 non-null   int64  \n",
      " 19  avg_rank_score   7158 non-null   float64\n",
      "dtypes: float64(2), int64(9), object(9)\n",
      "memory usage: 1.1+ MB\n"
     ]
    },
    {
     "data": {
      "text/html": [
       "<div>\n",
       "<style scoped>\n",
       "    .dataframe tbody tr th:only-of-type {\n",
       "        vertical-align: middle;\n",
       "    }\n",
       "\n",
       "    .dataframe tbody tr th {\n",
       "        vertical-align: top;\n",
       "    }\n",
       "\n",
       "    .dataframe thead th {\n",
       "        text-align: right;\n",
       "    }\n",
       "</style>\n",
       "<table border=\"1\" class=\"dataframe\">\n",
       "  <thead>\n",
       "    <tr style=\"text-align: right;\">\n",
       "      <th></th>\n",
       "      <th>anime_id</th>\n",
       "      <th>title</th>\n",
       "      <th>genre</th>\n",
       "      <th>studio</th>\n",
       "      <th>premiered</th>\n",
       "      <th>type</th>\n",
       "      <th>source</th>\n",
       "      <th>episodes</th>\n",
       "      <th>status</th>\n",
       "      <th>rank</th>\n",
       "      <th>image_url</th>\n",
       "      <th>rating</th>\n",
       "      <th>score</th>\n",
       "      <th>scored_by</th>\n",
       "      <th>score_rank</th>\n",
       "      <th>popularity</th>\n",
       "      <th>popularity_rank</th>\n",
       "      <th>members</th>\n",
       "      <th>favorites</th>\n",
       "      <th>avg_rank_score</th>\n",
       "    </tr>\n",
       "  </thead>\n",
       "  <tbody>\n",
       "    <tr>\n",
       "      <th>0</th>\n",
       "      <td>5114</td>\n",
       "      <td>Fullmetal Alchemist: Brotherhood</td>\n",
       "      <td>Action</td>\n",
       "      <td>Bones</td>\n",
       "      <td>Spring 2009</td>\n",
       "      <td>TV</td>\n",
       "      <td>Manga</td>\n",
       "      <td>64</td>\n",
       "      <td>Finished Airing</td>\n",
       "      <td>1</td>\n",
       "      <td>https://myanimelist.cdn-dena.com/images/anime/...</td>\n",
       "      <td>R - 17+ (violence &amp; profanity)</td>\n",
       "      <td>9.25</td>\n",
       "      <td>733592</td>\n",
       "      <td>2</td>\n",
       "      <td>4</td>\n",
       "      <td>4</td>\n",
       "      <td>1199091</td>\n",
       "      <td>106895</td>\n",
       "      <td>3.0</td>\n",
       "    </tr>\n",
       "    <tr>\n",
       "      <th>1</th>\n",
       "      <td>9253</td>\n",
       "      <td>Steins;Gate</td>\n",
       "      <td>Thriller</td>\n",
       "      <td>White Fox</td>\n",
       "      <td>Spring 2011</td>\n",
       "      <td>TV</td>\n",
       "      <td>Visual novel</td>\n",
       "      <td>24</td>\n",
       "      <td>Finished Airing</td>\n",
       "      <td>2</td>\n",
       "      <td>https://myanimelist.cdn-dena.com/images/anime/...</td>\n",
       "      <td>PG-13 - Teens 13 or older</td>\n",
       "      <td>9.14</td>\n",
       "      <td>563857</td>\n",
       "      <td>5</td>\n",
       "      <td>8</td>\n",
       "      <td>8</td>\n",
       "      <td>1010330</td>\n",
       "      <td>92423</td>\n",
       "      <td>6.5</td>\n",
       "    </tr>\n",
       "    <tr>\n",
       "      <th>2</th>\n",
       "      <td>1575</td>\n",
       "      <td>Code Geass: Hangyaku no Lelouch</td>\n",
       "      <td>Action</td>\n",
       "      <td>Sunrise</td>\n",
       "      <td>Spring 2006</td>\n",
       "      <td>TV</td>\n",
       "      <td>Original</td>\n",
       "      <td>25</td>\n",
       "      <td>Finished Airing</td>\n",
       "      <td>3</td>\n",
       "      <td>https://myanimelist.cdn-dena.com/images/anime/...</td>\n",
       "      <td>R - 17+ (violence &amp; profanity)</td>\n",
       "      <td>8.79</td>\n",
       "      <td>627740</td>\n",
       "      <td>22</td>\n",
       "      <td>9</td>\n",
       "      <td>9</td>\n",
       "      <td>986897</td>\n",
       "      <td>63614</td>\n",
       "      <td>15.5</td>\n",
       "    </tr>\n",
       "    <tr>\n",
       "      <th>3</th>\n",
       "      <td>30276</td>\n",
       "      <td>One Punch Man</td>\n",
       "      <td>Action</td>\n",
       "      <td>Madhouse</td>\n",
       "      <td>Spring 2015</td>\n",
       "      <td>TV</td>\n",
       "      <td>Web manga</td>\n",
       "      <td>12</td>\n",
       "      <td>Finished Airing</td>\n",
       "      <td>4</td>\n",
       "      <td>https://myanimelist.cdn-dena.com/images/anime/...</td>\n",
       "      <td>R - 17+ (violence &amp; profanity)</td>\n",
       "      <td>8.73</td>\n",
       "      <td>691845</td>\n",
       "      <td>27</td>\n",
       "      <td>5</td>\n",
       "      <td>5</td>\n",
       "      <td>1020754</td>\n",
       "      <td>30747</td>\n",
       "      <td>16.0</td>\n",
       "    </tr>\n",
       "    <tr>\n",
       "      <th>4</th>\n",
       "      <td>1535</td>\n",
       "      <td>Death Note</td>\n",
       "      <td>Mystery</td>\n",
       "      <td>Madhouse</td>\n",
       "      <td>Spring 2006</td>\n",
       "      <td>TV</td>\n",
       "      <td>Manga</td>\n",
       "      <td>37</td>\n",
       "      <td>Finished Airing</td>\n",
       "      <td>4</td>\n",
       "      <td>https://myanimelist.cdn-dena.com/images/anime/...</td>\n",
       "      <td>R - 17+ (violence &amp; profanity)</td>\n",
       "      <td>8.67</td>\n",
       "      <td>1009477</td>\n",
       "      <td>31</td>\n",
       "      <td>1</td>\n",
       "      <td>1</td>\n",
       "      <td>1456378</td>\n",
       "      <td>88696</td>\n",
       "      <td>16.0</td>\n",
       "    </tr>\n",
       "  </tbody>\n",
       "</table>\n",
       "</div>"
      ],
      "text/plain": [
       "   anime_id                             title     genre     studio  \\\n",
       "0      5114  Fullmetal Alchemist: Brotherhood    Action      Bones   \n",
       "1      9253                       Steins;Gate  Thriller  White Fox   \n",
       "2      1575   Code Geass: Hangyaku no Lelouch    Action    Sunrise   \n",
       "3     30276                     One Punch Man    Action   Madhouse   \n",
       "4      1535                        Death Note   Mystery   Madhouse   \n",
       "\n",
       "     premiered type        source  episodes           status  rank  \\\n",
       "0  Spring 2009   TV         Manga        64  Finished Airing     1   \n",
       "1  Spring 2011   TV  Visual novel        24  Finished Airing     2   \n",
       "2  Spring 2006   TV      Original        25  Finished Airing     3   \n",
       "3  Spring 2015   TV     Web manga        12  Finished Airing     4   \n",
       "4  Spring 2006   TV         Manga        37  Finished Airing     4   \n",
       "\n",
       "                                           image_url  \\\n",
       "0  https://myanimelist.cdn-dena.com/images/anime/...   \n",
       "1  https://myanimelist.cdn-dena.com/images/anime/...   \n",
       "2  https://myanimelist.cdn-dena.com/images/anime/...   \n",
       "3  https://myanimelist.cdn-dena.com/images/anime/...   \n",
       "4  https://myanimelist.cdn-dena.com/images/anime/...   \n",
       "\n",
       "                           rating  score  scored_by  score_rank  popularity  \\\n",
       "0  R - 17+ (violence & profanity)   9.25     733592           2           4   \n",
       "1       PG-13 - Teens 13 or older   9.14     563857           5           8   \n",
       "2  R - 17+ (violence & profanity)   8.79     627740          22           9   \n",
       "3  R - 17+ (violence & profanity)   8.73     691845          27           5   \n",
       "4  R - 17+ (violence & profanity)   8.67    1009477          31           1   \n",
       "\n",
       "   popularity_rank  members  favorites  avg_rank_score  \n",
       "0                4  1199091     106895             3.0  \n",
       "1                8  1010330      92423             6.5  \n",
       "2                9   986897      63614            15.5  \n",
       "3                5  1020754      30747            16.0  \n",
       "4                1  1456378      88696            16.0  "
      ]
     },
     "metadata": {},
     "output_type": "display_data"
    },
    {
     "data": {
      "text/plain": [
       "None"
      ]
     },
     "metadata": {},
     "output_type": "display_data"
    },
    {
     "data": {
      "text/html": [
       "<div>\n",
       "<style scoped>\n",
       "    .dataframe tbody tr th:only-of-type {\n",
       "        vertical-align: middle;\n",
       "    }\n",
       "\n",
       "    .dataframe tbody tr th {\n",
       "        vertical-align: top;\n",
       "    }\n",
       "\n",
       "    .dataframe thead th {\n",
       "        text-align: right;\n",
       "    }\n",
       "</style>\n",
       "<table border=\"1\" class=\"dataframe\">\n",
       "  <thead>\n",
       "    <tr style=\"text-align: right;\">\n",
       "      <th></th>\n",
       "      <th>anime_id</th>\n",
       "      <th>episodes</th>\n",
       "      <th>rank</th>\n",
       "      <th>score</th>\n",
       "      <th>scored_by</th>\n",
       "      <th>score_rank</th>\n",
       "      <th>popularity</th>\n",
       "      <th>popularity_rank</th>\n",
       "      <th>members</th>\n",
       "      <th>favorites</th>\n",
       "      <th>avg_rank_score</th>\n",
       "    </tr>\n",
       "  </thead>\n",
       "  <tbody>\n",
       "    <tr>\n",
       "      <th>count</th>\n",
       "      <td>7158.0</td>\n",
       "      <td>7158.0</td>\n",
       "      <td>7158.0</td>\n",
       "      <td>7158.0</td>\n",
       "      <td>7158.0</td>\n",
       "      <td>7158.0</td>\n",
       "      <td>7158.0</td>\n",
       "      <td>7158.0</td>\n",
       "      <td>7158.0</td>\n",
       "      <td>7158.0</td>\n",
       "      <td>7158.0</td>\n",
       "    </tr>\n",
       "    <tr>\n",
       "      <th>mean</th>\n",
       "      <td>15655.7</td>\n",
       "      <td>12.2</td>\n",
       "      <td>3579.0</td>\n",
       "      <td>6.7</td>\n",
       "      <td>22267.6</td>\n",
       "      <td>218.3</td>\n",
       "      <td>4649.9</td>\n",
       "      <td>3057.5</td>\n",
       "      <td>44227.3</td>\n",
       "      <td>613.5</td>\n",
       "      <td>1637.9</td>\n",
       "    </tr>\n",
       "    <tr>\n",
       "      <th>std</th>\n",
       "      <td>12982.9</td>\n",
       "      <td>31.0</td>\n",
       "      <td>2066.5</td>\n",
       "      <td>1.2</td>\n",
       "      <td>58877.2</td>\n",
       "      <td>94.2</td>\n",
       "      <td>3487.5</td>\n",
       "      <td>1765.0</td>\n",
       "      <td>101546.2</td>\n",
       "      <td>3682.4</td>\n",
       "      <td>914.3</td>\n",
       "    </tr>\n",
       "    <tr>\n",
       "      <th>min</th>\n",
       "      <td>1.0</td>\n",
       "      <td>0.0</td>\n",
       "      <td>1.0</td>\n",
       "      <td>0.0</td>\n",
       "      <td>0.0</td>\n",
       "      <td>1.0</td>\n",
       "      <td>1.0</td>\n",
       "      <td>1.0</td>\n",
       "      <td>16.0</td>\n",
       "      <td>0.0</td>\n",
       "      <td>3.0</td>\n",
       "    </tr>\n",
       "    <tr>\n",
       "      <th>25%</th>\n",
       "      <td>3078.5</td>\n",
       "      <td>1.0</td>\n",
       "      <td>1790.0</td>\n",
       "      <td>6.3</td>\n",
       "      <td>555.0</td>\n",
       "      <td>154.0</td>\n",
       "      <td>1830.2</td>\n",
       "      <td>1550.2</td>\n",
       "      <td>1998.0</td>\n",
       "      <td>2.0</td>\n",
       "      <td>863.5</td>\n",
       "    </tr>\n",
       "    <tr>\n",
       "      <th>50%</th>\n",
       "      <td>11506.0</td>\n",
       "      <td>4.0</td>\n",
       "      <td>3579.5</td>\n",
       "      <td>6.9</td>\n",
       "      <td>3328.0</td>\n",
       "      <td>210.0</td>\n",
       "      <td>3845.5</td>\n",
       "      <td>3031.5</td>\n",
       "      <td>9020.5</td>\n",
       "      <td>16.0</td>\n",
       "      <td>1621.8</td>\n",
       "    </tr>\n",
       "    <tr>\n",
       "      <th>75%</th>\n",
       "      <td>30190.0</td>\n",
       "      <td>13.0</td>\n",
       "      <td>5368.0</td>\n",
       "      <td>7.4</td>\n",
       "      <td>17143.5</td>\n",
       "      <td>268.0</td>\n",
       "      <td>6858.8</td>\n",
       "      <td>4553.8</td>\n",
       "      <td>38315.0</td>\n",
       "      <td>115.0</td>\n",
       "      <td>2409.0</td>\n",
       "    </tr>\n",
       "    <tr>\n",
       "      <th>max</th>\n",
       "      <td>37916.0</td>\n",
       "      <td>1818.0</td>\n",
       "      <td>7158.0</td>\n",
       "      <td>9.5</td>\n",
       "      <td>1009477.0</td>\n",
       "      <td>510.0</td>\n",
       "      <td>14456.0</td>\n",
       "      <td>6231.0</td>\n",
       "      <td>1456378.0</td>\n",
       "      <td>106895.0</td>\n",
       "      <td>3370.5</td>\n",
       "    </tr>\n",
       "  </tbody>\n",
       "</table>\n",
       "</div>"
      ],
      "text/plain": [
       "      anime_id episodes    rank   score  scored_by score_rank popularity  \\\n",
       "count   7158.0   7158.0  7158.0  7158.0     7158.0     7158.0     7158.0   \n",
       "mean   15655.7     12.2  3579.0     6.7    22267.6      218.3     4649.9   \n",
       "std    12982.9     31.0  2066.5     1.2    58877.2       94.2     3487.5   \n",
       "min        1.0      0.0     1.0     0.0        0.0        1.0        1.0   \n",
       "25%     3078.5      1.0  1790.0     6.3      555.0      154.0     1830.2   \n",
       "50%    11506.0      4.0  3579.5     6.9     3328.0      210.0     3845.5   \n",
       "75%    30190.0     13.0  5368.0     7.4    17143.5      268.0     6858.8   \n",
       "max    37916.0   1818.0  7158.0     9.5  1009477.0      510.0    14456.0   \n",
       "\n",
       "      popularity_rank    members favorites avg_rank_score  \n",
       "count          7158.0     7158.0    7158.0         7158.0  \n",
       "mean           3057.5    44227.3     613.5         1637.9  \n",
       "std            1765.0   101546.2    3682.4          914.3  \n",
       "min               1.0       16.0       0.0            3.0  \n",
       "25%            1550.2     1998.0       2.0          863.5  \n",
       "50%            3031.5     9020.5      16.0         1621.8  \n",
       "75%            4553.8    38315.0     115.0         2409.0  \n",
       "max            6231.0  1456378.0  106895.0         3370.5  "
      ]
     },
     "metadata": {},
     "output_type": "display_data"
    },
    {
     "name": "stdout",
     "output_type": "stream",
     "text": [
      "<class 'pandas.core.frame.DataFrame'>\n",
      "RangeIndex: 137901 entries, 0 to 137900\n",
      "Data columns (total 13 columns):\n",
      " #   Column                  Non-Null Count   Dtype  \n",
      "---  ------                  --------------   -----  \n",
      " 0   gender                  137901 non-null  object \n",
      " 1   age                     137901 non-null  int64  \n",
      " 2   age_group               137901 non-null  object \n",
      " 3   stats_mean_score        137901 non-null  float64\n",
      " 4   episodes_watched        137901 non-null  int64  \n",
      " 5   days_spent_watching     137901 non-null  float64\n",
      " 6   watching                137901 non-null  int64  \n",
      " 7   completed               137901 non-null  int64  \n",
      " 8   dropped                 137901 non-null  int64  \n",
      " 9   on_hold                 137901 non-null  int64  \n",
      " 10  plan_to_watch           137901 non-null  int64  \n",
      " 11  rewatched               137901 non-null  int64  \n",
      " 12  total_anime_engagement  137901 non-null  int64  \n",
      "dtypes: float64(2), int64(9), object(2)\n",
      "memory usage: 13.7+ MB\n"
     ]
    },
    {
     "data": {
      "text/html": [
       "<div>\n",
       "<style scoped>\n",
       "    .dataframe tbody tr th:only-of-type {\n",
       "        vertical-align: middle;\n",
       "    }\n",
       "\n",
       "    .dataframe tbody tr th {\n",
       "        vertical-align: top;\n",
       "    }\n",
       "\n",
       "    .dataframe thead th {\n",
       "        text-align: right;\n",
       "    }\n",
       "</style>\n",
       "<table border=\"1\" class=\"dataframe\">\n",
       "  <thead>\n",
       "    <tr style=\"text-align: right;\">\n",
       "      <th></th>\n",
       "      <th>gender</th>\n",
       "      <th>age</th>\n",
       "      <th>age_group</th>\n",
       "      <th>stats_mean_score</th>\n",
       "      <th>episodes_watched</th>\n",
       "      <th>days_spent_watching</th>\n",
       "      <th>watching</th>\n",
       "      <th>completed</th>\n",
       "      <th>dropped</th>\n",
       "      <th>on_hold</th>\n",
       "      <th>plan_to_watch</th>\n",
       "      <th>rewatched</th>\n",
       "      <th>total_anime_engagement</th>\n",
       "    </tr>\n",
       "  </thead>\n",
       "  <tbody>\n",
       "    <tr>\n",
       "      <th>0</th>\n",
       "      <td>Female</td>\n",
       "      <td>32</td>\n",
       "      <td>Seniors</td>\n",
       "      <td>7.43</td>\n",
       "      <td>3391</td>\n",
       "      <td>55.31</td>\n",
       "      <td>3</td>\n",
       "      <td>49</td>\n",
       "      <td>0</td>\n",
       "      <td>1</td>\n",
       "      <td>0</td>\n",
       "      <td>0</td>\n",
       "      <td>53</td>\n",
       "    </tr>\n",
       "    <tr>\n",
       "      <th>1</th>\n",
       "      <td>Female</td>\n",
       "      <td>23</td>\n",
       "      <td>Youth</td>\n",
       "      <td>9.13</td>\n",
       "      <td>2978</td>\n",
       "      <td>49.44</td>\n",
       "      <td>13</td>\n",
       "      <td>21</td>\n",
       "      <td>0</td>\n",
       "      <td>7</td>\n",
       "      <td>12</td>\n",
       "      <td>15</td>\n",
       "      <td>53</td>\n",
       "    </tr>\n",
       "    <tr>\n",
       "      <th>2</th>\n",
       "      <td>Male</td>\n",
       "      <td>28</td>\n",
       "      <td>Young Adults</td>\n",
       "      <td>8.49</td>\n",
       "      <td>2774</td>\n",
       "      <td>47.61</td>\n",
       "      <td>0</td>\n",
       "      <td>43</td>\n",
       "      <td>1</td>\n",
       "      <td>1</td>\n",
       "      <td>8</td>\n",
       "      <td>33</td>\n",
       "      <td>53</td>\n",
       "    </tr>\n",
       "    <tr>\n",
       "      <th>3</th>\n",
       "      <td>Male</td>\n",
       "      <td>30</td>\n",
       "      <td>Young Adults</td>\n",
       "      <td>7.10</td>\n",
       "      <td>1554</td>\n",
       "      <td>25.58</td>\n",
       "      <td>5</td>\n",
       "      <td>21</td>\n",
       "      <td>7</td>\n",
       "      <td>1</td>\n",
       "      <td>19</td>\n",
       "      <td>4</td>\n",
       "      <td>53</td>\n",
       "    </tr>\n",
       "    <tr>\n",
       "      <th>4</th>\n",
       "      <td>Male</td>\n",
       "      <td>27</td>\n",
       "      <td>Young Adults</td>\n",
       "      <td>7.59</td>\n",
       "      <td>923</td>\n",
       "      <td>15.36</td>\n",
       "      <td>0</td>\n",
       "      <td>25</td>\n",
       "      <td>0</td>\n",
       "      <td>5</td>\n",
       "      <td>23</td>\n",
       "      <td>0</td>\n",
       "      <td>53</td>\n",
       "    </tr>\n",
       "  </tbody>\n",
       "</table>\n",
       "</div>"
      ],
      "text/plain": [
       "   gender  age     age_group  stats_mean_score  episodes_watched  \\\n",
       "0  Female   32       Seniors              7.43              3391   \n",
       "1  Female   23         Youth              9.13              2978   \n",
       "2    Male   28  Young Adults              8.49              2774   \n",
       "3    Male   30  Young Adults              7.10              1554   \n",
       "4    Male   27  Young Adults              7.59               923   \n",
       "\n",
       "   days_spent_watching  watching  completed  dropped  on_hold  plan_to_watch  \\\n",
       "0                55.31         3         49        0        1              0   \n",
       "1                49.44        13         21        0        7             12   \n",
       "2                47.61         0         43        1        1              8   \n",
       "3                25.58         5         21        7        1             19   \n",
       "4                15.36         0         25        0        5             23   \n",
       "\n",
       "   rewatched  total_anime_engagement  \n",
       "0          0                      53  \n",
       "1         15                      53  \n",
       "2         33                      53  \n",
       "3          4                      53  \n",
       "4          0                      53  "
      ]
     },
     "metadata": {},
     "output_type": "display_data"
    },
    {
     "data": {
      "text/plain": [
       "None"
      ]
     },
     "metadata": {},
     "output_type": "display_data"
    },
    {
     "data": {
      "text/html": [
       "<div>\n",
       "<style scoped>\n",
       "    .dataframe tbody tr th:only-of-type {\n",
       "        vertical-align: middle;\n",
       "    }\n",
       "\n",
       "    .dataframe tbody tr th {\n",
       "        vertical-align: top;\n",
       "    }\n",
       "\n",
       "    .dataframe thead th {\n",
       "        text-align: right;\n",
       "    }\n",
       "</style>\n",
       "<table border=\"1\" class=\"dataframe\">\n",
       "  <thead>\n",
       "    <tr style=\"text-align: right;\">\n",
       "      <th></th>\n",
       "      <th>age</th>\n",
       "      <th>stats_mean_score</th>\n",
       "      <th>episodes_watched</th>\n",
       "      <th>days_spent_watching</th>\n",
       "      <th>watching</th>\n",
       "      <th>completed</th>\n",
       "      <th>dropped</th>\n",
       "      <th>on_hold</th>\n",
       "      <th>plan_to_watch</th>\n",
       "      <th>rewatched</th>\n",
       "      <th>total_anime_engagement</th>\n",
       "    </tr>\n",
       "  </thead>\n",
       "  <tbody>\n",
       "    <tr>\n",
       "      <th>count</th>\n",
       "      <td>137901.0</td>\n",
       "      <td>137901.0</td>\n",
       "      <td>137901.0</td>\n",
       "      <td>137901.0</td>\n",
       "      <td>137901.0</td>\n",
       "      <td>137901.0</td>\n",
       "      <td>137901.0</td>\n",
       "      <td>137901.0</td>\n",
       "      <td>137901.0</td>\n",
       "      <td>137901.0</td>\n",
       "      <td>137901.0</td>\n",
       "    </tr>\n",
       "    <tr>\n",
       "      <th>mean</th>\n",
       "      <td>28.6</td>\n",
       "      <td>7.9</td>\n",
       "      <td>4414.5</td>\n",
       "      <td>68.0</td>\n",
       "      <td>14.1</td>\n",
       "      <td>177.0</td>\n",
       "      <td>11.0</td>\n",
       "      <td>10.4</td>\n",
       "      <td>63.5</td>\n",
       "      <td>12.5</td>\n",
       "      <td>275.9</td>\n",
       "    </tr>\n",
       "    <tr>\n",
       "      <th>std</th>\n",
       "      <td>4.9</td>\n",
       "      <td>0.9</td>\n",
       "      <td>46922.4</td>\n",
       "      <td>185.7</td>\n",
       "      <td>23.4</td>\n",
       "      <td>168.2</td>\n",
       "      <td>22.2</td>\n",
       "      <td>19.7</td>\n",
       "      <td>94.7</td>\n",
       "      <td>38.9</td>\n",
       "      <td>234.8</td>\n",
       "    </tr>\n",
       "    <tr>\n",
       "      <th>min</th>\n",
       "      <td>6.0</td>\n",
       "      <td>1.1</td>\n",
       "      <td>12.0</td>\n",
       "      <td>0.0</td>\n",
       "      <td>0.0</td>\n",
       "      <td>0.0</td>\n",
       "      <td>0.0</td>\n",
       "      <td>0.0</td>\n",
       "      <td>0.0</td>\n",
       "      <td>0.0</td>\n",
       "      <td>12.0</td>\n",
       "    </tr>\n",
       "    <tr>\n",
       "      <th>25%</th>\n",
       "      <td>25.0</td>\n",
       "      <td>7.4</td>\n",
       "      <td>1540.0</td>\n",
       "      <td>25.7</td>\n",
       "      <td>3.0</td>\n",
       "      <td>56.0</td>\n",
       "      <td>0.0</td>\n",
       "      <td>1.0</td>\n",
       "      <td>7.0</td>\n",
       "      <td>0.0</td>\n",
       "      <td>97.0</td>\n",
       "    </tr>\n",
       "    <tr>\n",
       "      <th>50%</th>\n",
       "      <td>28.0</td>\n",
       "      <td>7.9</td>\n",
       "      <td>3082.0</td>\n",
       "      <td>51.1</td>\n",
       "      <td>8.0</td>\n",
       "      <td>124.0</td>\n",
       "      <td>4.0</td>\n",
       "      <td>4.0</td>\n",
       "      <td>29.0</td>\n",
       "      <td>0.0</td>\n",
       "      <td>208.0</td>\n",
       "    </tr>\n",
       "    <tr>\n",
       "      <th>75%</th>\n",
       "      <td>31.0</td>\n",
       "      <td>8.4</td>\n",
       "      <td>5459.0</td>\n",
       "      <td>90.0</td>\n",
       "      <td>16.0</td>\n",
       "      <td>243.0</td>\n",
       "      <td>12.0</td>\n",
       "      <td>12.0</td>\n",
       "      <td>78.0</td>\n",
       "      <td>9.0</td>\n",
       "      <td>389.0</td>\n",
       "    </tr>\n",
       "    <tr>\n",
       "      <th>max</th>\n",
       "      <td>75.0</td>\n",
       "      <td>10.0</td>\n",
       "      <td>16791524.0</td>\n",
       "      <td>41753.9</td>\n",
       "      <td>1038.0</td>\n",
       "      <td>1250.0</td>\n",
       "      <td>793.0</td>\n",
       "      <td>678.0</td>\n",
       "      <td>1090.0</td>\n",
       "      <td>2076.0</td>\n",
       "      <td>1305.0</td>\n",
       "    </tr>\n",
       "  </tbody>\n",
       "</table>\n",
       "</div>"
      ],
      "text/plain": [
       "            age stats_mean_score episodes_watched days_spent_watching  \\\n",
       "count  137901.0         137901.0         137901.0            137901.0   \n",
       "mean       28.6              7.9           4414.5                68.0   \n",
       "std         4.9              0.9          46922.4               185.7   \n",
       "min         6.0              1.1             12.0                 0.0   \n",
       "25%        25.0              7.4           1540.0                25.7   \n",
       "50%        28.0              7.9           3082.0                51.1   \n",
       "75%        31.0              8.4           5459.0                90.0   \n",
       "max        75.0             10.0       16791524.0             41753.9   \n",
       "\n",
       "       watching completed   dropped   on_hold plan_to_watch rewatched  \\\n",
       "count  137901.0  137901.0  137901.0  137901.0      137901.0  137901.0   \n",
       "mean       14.1     177.0      11.0      10.4          63.5      12.5   \n",
       "std        23.4     168.2      22.2      19.7          94.7      38.9   \n",
       "min         0.0       0.0       0.0       0.0           0.0       0.0   \n",
       "25%         3.0      56.0       0.0       1.0           7.0       0.0   \n",
       "50%         8.0     124.0       4.0       4.0          29.0       0.0   \n",
       "75%        16.0     243.0      12.0      12.0          78.0       9.0   \n",
       "max      1038.0    1250.0     793.0     678.0        1090.0    2076.0   \n",
       "\n",
       "      total_anime_engagement  \n",
       "count               137901.0  \n",
       "mean                   275.9  \n",
       "std                    234.8  \n",
       "min                     12.0  \n",
       "25%                     97.0  \n",
       "50%                    208.0  \n",
       "75%                    389.0  \n",
       "max                   1305.0  "
      ]
     },
     "metadata": {},
     "output_type": "display_data"
    },
    {
     "name": "stdout",
     "output_type": "stream",
     "text": [
      "<class 'pandas.core.frame.DataFrame'>\n",
      "RangeIndex: 126100 entries, 0 to 126099\n",
      "Data columns (total 11 columns):\n",
      " #   Column                 Non-Null Count   Dtype \n",
      "---  ------                 --------------   ----- \n",
      " 0   title                  126100 non-null  object\n",
      " 1   text                   126100 non-null  object\n",
      " 2   Overall                126044 non-null  object\n",
      " 3   Story                  126044 non-null  object\n",
      " 4   Animation              126044 non-null  object\n",
      " 5   Music                  126044 non-null  object\n",
      " 6   Character Development  126044 non-null  object\n",
      " 7   Enjoyment              126044 non-null  object\n",
      " 8   polarity               126044 non-null  object\n",
      " 9   subjectivity           126040 non-null  object\n",
      " 10  attitude               126038 non-null  object\n",
      "dtypes: object(11)\n",
      "memory usage: 10.6+ MB\n"
     ]
    },
    {
     "data": {
      "text/html": [
       "<div>\n",
       "<style scoped>\n",
       "    .dataframe tbody tr th:only-of-type {\n",
       "        vertical-align: middle;\n",
       "    }\n",
       "\n",
       "    .dataframe tbody tr th {\n",
       "        vertical-align: top;\n",
       "    }\n",
       "\n",
       "    .dataframe thead th {\n",
       "        text-align: right;\n",
       "    }\n",
       "</style>\n",
       "<table border=\"1\" class=\"dataframe\">\n",
       "  <thead>\n",
       "    <tr style=\"text-align: right;\">\n",
       "      <th></th>\n",
       "      <th>title</th>\n",
       "      <th>text</th>\n",
       "      <th>Overall</th>\n",
       "      <th>Story</th>\n",
       "      <th>Animation</th>\n",
       "      <th>Music</th>\n",
       "      <th>Character Development</th>\n",
       "      <th>Enjoyment</th>\n",
       "      <th>polarity</th>\n",
       "      <th>subjectivity</th>\n",
       "      <th>attitude</th>\n",
       "    </tr>\n",
       "  </thead>\n",
       "  <tbody>\n",
       "    <tr>\n",
       "      <th>0</th>\n",
       "      <td>Made in Abyss</td>\n",
       "      <td>...</td>\n",
       "      <td>10</td>\n",
       "      <td>10</td>\n",
       "      <td>10</td>\n",
       "      <td>10</td>\n",
       "      <td>10</td>\n",
       "      <td>10</td>\n",
       "      <td>0.157887377</td>\n",
       "      <td>0.571908541</td>\n",
       "      <td>Positive</td>\n",
       "    </tr>\n",
       "    <tr>\n",
       "      <th>1</th>\n",
       "      <td>Made in Abyss</td>\n",
       "      <td>...</td>\n",
       "      <td>2</td>\n",
       "      <td>0</td>\n",
       "      <td>0</td>\n",
       "      <td>0</td>\n",
       "      <td>0</td>\n",
       "      <td>0</td>\n",
       "      <td>0.148181513</td>\n",
       "      <td>0.615992927</td>\n",
       "      <td>Positive</td>\n",
       "    </tr>\n",
       "    <tr>\n",
       "      <th>2</th>\n",
       "      <td>Made in Abyss</td>\n",
       "      <td>...</td>\n",
       "      <td>9.25</td>\n",
       "      <td>9</td>\n",
       "      <td>10</td>\n",
       "      <td>9</td>\n",
       "      <td>9</td>\n",
       "      <td>10</td>\n",
       "      <td>0.204097075</td>\n",
       "      <td>0.521248387</td>\n",
       "      <td>Positive</td>\n",
       "    </tr>\n",
       "    <tr>\n",
       "      <th>3</th>\n",
       "      <td>Made in Abyss</td>\n",
       "      <td>...</td>\n",
       "      <td>9.75</td>\n",
       "      <td>10</td>\n",
       "      <td>10</td>\n",
       "      <td>10</td>\n",
       "      <td>8</td>\n",
       "      <td>9</td>\n",
       "      <td>0.184404919</td>\n",
       "      <td>0.610297593</td>\n",
       "      <td>Positive</td>\n",
       "    </tr>\n",
       "    <tr>\n",
       "      <th>4</th>\n",
       "      <td>Made in Abyss</td>\n",
       "      <td>...</td>\n",
       "      <td>8.5</td>\n",
       "      <td>7</td>\n",
       "      <td>10</td>\n",
       "      <td>10</td>\n",
       "      <td>5</td>\n",
       "      <td>6</td>\n",
       "      <td>0.15258241</td>\n",
       "      <td>0.520738003</td>\n",
       "      <td>Positive</td>\n",
       "    </tr>\n",
       "  </tbody>\n",
       "</table>\n",
       "</div>"
      ],
      "text/plain": [
       "           title                                               text Overall  \\\n",
       "0  Made in Abyss                                                ...      10   \n",
       "1  Made in Abyss                                                ...       2   \n",
       "2  Made in Abyss                                                ...    9.25   \n",
       "3  Made in Abyss                                                ...    9.75   \n",
       "4  Made in Abyss                                                ...     8.5   \n",
       "\n",
       "  Story Animation Music Character Development Enjoyment     polarity  \\\n",
       "0    10        10    10                    10        10  0.157887377   \n",
       "1     0         0     0                     0         0  0.148181513   \n",
       "2     9        10     9                     9        10  0.204097075   \n",
       "3    10        10    10                     8         9  0.184404919   \n",
       "4     7        10    10                     5         6   0.15258241   \n",
       "\n",
       "  subjectivity  attitude  \n",
       "0  0.571908541  Positive  \n",
       "1  0.615992927  Positive  \n",
       "2  0.521248387  Positive  \n",
       "3  0.610297593  Positive  \n",
       "4  0.520738003  Positive  "
      ]
     },
     "metadata": {},
     "output_type": "display_data"
    },
    {
     "data": {
      "text/plain": [
       "None"
      ]
     },
     "metadata": {},
     "output_type": "display_data"
    },
    {
     "data": {
      "text/html": [
       "<div>\n",
       "<style scoped>\n",
       "    .dataframe tbody tr th:only-of-type {\n",
       "        vertical-align: middle;\n",
       "    }\n",
       "\n",
       "    .dataframe tbody tr th {\n",
       "        vertical-align: top;\n",
       "    }\n",
       "\n",
       "    .dataframe thead th {\n",
       "        text-align: right;\n",
       "    }\n",
       "</style>\n",
       "<table border=\"1\" class=\"dataframe\">\n",
       "  <thead>\n",
       "    <tr style=\"text-align: right;\">\n",
       "      <th></th>\n",
       "      <th>title</th>\n",
       "      <th>text</th>\n",
       "      <th>Overall</th>\n",
       "      <th>Story</th>\n",
       "      <th>Animation</th>\n",
       "      <th>Music</th>\n",
       "      <th>Character Development</th>\n",
       "      <th>Enjoyment</th>\n",
       "      <th>polarity</th>\n",
       "      <th>subjectivity</th>\n",
       "      <th>attitude</th>\n",
       "    </tr>\n",
       "  </thead>\n",
       "  <tbody>\n",
       "    <tr>\n",
       "      <th>count</th>\n",
       "      <td>126100</td>\n",
       "      <td>126100</td>\n",
       "      <td>126044</td>\n",
       "      <td>126044</td>\n",
       "      <td>126044</td>\n",
       "      <td>126044</td>\n",
       "      <td>126044</td>\n",
       "      <td>126044</td>\n",
       "      <td>126044</td>\n",
       "      <td>126040</td>\n",
       "      <td>126038</td>\n",
       "    </tr>\n",
       "    <tr>\n",
       "      <th>unique</th>\n",
       "      <td>690</td>\n",
       "      <td>76889</td>\n",
       "      <td>70</td>\n",
       "      <td>40</td>\n",
       "      <td>39</td>\n",
       "      <td>39</td>\n",
       "      <td>41</td>\n",
       "      <td>42</td>\n",
       "      <td>68743</td>\n",
       "      <td>66170</td>\n",
       "      <td>31</td>\n",
       "    </tr>\n",
       "    <tr>\n",
       "      <th>top</th>\n",
       "      <td>Death Note</td>\n",
       "      <td>...</td>\n",
       "      <td>10</td>\n",
       "      <td>10</td>\n",
       "      <td>10</td>\n",
       "      <td>10</td>\n",
       "      <td>10</td>\n",
       "      <td>10</td>\n",
       "      <td>0</td>\n",
       "      <td>0.5</td>\n",
       "      <td>Positive</td>\n",
       "    </tr>\n",
       "    <tr>\n",
       "      <th>freq</th>\n",
       "      <td>1708</td>\n",
       "      <td>14</td>\n",
       "      <td>11928</td>\n",
       "      <td>28732</td>\n",
       "      <td>31789</td>\n",
       "      <td>32399</td>\n",
       "      <td>36318</td>\n",
       "      <td>44569</td>\n",
       "      <td>93</td>\n",
       "      <td>105</td>\n",
       "      <td>119581</td>\n",
       "    </tr>\n",
       "  </tbody>\n",
       "</table>\n",
       "</div>"
      ],
      "text/plain": [
       "             title                                               text Overall  \\\n",
       "count       126100                                             126100  126044   \n",
       "unique         690                                              76889      70   \n",
       "top     Death Note                                                ...      10   \n",
       "freq          1708                                                 14   11928   \n",
       "\n",
       "         Story Animation   Music Character Development Enjoyment polarity  \\\n",
       "count   126044    126044  126044                126044    126044   126044   \n",
       "unique      40        39      39                    41        42    68743   \n",
       "top         10        10      10                    10        10        0   \n",
       "freq     28732     31789   32399                 36318     44569       93   \n",
       "\n",
       "       subjectivity  attitude  \n",
       "count        126040    126038  \n",
       "unique        66170        31  \n",
       "top             0.5  Positive  \n",
       "freq            105    119581  "
      ]
     },
     "metadata": {},
     "output_type": "display_data"
    }
   ],
   "source": [
    "for frame in [df_animes, df_users, df_reviews.iloc[:,0:11]]:\n",
    "    display(frame.head(), frame.info(), frame.describe().applymap(lambda x: describe_pretty(x)))"
   ]
  },
  {
   "cell_type": "code",
   "execution_count": null,
   "id": "5d043b11",
   "metadata": {},
   "outputs": [],
   "source": []
  },
  {
   "cell_type": "code",
   "execution_count": null,
   "id": "42d379f9",
   "metadata": {},
   "outputs": [],
   "source": []
  },
  {
   "cell_type": "code",
   "execution_count": 52,
   "id": "16deff3f",
   "metadata": {},
   "outputs": [
    {
     "data": {
      "text/html": [
       "<div>\n",
       "<style scoped>\n",
       "    .dataframe tbody tr th:only-of-type {\n",
       "        vertical-align: middle;\n",
       "    }\n",
       "\n",
       "    .dataframe tbody tr th {\n",
       "        vertical-align: top;\n",
       "    }\n",
       "\n",
       "    .dataframe thead th {\n",
       "        text-align: right;\n",
       "    }\n",
       "</style>\n",
       "<table border=\"1\" class=\"dataframe\">\n",
       "  <thead>\n",
       "    <tr style=\"text-align: right;\">\n",
       "      <th></th>\n",
       "      <th>anime_id</th>\n",
       "      <th>title</th>\n",
       "      <th>genre</th>\n",
       "      <th>studio</th>\n",
       "      <th>premiered</th>\n",
       "      <th>type</th>\n",
       "      <th>source</th>\n",
       "      <th>episodes</th>\n",
       "      <th>status</th>\n",
       "      <th>rank</th>\n",
       "      <th>image_url</th>\n",
       "      <th>rating</th>\n",
       "      <th>score</th>\n",
       "      <th>scored_by</th>\n",
       "      <th>score_rank</th>\n",
       "      <th>popularity</th>\n",
       "      <th>popularity_rank</th>\n",
       "      <th>members</th>\n",
       "      <th>favorites</th>\n",
       "      <th>avg_rank_score</th>\n",
       "    </tr>\n",
       "  </thead>\n",
       "  <tbody>\n",
       "    <tr>\n",
       "      <th>0</th>\n",
       "      <td>5114</td>\n",
       "      <td>Fullmetal Alchemist: Brotherhood</td>\n",
       "      <td>Action</td>\n",
       "      <td>Bones</td>\n",
       "      <td>Spring 2009</td>\n",
       "      <td>TV</td>\n",
       "      <td>Manga</td>\n",
       "      <td>64</td>\n",
       "      <td>Finished Airing</td>\n",
       "      <td>1</td>\n",
       "      <td>https://myanimelist.cdn-dena.com/images/anime/...</td>\n",
       "      <td>R - 17+ (violence &amp; profanity)</td>\n",
       "      <td>9.25</td>\n",
       "      <td>733592</td>\n",
       "      <td>2</td>\n",
       "      <td>4</td>\n",
       "      <td>4</td>\n",
       "      <td>1199091</td>\n",
       "      <td>106895</td>\n",
       "      <td>3.0</td>\n",
       "    </tr>\n",
       "    <tr>\n",
       "      <th>1</th>\n",
       "      <td>9253</td>\n",
       "      <td>Steins;Gate</td>\n",
       "      <td>Thriller</td>\n",
       "      <td>White Fox</td>\n",
       "      <td>Spring 2011</td>\n",
       "      <td>TV</td>\n",
       "      <td>Visual novel</td>\n",
       "      <td>24</td>\n",
       "      <td>Finished Airing</td>\n",
       "      <td>2</td>\n",
       "      <td>https://myanimelist.cdn-dena.com/images/anime/...</td>\n",
       "      <td>PG-13 - Teens 13 or older</td>\n",
       "      <td>9.14</td>\n",
       "      <td>563857</td>\n",
       "      <td>5</td>\n",
       "      <td>8</td>\n",
       "      <td>8</td>\n",
       "      <td>1010330</td>\n",
       "      <td>92423</td>\n",
       "      <td>6.5</td>\n",
       "    </tr>\n",
       "  </tbody>\n",
       "</table>\n",
       "</div>"
      ],
      "text/plain": [
       "   anime_id                             title     genre     studio  \\\n",
       "0      5114  Fullmetal Alchemist: Brotherhood    Action      Bones   \n",
       "1      9253                       Steins;Gate  Thriller  White Fox   \n",
       "\n",
       "     premiered type        source  episodes           status  rank  \\\n",
       "0  Spring 2009   TV         Manga        64  Finished Airing     1   \n",
       "1  Spring 2011   TV  Visual novel        24  Finished Airing     2   \n",
       "\n",
       "                                           image_url  \\\n",
       "0  https://myanimelist.cdn-dena.com/images/anime/...   \n",
       "1  https://myanimelist.cdn-dena.com/images/anime/...   \n",
       "\n",
       "                           rating  score  scored_by  score_rank  popularity  \\\n",
       "0  R - 17+ (violence & profanity)   9.25     733592           2           4   \n",
       "1       PG-13 - Teens 13 or older   9.14     563857           5           8   \n",
       "\n",
       "   popularity_rank  members  favorites  avg_rank_score  \n",
       "0                4  1199091     106895             3.0  \n",
       "1                8  1010330      92423             6.5  "
      ]
     },
     "execution_count": 52,
     "metadata": {},
     "output_type": "execute_result"
    }
   ],
   "source": [
    "df_animes.head(2)"
   ]
  },
  {
   "cell_type": "markdown",
   "id": "4da439df",
   "metadata": {},
   "source": [
    "> ### **Univariate Explorations**\n",
    "> <hr>\n",
    "\n",
    ">\n",
    ">#### **Q1: What studios have produced the most anime between 18 years into the 21st Century?**\n",
    "> Taking into consideration that some anime (if _not all anime_) have been produced by a collaboration of major studios and minor studios, records of such collaborations will be tabulated as one entity and attribute each studio's work as their own. "
   ]
  },
  {
   "cell_type": "code",
   "execution_count": null,
   "id": "8048a90a",
   "metadata": {},
   "outputs": [],
   "source": []
  },
  {
   "cell_type": "code",
   "execution_count": null,
   "id": "e58ad81c",
   "metadata": {},
   "outputs": [],
   "source": []
  },
  {
   "cell_type": "code",
   "execution_count": 101,
   "id": "f4bd19da",
   "metadata": {},
   "outputs": [
    {
     "data": {
      "text/html": [
       "<div>\n",
       "<style scoped>\n",
       "    .dataframe tbody tr th:only-of-type {\n",
       "        vertical-align: middle;\n",
       "    }\n",
       "\n",
       "    .dataframe tbody tr th {\n",
       "        vertical-align: top;\n",
       "    }\n",
       "\n",
       "    .dataframe thead th {\n",
       "        text-align: right;\n",
       "    }\n",
       "</style>\n",
       "<table border=\"1\" class=\"dataframe\">\n",
       "  <thead>\n",
       "    <tr style=\"text-align: right;\">\n",
       "      <th></th>\n",
       "      <th>studio</th>\n",
       "      <th>count</th>\n",
       "    </tr>\n",
       "  </thead>\n",
       "  <tbody>\n",
       "    <tr>\n",
       "      <th>0</th>\n",
       "      <td>Toei Animation</td>\n",
       "      <td>383</td>\n",
       "    </tr>\n",
       "    <tr>\n",
       "      <th>1</th>\n",
       "      <td>Sunrise</td>\n",
       "      <td>335</td>\n",
       "    </tr>\n",
       "    <tr>\n",
       "      <th>2</th>\n",
       "      <td>J.C.Staff</td>\n",
       "      <td>287</td>\n",
       "    </tr>\n",
       "  </tbody>\n",
       "</table>\n",
       "</div>"
      ],
      "text/plain": [
       "           studio  count\n",
       "0  Toei Animation    383\n",
       "1         Sunrise    335\n",
       "2       J.C.Staff    287"
      ]
     },
     "execution_count": 101,
     "metadata": {},
     "output_type": "execute_result"
    }
   ],
   "source": [
    "df_animes.studio.value_counts().reset_index().rename(columns={'studio':'count', 'index':'studio'}).head(3)"
   ]
  },
  {
   "cell_type": "code",
   "execution_count": 129,
   "metadata": {},
   "outputs": [
    {
     "data": {
      "application/vnd.plotly.v1+json": {
       "config": {
        "plotlyServerURL": "https://plot.ly"
       },
       "data": [
        {
         "alignmentgroup": "True",
         "hovertemplate": "Number of anime produced=%{x}<br>Anime Studios=%{text}<extra></extra>",
         "legendgroup": "",
         "marker": {
          "color": "#636efa",
          "pattern": {
           "shape": ""
          }
         },
         "name": "",
         "offsetgroup": "",
         "orientation": "h",
         "showlegend": false,
         "text": [
          "Toei Animation",
          "Sunrise",
          "J.C.Staff",
          "Madhouse",
          "Production I.G",
          "Studio Deen",
          "TMS Entertainment",
          "OLM",
          "A-1 Pictures",
          "Studio Pierrot"
         ],
         "textposition": "auto",
         "type": "bar",
         "x": [
          383,
          335,
          287,
          261,
          236,
          229,
          215,
          176,
          172,
          163
         ],
         "xaxis": "x",
         "y": [
          "Toei Animation",
          "Sunrise",
          "J.C.Staff",
          "Madhouse",
          "Production I.G",
          "Studio Deen",
          "TMS Entertainment",
          "OLM",
          "A-1 Pictures",
          "Studio Pierrot"
         ],
         "yaxis": "y"
        }
       ],
       "layout": {
        "barmode": "relative",
        "legend": {
         "tracegroupgap": 0
        },
        "template": {
         "data": {
          "bar": [
           {
            "error_x": {
             "color": "#2a3f5f"
            },
            "error_y": {
             "color": "#2a3f5f"
            },
            "marker": {
             "line": {
              "color": "#E5ECF6",
              "width": 0.5
             },
             "pattern": {
              "fillmode": "overlay",
              "size": 10,
              "solidity": 0.2
             }
            },
            "type": "bar"
           }
          ],
          "barpolar": [
           {
            "marker": {
             "line": {
              "color": "#E5ECF6",
              "width": 0.5
             },
             "pattern": {
              "fillmode": "overlay",
              "size": 10,
              "solidity": 0.2
             }
            },
            "type": "barpolar"
           }
          ],
          "carpet": [
           {
            "aaxis": {
             "endlinecolor": "#2a3f5f",
             "gridcolor": "white",
             "linecolor": "white",
             "minorgridcolor": "white",
             "startlinecolor": "#2a3f5f"
            },
            "baxis": {
             "endlinecolor": "#2a3f5f",
             "gridcolor": "white",
             "linecolor": "white",
             "minorgridcolor": "white",
             "startlinecolor": "#2a3f5f"
            },
            "type": "carpet"
           }
          ],
          "choropleth": [
           {
            "colorbar": {
             "outlinewidth": 0,
             "ticks": ""
            },
            "type": "choropleth"
           }
          ],
          "contour": [
           {
            "colorbar": {
             "outlinewidth": 0,
             "ticks": ""
            },
            "colorscale": [
             [
              0,
              "#0d0887"
             ],
             [
              0.1111111111111111,
              "#46039f"
             ],
             [
              0.2222222222222222,
              "#7201a8"
             ],
             [
              0.3333333333333333,
              "#9c179e"
             ],
             [
              0.4444444444444444,
              "#bd3786"
             ],
             [
              0.5555555555555556,
              "#d8576b"
             ],
             [
              0.6666666666666666,
              "#ed7953"
             ],
             [
              0.7777777777777778,
              "#fb9f3a"
             ],
             [
              0.8888888888888888,
              "#fdca26"
             ],
             [
              1,
              "#f0f921"
             ]
            ],
            "type": "contour"
           }
          ],
          "contourcarpet": [
           {
            "colorbar": {
             "outlinewidth": 0,
             "ticks": ""
            },
            "type": "contourcarpet"
           }
          ],
          "heatmap": [
           {
            "colorbar": {
             "outlinewidth": 0,
             "ticks": ""
            },
            "colorscale": [
             [
              0,
              "#0d0887"
             ],
             [
              0.1111111111111111,
              "#46039f"
             ],
             [
              0.2222222222222222,
              "#7201a8"
             ],
             [
              0.3333333333333333,
              "#9c179e"
             ],
             [
              0.4444444444444444,
              "#bd3786"
             ],
             [
              0.5555555555555556,
              "#d8576b"
             ],
             [
              0.6666666666666666,
              "#ed7953"
             ],
             [
              0.7777777777777778,
              "#fb9f3a"
             ],
             [
              0.8888888888888888,
              "#fdca26"
             ],
             [
              1,
              "#f0f921"
             ]
            ],
            "type": "heatmap"
           }
          ],
          "heatmapgl": [
           {
            "colorbar": {
             "outlinewidth": 0,
             "ticks": ""
            },
            "colorscale": [
             [
              0,
              "#0d0887"
             ],
             [
              0.1111111111111111,
              "#46039f"
             ],
             [
              0.2222222222222222,
              "#7201a8"
             ],
             [
              0.3333333333333333,
              "#9c179e"
             ],
             [
              0.4444444444444444,
              "#bd3786"
             ],
             [
              0.5555555555555556,
              "#d8576b"
             ],
             [
              0.6666666666666666,
              "#ed7953"
             ],
             [
              0.7777777777777778,
              "#fb9f3a"
             ],
             [
              0.8888888888888888,
              "#fdca26"
             ],
             [
              1,
              "#f0f921"
             ]
            ],
            "type": "heatmapgl"
           }
          ],
          "histogram": [
           {
            "marker": {
             "pattern": {
              "fillmode": "overlay",
              "size": 10,
              "solidity": 0.2
             }
            },
            "type": "histogram"
           }
          ],
          "histogram2d": [
           {
            "colorbar": {
             "outlinewidth": 0,
             "ticks": ""
            },
            "colorscale": [
             [
              0,
              "#0d0887"
             ],
             [
              0.1111111111111111,
              "#46039f"
             ],
             [
              0.2222222222222222,
              "#7201a8"
             ],
             [
              0.3333333333333333,
              "#9c179e"
             ],
             [
              0.4444444444444444,
              "#bd3786"
             ],
             [
              0.5555555555555556,
              "#d8576b"
             ],
             [
              0.6666666666666666,
              "#ed7953"
             ],
             [
              0.7777777777777778,
              "#fb9f3a"
             ],
             [
              0.8888888888888888,
              "#fdca26"
             ],
             [
              1,
              "#f0f921"
             ]
            ],
            "type": "histogram2d"
           }
          ],
          "histogram2dcontour": [
           {
            "colorbar": {
             "outlinewidth": 0,
             "ticks": ""
            },
            "colorscale": [
             [
              0,
              "#0d0887"
             ],
             [
              0.1111111111111111,
              "#46039f"
             ],
             [
              0.2222222222222222,
              "#7201a8"
             ],
             [
              0.3333333333333333,
              "#9c179e"
             ],
             [
              0.4444444444444444,
              "#bd3786"
             ],
             [
              0.5555555555555556,
              "#d8576b"
             ],
             [
              0.6666666666666666,
              "#ed7953"
             ],
             [
              0.7777777777777778,
              "#fb9f3a"
             ],
             [
              0.8888888888888888,
              "#fdca26"
             ],
             [
              1,
              "#f0f921"
             ]
            ],
            "type": "histogram2dcontour"
           }
          ],
          "mesh3d": [
           {
            "colorbar": {
             "outlinewidth": 0,
             "ticks": ""
            },
            "type": "mesh3d"
           }
          ],
          "parcoords": [
           {
            "line": {
             "colorbar": {
              "outlinewidth": 0,
              "ticks": ""
             }
            },
            "type": "parcoords"
           }
          ],
          "pie": [
           {
            "automargin": true,
            "type": "pie"
           }
          ],
          "scatter": [
           {
            "marker": {
             "colorbar": {
              "outlinewidth": 0,
              "ticks": ""
             }
            },
            "type": "scatter"
           }
          ],
          "scatter3d": [
           {
            "line": {
             "colorbar": {
              "outlinewidth": 0,
              "ticks": ""
             }
            },
            "marker": {
             "colorbar": {
              "outlinewidth": 0,
              "ticks": ""
             }
            },
            "type": "scatter3d"
           }
          ],
          "scattercarpet": [
           {
            "marker": {
             "colorbar": {
              "outlinewidth": 0,
              "ticks": ""
             }
            },
            "type": "scattercarpet"
           }
          ],
          "scattergeo": [
           {
            "marker": {
             "colorbar": {
              "outlinewidth": 0,
              "ticks": ""
             }
            },
            "type": "scattergeo"
           }
          ],
          "scattergl": [
           {
            "marker": {
             "colorbar": {
              "outlinewidth": 0,
              "ticks": ""
             }
            },
            "type": "scattergl"
           }
          ],
          "scattermapbox": [
           {
            "marker": {
             "colorbar": {
              "outlinewidth": 0,
              "ticks": ""
             }
            },
            "type": "scattermapbox"
           }
          ],
          "scatterpolar": [
           {
            "marker": {
             "colorbar": {
              "outlinewidth": 0,
              "ticks": ""
             }
            },
            "type": "scatterpolar"
           }
          ],
          "scatterpolargl": [
           {
            "marker": {
             "colorbar": {
              "outlinewidth": 0,
              "ticks": ""
             }
            },
            "type": "scatterpolargl"
           }
          ],
          "scatterternary": [
           {
            "marker": {
             "colorbar": {
              "outlinewidth": 0,
              "ticks": ""
             }
            },
            "type": "scatterternary"
           }
          ],
          "surface": [
           {
            "colorbar": {
             "outlinewidth": 0,
             "ticks": ""
            },
            "colorscale": [
             [
              0,
              "#0d0887"
             ],
             [
              0.1111111111111111,
              "#46039f"
             ],
             [
              0.2222222222222222,
              "#7201a8"
             ],
             [
              0.3333333333333333,
              "#9c179e"
             ],
             [
              0.4444444444444444,
              "#bd3786"
             ],
             [
              0.5555555555555556,
              "#d8576b"
             ],
             [
              0.6666666666666666,
              "#ed7953"
             ],
             [
              0.7777777777777778,
              "#fb9f3a"
             ],
             [
              0.8888888888888888,
              "#fdca26"
             ],
             [
              1,
              "#f0f921"
             ]
            ],
            "type": "surface"
           }
          ],
          "table": [
           {
            "cells": {
             "fill": {
              "color": "#EBF0F8"
             },
             "line": {
              "color": "white"
             }
            },
            "header": {
             "fill": {
              "color": "#C8D4E3"
             },
             "line": {
              "color": "white"
             }
            },
            "type": "table"
           }
          ]
         },
         "layout": {
          "annotationdefaults": {
           "arrowcolor": "#2a3f5f",
           "arrowhead": 0,
           "arrowwidth": 1
          },
          "autotypenumbers": "strict",
          "coloraxis": {
           "colorbar": {
            "outlinewidth": 0,
            "ticks": ""
           }
          },
          "colorscale": {
           "diverging": [
            [
             0,
             "#8e0152"
            ],
            [
             0.1,
             "#c51b7d"
            ],
            [
             0.2,
             "#de77ae"
            ],
            [
             0.3,
             "#f1b6da"
            ],
            [
             0.4,
             "#fde0ef"
            ],
            [
             0.5,
             "#f7f7f7"
            ],
            [
             0.6,
             "#e6f5d0"
            ],
            [
             0.7,
             "#b8e186"
            ],
            [
             0.8,
             "#7fbc41"
            ],
            [
             0.9,
             "#4d9221"
            ],
            [
             1,
             "#276419"
            ]
           ],
           "sequential": [
            [
             0,
             "#0d0887"
            ],
            [
             0.1111111111111111,
             "#46039f"
            ],
            [
             0.2222222222222222,
             "#7201a8"
            ],
            [
             0.3333333333333333,
             "#9c179e"
            ],
            [
             0.4444444444444444,
             "#bd3786"
            ],
            [
             0.5555555555555556,
             "#d8576b"
            ],
            [
             0.6666666666666666,
             "#ed7953"
            ],
            [
             0.7777777777777778,
             "#fb9f3a"
            ],
            [
             0.8888888888888888,
             "#fdca26"
            ],
            [
             1,
             "#f0f921"
            ]
           ],
           "sequentialminus": [
            [
             0,
             "#0d0887"
            ],
            [
             0.1111111111111111,
             "#46039f"
            ],
            [
             0.2222222222222222,
             "#7201a8"
            ],
            [
             0.3333333333333333,
             "#9c179e"
            ],
            [
             0.4444444444444444,
             "#bd3786"
            ],
            [
             0.5555555555555556,
             "#d8576b"
            ],
            [
             0.6666666666666666,
             "#ed7953"
            ],
            [
             0.7777777777777778,
             "#fb9f3a"
            ],
            [
             0.8888888888888888,
             "#fdca26"
            ],
            [
             1,
             "#f0f921"
            ]
           ]
          },
          "colorway": [
           "#636efa",
           "#EF553B",
           "#00cc96",
           "#ab63fa",
           "#FFA15A",
           "#19d3f3",
           "#FF6692",
           "#B6E880",
           "#FF97FF",
           "#FECB52"
          ],
          "font": {
           "color": "#2a3f5f"
          },
          "geo": {
           "bgcolor": "white",
           "lakecolor": "white",
           "landcolor": "#E5ECF6",
           "showlakes": true,
           "showland": true,
           "subunitcolor": "white"
          },
          "hoverlabel": {
           "align": "left"
          },
          "hovermode": "closest",
          "mapbox": {
           "style": "light"
          },
          "paper_bgcolor": "white",
          "plot_bgcolor": "#E5ECF6",
          "polar": {
           "angularaxis": {
            "gridcolor": "white",
            "linecolor": "white",
            "ticks": ""
           },
           "bgcolor": "#E5ECF6",
           "radialaxis": {
            "gridcolor": "white",
            "linecolor": "white",
            "ticks": ""
           }
          },
          "scene": {
           "xaxis": {
            "backgroundcolor": "#E5ECF6",
            "gridcolor": "white",
            "gridwidth": 2,
            "linecolor": "white",
            "showbackground": true,
            "ticks": "",
            "zerolinecolor": "white"
           },
           "yaxis": {
            "backgroundcolor": "#E5ECF6",
            "gridcolor": "white",
            "gridwidth": 2,
            "linecolor": "white",
            "showbackground": true,
            "ticks": "",
            "zerolinecolor": "white"
           },
           "zaxis": {
            "backgroundcolor": "#E5ECF6",
            "gridcolor": "white",
            "gridwidth": 2,
            "linecolor": "white",
            "showbackground": true,
            "ticks": "",
            "zerolinecolor": "white"
           }
          },
          "shapedefaults": {
           "line": {
            "color": "#2a3f5f"
           }
          },
          "ternary": {
           "aaxis": {
            "gridcolor": "white",
            "linecolor": "white",
            "ticks": ""
           },
           "baxis": {
            "gridcolor": "white",
            "linecolor": "white",
            "ticks": ""
           },
           "bgcolor": "#E5ECF6",
           "caxis": {
            "gridcolor": "white",
            "linecolor": "white",
            "ticks": ""
           }
          },
          "title": {
           "x": 0.05
          },
          "xaxis": {
           "automargin": true,
           "gridcolor": "white",
           "linecolor": "white",
           "ticks": "",
           "title": {
            "standoff": 15
           },
           "zerolinecolor": "white",
           "zerolinewidth": 2
          },
          "yaxis": {
           "automargin": true,
           "gridcolor": "white",
           "linecolor": "white",
           "ticks": "",
           "title": {
            "standoff": 15
           },
           "zerolinecolor": "white",
           "zerolinewidth": 2
          }
         }
        },
        "title": {
         "text": "Anime studios producing the most anime between 2000-2018"
        },
        "xaxis": {
         "anchor": "y",
         "domain": [
          0,
          1
         ],
         "title": {
          "text": "Number of anime produced"
         }
        },
        "yaxis": {
         "anchor": "x",
         "domain": [
          0,
          1
         ],
         "showticklabels": false,
         "title": {
          "text": "Anime Studios"
         },
         "visible": false
        }
       }
      },
      "text/html": [
       "<div>                            <div id=\"e502fd4c-a05e-411c-b8e8-f854d5572c6f\" class=\"plotly-graph-div\" style=\"height:525px; width:100%;\"></div>            <script type=\"text/javascript\">                require([\"plotly\"], function(Plotly) {                    window.PLOTLYENV=window.PLOTLYENV || {};                                    if (document.getElementById(\"e502fd4c-a05e-411c-b8e8-f854d5572c6f\")) {                    Plotly.newPlot(                        \"e502fd4c-a05e-411c-b8e8-f854d5572c6f\",                        [{\"alignmentgroup\":\"True\",\"hovertemplate\":\"Number of anime produced=%{x}<br>Anime Studios=%{text}<extra></extra>\",\"legendgroup\":\"\",\"marker\":{\"color\":\"#636efa\",\"pattern\":{\"shape\":\"\"}},\"name\":\"\",\"offsetgroup\":\"\",\"orientation\":\"h\",\"showlegend\":false,\"text\":[\"Toei Animation\",\"Sunrise\",\"J.C.Staff\",\"Madhouse\",\"Production I.G\",\"Studio Deen\",\"TMS Entertainment\",\"OLM\",\"A-1 Pictures\",\"Studio Pierrot\"],\"textposition\":\"auto\",\"x\":[383,335,287,261,236,229,215,176,172,163],\"xaxis\":\"x\",\"y\":[\"Toei Animation\",\"Sunrise\",\"J.C.Staff\",\"Madhouse\",\"Production I.G\",\"Studio Deen\",\"TMS Entertainment\",\"OLM\",\"A-1 Pictures\",\"Studio Pierrot\"],\"yaxis\":\"y\",\"type\":\"bar\"}],                        {\"template\":{\"data\":{\"bar\":[{\"error_x\":{\"color\":\"#2a3f5f\"},\"error_y\":{\"color\":\"#2a3f5f\"},\"marker\":{\"line\":{\"color\":\"#E5ECF6\",\"width\":0.5},\"pattern\":{\"fillmode\":\"overlay\",\"size\":10,\"solidity\":0.2}},\"type\":\"bar\"}],\"barpolar\":[{\"marker\":{\"line\":{\"color\":\"#E5ECF6\",\"width\":0.5},\"pattern\":{\"fillmode\":\"overlay\",\"size\":10,\"solidity\":0.2}},\"type\":\"barpolar\"}],\"carpet\":[{\"aaxis\":{\"endlinecolor\":\"#2a3f5f\",\"gridcolor\":\"white\",\"linecolor\":\"white\",\"minorgridcolor\":\"white\",\"startlinecolor\":\"#2a3f5f\"},\"baxis\":{\"endlinecolor\":\"#2a3f5f\",\"gridcolor\":\"white\",\"linecolor\":\"white\",\"minorgridcolor\":\"white\",\"startlinecolor\":\"#2a3f5f\"},\"type\":\"carpet\"}],\"choropleth\":[{\"colorbar\":{\"outlinewidth\":0,\"ticks\":\"\"},\"type\":\"choropleth\"}],\"contour\":[{\"colorbar\":{\"outlinewidth\":0,\"ticks\":\"\"},\"colorscale\":[[0.0,\"#0d0887\"],[0.1111111111111111,\"#46039f\"],[0.2222222222222222,\"#7201a8\"],[0.3333333333333333,\"#9c179e\"],[0.4444444444444444,\"#bd3786\"],[0.5555555555555556,\"#d8576b\"],[0.6666666666666666,\"#ed7953\"],[0.7777777777777778,\"#fb9f3a\"],[0.8888888888888888,\"#fdca26\"],[1.0,\"#f0f921\"]],\"type\":\"contour\"}],\"contourcarpet\":[{\"colorbar\":{\"outlinewidth\":0,\"ticks\":\"\"},\"type\":\"contourcarpet\"}],\"heatmap\":[{\"colorbar\":{\"outlinewidth\":0,\"ticks\":\"\"},\"colorscale\":[[0.0,\"#0d0887\"],[0.1111111111111111,\"#46039f\"],[0.2222222222222222,\"#7201a8\"],[0.3333333333333333,\"#9c179e\"],[0.4444444444444444,\"#bd3786\"],[0.5555555555555556,\"#d8576b\"],[0.6666666666666666,\"#ed7953\"],[0.7777777777777778,\"#fb9f3a\"],[0.8888888888888888,\"#fdca26\"],[1.0,\"#f0f921\"]],\"type\":\"heatmap\"}],\"heatmapgl\":[{\"colorbar\":{\"outlinewidth\":0,\"ticks\":\"\"},\"colorscale\":[[0.0,\"#0d0887\"],[0.1111111111111111,\"#46039f\"],[0.2222222222222222,\"#7201a8\"],[0.3333333333333333,\"#9c179e\"],[0.4444444444444444,\"#bd3786\"],[0.5555555555555556,\"#d8576b\"],[0.6666666666666666,\"#ed7953\"],[0.7777777777777778,\"#fb9f3a\"],[0.8888888888888888,\"#fdca26\"],[1.0,\"#f0f921\"]],\"type\":\"heatmapgl\"}],\"histogram\":[{\"marker\":{\"pattern\":{\"fillmode\":\"overlay\",\"size\":10,\"solidity\":0.2}},\"type\":\"histogram\"}],\"histogram2d\":[{\"colorbar\":{\"outlinewidth\":0,\"ticks\":\"\"},\"colorscale\":[[0.0,\"#0d0887\"],[0.1111111111111111,\"#46039f\"],[0.2222222222222222,\"#7201a8\"],[0.3333333333333333,\"#9c179e\"],[0.4444444444444444,\"#bd3786\"],[0.5555555555555556,\"#d8576b\"],[0.6666666666666666,\"#ed7953\"],[0.7777777777777778,\"#fb9f3a\"],[0.8888888888888888,\"#fdca26\"],[1.0,\"#f0f921\"]],\"type\":\"histogram2d\"}],\"histogram2dcontour\":[{\"colorbar\":{\"outlinewidth\":0,\"ticks\":\"\"},\"colorscale\":[[0.0,\"#0d0887\"],[0.1111111111111111,\"#46039f\"],[0.2222222222222222,\"#7201a8\"],[0.3333333333333333,\"#9c179e\"],[0.4444444444444444,\"#bd3786\"],[0.5555555555555556,\"#d8576b\"],[0.6666666666666666,\"#ed7953\"],[0.7777777777777778,\"#fb9f3a\"],[0.8888888888888888,\"#fdca26\"],[1.0,\"#f0f921\"]],\"type\":\"histogram2dcontour\"}],\"mesh3d\":[{\"colorbar\":{\"outlinewidth\":0,\"ticks\":\"\"},\"type\":\"mesh3d\"}],\"parcoords\":[{\"line\":{\"colorbar\":{\"outlinewidth\":0,\"ticks\":\"\"}},\"type\":\"parcoords\"}],\"pie\":[{\"automargin\":true,\"type\":\"pie\"}],\"scatter\":[{\"marker\":{\"colorbar\":{\"outlinewidth\":0,\"ticks\":\"\"}},\"type\":\"scatter\"}],\"scatter3d\":[{\"line\":{\"colorbar\":{\"outlinewidth\":0,\"ticks\":\"\"}},\"marker\":{\"colorbar\":{\"outlinewidth\":0,\"ticks\":\"\"}},\"type\":\"scatter3d\"}],\"scattercarpet\":[{\"marker\":{\"colorbar\":{\"outlinewidth\":0,\"ticks\":\"\"}},\"type\":\"scattercarpet\"}],\"scattergeo\":[{\"marker\":{\"colorbar\":{\"outlinewidth\":0,\"ticks\":\"\"}},\"type\":\"scattergeo\"}],\"scattergl\":[{\"marker\":{\"colorbar\":{\"outlinewidth\":0,\"ticks\":\"\"}},\"type\":\"scattergl\"}],\"scattermapbox\":[{\"marker\":{\"colorbar\":{\"outlinewidth\":0,\"ticks\":\"\"}},\"type\":\"scattermapbox\"}],\"scatterpolar\":[{\"marker\":{\"colorbar\":{\"outlinewidth\":0,\"ticks\":\"\"}},\"type\":\"scatterpolar\"}],\"scatterpolargl\":[{\"marker\":{\"colorbar\":{\"outlinewidth\":0,\"ticks\":\"\"}},\"type\":\"scatterpolargl\"}],\"scatterternary\":[{\"marker\":{\"colorbar\":{\"outlinewidth\":0,\"ticks\":\"\"}},\"type\":\"scatterternary\"}],\"surface\":[{\"colorbar\":{\"outlinewidth\":0,\"ticks\":\"\"},\"colorscale\":[[0.0,\"#0d0887\"],[0.1111111111111111,\"#46039f\"],[0.2222222222222222,\"#7201a8\"],[0.3333333333333333,\"#9c179e\"],[0.4444444444444444,\"#bd3786\"],[0.5555555555555556,\"#d8576b\"],[0.6666666666666666,\"#ed7953\"],[0.7777777777777778,\"#fb9f3a\"],[0.8888888888888888,\"#fdca26\"],[1.0,\"#f0f921\"]],\"type\":\"surface\"}],\"table\":[{\"cells\":{\"fill\":{\"color\":\"#EBF0F8\"},\"line\":{\"color\":\"white\"}},\"header\":{\"fill\":{\"color\":\"#C8D4E3\"},\"line\":{\"color\":\"white\"}},\"type\":\"table\"}]},\"layout\":{\"annotationdefaults\":{\"arrowcolor\":\"#2a3f5f\",\"arrowhead\":0,\"arrowwidth\":1},\"autotypenumbers\":\"strict\",\"coloraxis\":{\"colorbar\":{\"outlinewidth\":0,\"ticks\":\"\"}},\"colorscale\":{\"diverging\":[[0,\"#8e0152\"],[0.1,\"#c51b7d\"],[0.2,\"#de77ae\"],[0.3,\"#f1b6da\"],[0.4,\"#fde0ef\"],[0.5,\"#f7f7f7\"],[0.6,\"#e6f5d0\"],[0.7,\"#b8e186\"],[0.8,\"#7fbc41\"],[0.9,\"#4d9221\"],[1,\"#276419\"]],\"sequential\":[[0.0,\"#0d0887\"],[0.1111111111111111,\"#46039f\"],[0.2222222222222222,\"#7201a8\"],[0.3333333333333333,\"#9c179e\"],[0.4444444444444444,\"#bd3786\"],[0.5555555555555556,\"#d8576b\"],[0.6666666666666666,\"#ed7953\"],[0.7777777777777778,\"#fb9f3a\"],[0.8888888888888888,\"#fdca26\"],[1.0,\"#f0f921\"]],\"sequentialminus\":[[0.0,\"#0d0887\"],[0.1111111111111111,\"#46039f\"],[0.2222222222222222,\"#7201a8\"],[0.3333333333333333,\"#9c179e\"],[0.4444444444444444,\"#bd3786\"],[0.5555555555555556,\"#d8576b\"],[0.6666666666666666,\"#ed7953\"],[0.7777777777777778,\"#fb9f3a\"],[0.8888888888888888,\"#fdca26\"],[1.0,\"#f0f921\"]]},\"colorway\":[\"#636efa\",\"#EF553B\",\"#00cc96\",\"#ab63fa\",\"#FFA15A\",\"#19d3f3\",\"#FF6692\",\"#B6E880\",\"#FF97FF\",\"#FECB52\"],\"font\":{\"color\":\"#2a3f5f\"},\"geo\":{\"bgcolor\":\"white\",\"lakecolor\":\"white\",\"landcolor\":\"#E5ECF6\",\"showlakes\":true,\"showland\":true,\"subunitcolor\":\"white\"},\"hoverlabel\":{\"align\":\"left\"},\"hovermode\":\"closest\",\"mapbox\":{\"style\":\"light\"},\"paper_bgcolor\":\"white\",\"plot_bgcolor\":\"#E5ECF6\",\"polar\":{\"angularaxis\":{\"gridcolor\":\"white\",\"linecolor\":\"white\",\"ticks\":\"\"},\"bgcolor\":\"#E5ECF6\",\"radialaxis\":{\"gridcolor\":\"white\",\"linecolor\":\"white\",\"ticks\":\"\"}},\"scene\":{\"xaxis\":{\"backgroundcolor\":\"#E5ECF6\",\"gridcolor\":\"white\",\"gridwidth\":2,\"linecolor\":\"white\",\"showbackground\":true,\"ticks\":\"\",\"zerolinecolor\":\"white\"},\"yaxis\":{\"backgroundcolor\":\"#E5ECF6\",\"gridcolor\":\"white\",\"gridwidth\":2,\"linecolor\":\"white\",\"showbackground\":true,\"ticks\":\"\",\"zerolinecolor\":\"white\"},\"zaxis\":{\"backgroundcolor\":\"#E5ECF6\",\"gridcolor\":\"white\",\"gridwidth\":2,\"linecolor\":\"white\",\"showbackground\":true,\"ticks\":\"\",\"zerolinecolor\":\"white\"}},\"shapedefaults\":{\"line\":{\"color\":\"#2a3f5f\"}},\"ternary\":{\"aaxis\":{\"gridcolor\":\"white\",\"linecolor\":\"white\",\"ticks\":\"\"},\"baxis\":{\"gridcolor\":\"white\",\"linecolor\":\"white\",\"ticks\":\"\"},\"bgcolor\":\"#E5ECF6\",\"caxis\":{\"gridcolor\":\"white\",\"linecolor\":\"white\",\"ticks\":\"\"}},\"title\":{\"x\":0.05},\"xaxis\":{\"automargin\":true,\"gridcolor\":\"white\",\"linecolor\":\"white\",\"ticks\":\"\",\"title\":{\"standoff\":15},\"zerolinecolor\":\"white\",\"zerolinewidth\":2},\"yaxis\":{\"automargin\":true,\"gridcolor\":\"white\",\"linecolor\":\"white\",\"ticks\":\"\",\"title\":{\"standoff\":15},\"zerolinecolor\":\"white\",\"zerolinewidth\":2}}},\"xaxis\":{\"anchor\":\"y\",\"domain\":[0.0,1.0],\"title\":{\"text\":\"Number of anime produced\"}},\"yaxis\":{\"anchor\":\"x\",\"domain\":[0.0,1.0],\"title\":{\"text\":\"Anime Studios\"},\"visible\":false,\"showticklabels\":false},\"legend\":{\"tracegroupgap\":0},\"title\":{\"text\":\"Anime studios producing the most anime between 2000-2018\"},\"barmode\":\"relative\"},                        {\"responsive\": true}                    ).then(function(){\n",
       "                            \n",
       "var gd = document.getElementById('e502fd4c-a05e-411c-b8e8-f854d5572c6f');\n",
       "var x = new MutationObserver(function (mutations, observer) {{\n",
       "        var display = window.getComputedStyle(gd).display;\n",
       "        if (!display || display === 'none') {{\n",
       "            console.log([gd, 'removed!']);\n",
       "            Plotly.purge(gd);\n",
       "            observer.disconnect();\n",
       "        }}\n",
       "}});\n",
       "\n",
       "// Listen for the removal of the full notebook cells\n",
       "var notebookContainer = gd.closest('#notebook-container');\n",
       "if (notebookContainer) {{\n",
       "    x.observe(notebookContainer, {childList: true});\n",
       "}}\n",
       "\n",
       "// Listen for the clearing of the current output cell\n",
       "var outputEl = gd.closest('.output');\n",
       "if (outputEl) {{\n",
       "    x.observe(outputEl, {childList: true});\n",
       "}}\n",
       "\n",
       "                        })                };                });            </script>        </div>"
      ]
     },
     "metadata": {},
     "output_type": "display_data"
    }
   ],
   "source": [
    "fig = px.bar(df_animes.studio.value_counts().reset_index().rename(columns={'studio':'count', 'index':'studio'}).head(10),\n",
    "        y='studio', x='count', text='studio', orientation='h',\n",
    "        labels={'studio':'Anime Studios','count':'Number of anime produced'},\n",
    "        title='Anime studios producing the most anime between 2000-2018')\n",
    "fig.update_yaxes(visible=False, showticklabels=False)"
   ]
  },
  {
   "cell_type": "code",
   "execution_count": 140,
   "id": "a7aca188",
   "metadata": {},
   "outputs": [
    {
     "data": {
      "text/html": [
       "<div>\n",
       "<style scoped>\n",
       "    .dataframe tbody tr th:only-of-type {\n",
       "        vertical-align: middle;\n",
       "    }\n",
       "\n",
       "    .dataframe tbody tr th {\n",
       "        vertical-align: top;\n",
       "    }\n",
       "\n",
       "    .dataframe thead th {\n",
       "        text-align: right;\n",
       "    }\n",
       "</style>\n",
       "<table border=\"1\" class=\"dataframe\">\n",
       "  <thead>\n",
       "    <tr style=\"text-align: right;\">\n",
       "      <th></th>\n",
       "      <th>studio</th>\n",
       "      <th>genre</th>\n",
       "      <th>count</th>\n",
       "    </tr>\n",
       "  </thead>\n",
       "  <tbody>\n",
       "    <tr>\n",
       "      <th>0</th>\n",
       "      <td>Sunrise</td>\n",
       "      <td>Action</td>\n",
       "      <td>170</td>\n",
       "    </tr>\n",
       "    <tr>\n",
       "      <th>1</th>\n",
       "      <td>Toei Animation</td>\n",
       "      <td>Action</td>\n",
       "      <td>153</td>\n",
       "    </tr>\n",
       "    <tr>\n",
       "      <th>2</th>\n",
       "      <td>J.C.Staff</td>\n",
       "      <td>Comedy</td>\n",
       "      <td>100</td>\n",
       "    </tr>\n",
       "    <tr>\n",
       "      <th>3</th>\n",
       "      <td>DLE</td>\n",
       "      <td>Comedy</td>\n",
       "      <td>89</td>\n",
       "    </tr>\n",
       "    <tr>\n",
       "      <th>4</th>\n",
       "      <td>Madhouse</td>\n",
       "      <td>Action</td>\n",
       "      <td>85</td>\n",
       "    </tr>\n",
       "    <tr>\n",
       "      <th>5</th>\n",
       "      <td>Production I.G</td>\n",
       "      <td>Action</td>\n",
       "      <td>76</td>\n",
       "    </tr>\n",
       "    <tr>\n",
       "      <th>6</th>\n",
       "      <td>Studio Pierrot</td>\n",
       "      <td>Action</td>\n",
       "      <td>69</td>\n",
       "    </tr>\n",
       "    <tr>\n",
       "      <th>7</th>\n",
       "      <td>J.C.Staff</td>\n",
       "      <td>Action</td>\n",
       "      <td>67</td>\n",
       "    </tr>\n",
       "    <tr>\n",
       "      <th>8</th>\n",
       "      <td>Studio Deen</td>\n",
       "      <td>Comedy</td>\n",
       "      <td>66</td>\n",
       "    </tr>\n",
       "    <tr>\n",
       "      <th>9</th>\n",
       "      <td>Bones</td>\n",
       "      <td>Action</td>\n",
       "      <td>66</td>\n",
       "    </tr>\n",
       "    <tr>\n",
       "      <th>10</th>\n",
       "      <td>OLM</td>\n",
       "      <td>Action</td>\n",
       "      <td>65</td>\n",
       "    </tr>\n",
       "    <tr>\n",
       "      <th>11</th>\n",
       "      <td>TMS Entertainment</td>\n",
       "      <td>Action</td>\n",
       "      <td>64</td>\n",
       "    </tr>\n",
       "    <tr>\n",
       "      <th>12</th>\n",
       "      <td>Studio Deen</td>\n",
       "      <td>Action</td>\n",
       "      <td>62</td>\n",
       "    </tr>\n",
       "    <tr>\n",
       "      <th>13</th>\n",
       "      <td>A-1 Pictures</td>\n",
       "      <td>Action</td>\n",
       "      <td>62</td>\n",
       "    </tr>\n",
       "    <tr>\n",
       "      <th>14</th>\n",
       "      <td>Production I.G</td>\n",
       "      <td>Comedy</td>\n",
       "      <td>59</td>\n",
       "    </tr>\n",
       "    <tr>\n",
       "      <th>15</th>\n",
       "      <td>Toei Animation</td>\n",
       "      <td>Adventure</td>\n",
       "      <td>58</td>\n",
       "    </tr>\n",
       "    <tr>\n",
       "      <th>16</th>\n",
       "      <td>Gonzo</td>\n",
       "      <td>Action</td>\n",
       "      <td>55</td>\n",
       "    </tr>\n",
       "    <tr>\n",
       "      <th>17</th>\n",
       "      <td>TMS Entertainment</td>\n",
       "      <td>Comedy</td>\n",
       "      <td>53</td>\n",
       "    </tr>\n",
       "    <tr>\n",
       "      <th>18</th>\n",
       "      <td>Madhouse</td>\n",
       "      <td>Comedy</td>\n",
       "      <td>50</td>\n",
       "    </tr>\n",
       "    <tr>\n",
       "      <th>19</th>\n",
       "      <td>Toei Animation</td>\n",
       "      <td>Comedy</td>\n",
       "      <td>50</td>\n",
       "    </tr>\n",
       "  </tbody>\n",
       "</table>\n",
       "</div>"
      ],
      "text/plain": [
       "               studio      genre  count\n",
       "0             Sunrise     Action    170\n",
       "1      Toei Animation     Action    153\n",
       "2           J.C.Staff     Comedy    100\n",
       "3                 DLE     Comedy     89\n",
       "4            Madhouse     Action     85\n",
       "5      Production I.G     Action     76\n",
       "6      Studio Pierrot     Action     69\n",
       "7           J.C.Staff     Action     67\n",
       "8         Studio Deen     Comedy     66\n",
       "9               Bones     Action     66\n",
       "10                OLM     Action     65\n",
       "11  TMS Entertainment     Action     64\n",
       "12        Studio Deen     Action     62\n",
       "13       A-1 Pictures     Action     62\n",
       "14     Production I.G     Comedy     59\n",
       "15     Toei Animation  Adventure     58\n",
       "16              Gonzo     Action     55\n",
       "17  TMS Entertainment     Comedy     53\n",
       "18           Madhouse     Comedy     50\n",
       "19     Toei Animation     Comedy     50"
      ]
     },
     "execution_count": 140,
     "metadata": {},
     "output_type": "execute_result"
    }
   ],
   "source": [
    "df_animes[['studio', 'genre']].value_counts().reset_index().rename(columns={0:'count'}).head(20)"
   ]
  },
  {
   "cell_type": "code",
   "execution_count": 142,
   "id": "c02ba22c",
   "metadata": {},
   "outputs": [
    {
     "data": {
      "application/vnd.plotly.v1+json": {
       "config": {
        "plotlyServerURL": "https://plot.ly"
       },
       "data": [
        {
         "alignmentgroup": "True",
         "hovertemplate": "Genre=%{text}<br>Anime Studios=%{x}<br>Number of anime per genre=%{y}<extra></extra>",
         "legendgroup": "Action",
         "marker": {
          "color": "#636efa",
          "pattern": {
           "shape": ""
          }
         },
         "name": "Action",
         "offsetgroup": "Action",
         "orientation": "v",
         "showlegend": true,
         "text": [
          "Action",
          "Action",
          "Action",
          "Action",
          "Action",
          "Action",
          "Action",
          "Action",
          "Action",
          "Action",
          "Action",
          "Action"
         ],
         "textposition": "auto",
         "texttemplate": "%{y:0.2s}",
         "type": "bar",
         "x": [
          "Sunrise",
          "Toei Animation",
          "Madhouse",
          "Production I.G",
          "Studio Pierrot",
          "J.C.Staff",
          "Bones",
          "OLM",
          "TMS Entertainment",
          "Studio Deen",
          "A-1 Pictures",
          "Gonzo"
         ],
         "xaxis": "x",
         "y": [
          170,
          153,
          85,
          76,
          69,
          67,
          66,
          65,
          64,
          62,
          62,
          55
         ],
         "yaxis": "y"
        },
        {
         "alignmentgroup": "True",
         "hovertemplate": "Genre=%{text}<br>Anime Studios=%{x}<br>Number of anime per genre=%{y}<extra></extra>",
         "legendgroup": "Comedy",
         "marker": {
          "color": "#EF553B",
          "pattern": {
           "shape": ""
          }
         },
         "name": "Comedy",
         "offsetgroup": "Comedy",
         "orientation": "v",
         "showlegend": true,
         "text": [
          "Comedy",
          "Comedy",
          "Comedy",
          "Comedy",
          "Comedy",
          "Comedy",
          "Comedy"
         ],
         "textposition": "auto",
         "texttemplate": "%{y:0.2s}",
         "type": "bar",
         "x": [
          "J.C.Staff",
          "DLE",
          "Studio Deen",
          "Production I.G",
          "TMS Entertainment",
          "Madhouse",
          "Toei Animation"
         ],
         "xaxis": "x",
         "y": [
          100,
          89,
          66,
          59,
          53,
          50,
          50
         ],
         "yaxis": "y"
        },
        {
         "alignmentgroup": "True",
         "hovertemplate": "Genre=%{text}<br>Anime Studios=%{x}<br>Number of anime per genre=%{y}<extra></extra>",
         "legendgroup": "Adventure",
         "marker": {
          "color": "#00cc96",
          "pattern": {
           "shape": ""
          }
         },
         "name": "Adventure",
         "offsetgroup": "Adventure",
         "orientation": "v",
         "showlegend": true,
         "text": [
          "Adventure"
         ],
         "textposition": "auto",
         "texttemplate": "%{y:0.2s}",
         "type": "bar",
         "x": [
          "Toei Animation"
         ],
         "xaxis": "x",
         "y": [
          58
         ],
         "yaxis": "y"
        }
       ],
       "layout": {
        "barmode": "relative",
        "legend": {
         "title": {
          "text": "Genre"
         },
         "tracegroupgap": 0
        },
        "template": {
         "data": {
          "bar": [
           {
            "error_x": {
             "color": "#2a3f5f"
            },
            "error_y": {
             "color": "#2a3f5f"
            },
            "marker": {
             "line": {
              "color": "#E5ECF6",
              "width": 0.5
             },
             "pattern": {
              "fillmode": "overlay",
              "size": 10,
              "solidity": 0.2
             }
            },
            "type": "bar"
           }
          ],
          "barpolar": [
           {
            "marker": {
             "line": {
              "color": "#E5ECF6",
              "width": 0.5
             },
             "pattern": {
              "fillmode": "overlay",
              "size": 10,
              "solidity": 0.2
             }
            },
            "type": "barpolar"
           }
          ],
          "carpet": [
           {
            "aaxis": {
             "endlinecolor": "#2a3f5f",
             "gridcolor": "white",
             "linecolor": "white",
             "minorgridcolor": "white",
             "startlinecolor": "#2a3f5f"
            },
            "baxis": {
             "endlinecolor": "#2a3f5f",
             "gridcolor": "white",
             "linecolor": "white",
             "minorgridcolor": "white",
             "startlinecolor": "#2a3f5f"
            },
            "type": "carpet"
           }
          ],
          "choropleth": [
           {
            "colorbar": {
             "outlinewidth": 0,
             "ticks": ""
            },
            "type": "choropleth"
           }
          ],
          "contour": [
           {
            "colorbar": {
             "outlinewidth": 0,
             "ticks": ""
            },
            "colorscale": [
             [
              0,
              "#0d0887"
             ],
             [
              0.1111111111111111,
              "#46039f"
             ],
             [
              0.2222222222222222,
              "#7201a8"
             ],
             [
              0.3333333333333333,
              "#9c179e"
             ],
             [
              0.4444444444444444,
              "#bd3786"
             ],
             [
              0.5555555555555556,
              "#d8576b"
             ],
             [
              0.6666666666666666,
              "#ed7953"
             ],
             [
              0.7777777777777778,
              "#fb9f3a"
             ],
             [
              0.8888888888888888,
              "#fdca26"
             ],
             [
              1,
              "#f0f921"
             ]
            ],
            "type": "contour"
           }
          ],
          "contourcarpet": [
           {
            "colorbar": {
             "outlinewidth": 0,
             "ticks": ""
            },
            "type": "contourcarpet"
           }
          ],
          "heatmap": [
           {
            "colorbar": {
             "outlinewidth": 0,
             "ticks": ""
            },
            "colorscale": [
             [
              0,
              "#0d0887"
             ],
             [
              0.1111111111111111,
              "#46039f"
             ],
             [
              0.2222222222222222,
              "#7201a8"
             ],
             [
              0.3333333333333333,
              "#9c179e"
             ],
             [
              0.4444444444444444,
              "#bd3786"
             ],
             [
              0.5555555555555556,
              "#d8576b"
             ],
             [
              0.6666666666666666,
              "#ed7953"
             ],
             [
              0.7777777777777778,
              "#fb9f3a"
             ],
             [
              0.8888888888888888,
              "#fdca26"
             ],
             [
              1,
              "#f0f921"
             ]
            ],
            "type": "heatmap"
           }
          ],
          "heatmapgl": [
           {
            "colorbar": {
             "outlinewidth": 0,
             "ticks": ""
            },
            "colorscale": [
             [
              0,
              "#0d0887"
             ],
             [
              0.1111111111111111,
              "#46039f"
             ],
             [
              0.2222222222222222,
              "#7201a8"
             ],
             [
              0.3333333333333333,
              "#9c179e"
             ],
             [
              0.4444444444444444,
              "#bd3786"
             ],
             [
              0.5555555555555556,
              "#d8576b"
             ],
             [
              0.6666666666666666,
              "#ed7953"
             ],
             [
              0.7777777777777778,
              "#fb9f3a"
             ],
             [
              0.8888888888888888,
              "#fdca26"
             ],
             [
              1,
              "#f0f921"
             ]
            ],
            "type": "heatmapgl"
           }
          ],
          "histogram": [
           {
            "marker": {
             "pattern": {
              "fillmode": "overlay",
              "size": 10,
              "solidity": 0.2
             }
            },
            "type": "histogram"
           }
          ],
          "histogram2d": [
           {
            "colorbar": {
             "outlinewidth": 0,
             "ticks": ""
            },
            "colorscale": [
             [
              0,
              "#0d0887"
             ],
             [
              0.1111111111111111,
              "#46039f"
             ],
             [
              0.2222222222222222,
              "#7201a8"
             ],
             [
              0.3333333333333333,
              "#9c179e"
             ],
             [
              0.4444444444444444,
              "#bd3786"
             ],
             [
              0.5555555555555556,
              "#d8576b"
             ],
             [
              0.6666666666666666,
              "#ed7953"
             ],
             [
              0.7777777777777778,
              "#fb9f3a"
             ],
             [
              0.8888888888888888,
              "#fdca26"
             ],
             [
              1,
              "#f0f921"
             ]
            ],
            "type": "histogram2d"
           }
          ],
          "histogram2dcontour": [
           {
            "colorbar": {
             "outlinewidth": 0,
             "ticks": ""
            },
            "colorscale": [
             [
              0,
              "#0d0887"
             ],
             [
              0.1111111111111111,
              "#46039f"
             ],
             [
              0.2222222222222222,
              "#7201a8"
             ],
             [
              0.3333333333333333,
              "#9c179e"
             ],
             [
              0.4444444444444444,
              "#bd3786"
             ],
             [
              0.5555555555555556,
              "#d8576b"
             ],
             [
              0.6666666666666666,
              "#ed7953"
             ],
             [
              0.7777777777777778,
              "#fb9f3a"
             ],
             [
              0.8888888888888888,
              "#fdca26"
             ],
             [
              1,
              "#f0f921"
             ]
            ],
            "type": "histogram2dcontour"
           }
          ],
          "mesh3d": [
           {
            "colorbar": {
             "outlinewidth": 0,
             "ticks": ""
            },
            "type": "mesh3d"
           }
          ],
          "parcoords": [
           {
            "line": {
             "colorbar": {
              "outlinewidth": 0,
              "ticks": ""
             }
            },
            "type": "parcoords"
           }
          ],
          "pie": [
           {
            "automargin": true,
            "type": "pie"
           }
          ],
          "scatter": [
           {
            "marker": {
             "colorbar": {
              "outlinewidth": 0,
              "ticks": ""
             }
            },
            "type": "scatter"
           }
          ],
          "scatter3d": [
           {
            "line": {
             "colorbar": {
              "outlinewidth": 0,
              "ticks": ""
             }
            },
            "marker": {
             "colorbar": {
              "outlinewidth": 0,
              "ticks": ""
             }
            },
            "type": "scatter3d"
           }
          ],
          "scattercarpet": [
           {
            "marker": {
             "colorbar": {
              "outlinewidth": 0,
              "ticks": ""
             }
            },
            "type": "scattercarpet"
           }
          ],
          "scattergeo": [
           {
            "marker": {
             "colorbar": {
              "outlinewidth": 0,
              "ticks": ""
             }
            },
            "type": "scattergeo"
           }
          ],
          "scattergl": [
           {
            "marker": {
             "colorbar": {
              "outlinewidth": 0,
              "ticks": ""
             }
            },
            "type": "scattergl"
           }
          ],
          "scattermapbox": [
           {
            "marker": {
             "colorbar": {
              "outlinewidth": 0,
              "ticks": ""
             }
            },
            "type": "scattermapbox"
           }
          ],
          "scatterpolar": [
           {
            "marker": {
             "colorbar": {
              "outlinewidth": 0,
              "ticks": ""
             }
            },
            "type": "scatterpolar"
           }
          ],
          "scatterpolargl": [
           {
            "marker": {
             "colorbar": {
              "outlinewidth": 0,
              "ticks": ""
             }
            },
            "type": "scatterpolargl"
           }
          ],
          "scatterternary": [
           {
            "marker": {
             "colorbar": {
              "outlinewidth": 0,
              "ticks": ""
             }
            },
            "type": "scatterternary"
           }
          ],
          "surface": [
           {
            "colorbar": {
             "outlinewidth": 0,
             "ticks": ""
            },
            "colorscale": [
             [
              0,
              "#0d0887"
             ],
             [
              0.1111111111111111,
              "#46039f"
             ],
             [
              0.2222222222222222,
              "#7201a8"
             ],
             [
              0.3333333333333333,
              "#9c179e"
             ],
             [
              0.4444444444444444,
              "#bd3786"
             ],
             [
              0.5555555555555556,
              "#d8576b"
             ],
             [
              0.6666666666666666,
              "#ed7953"
             ],
             [
              0.7777777777777778,
              "#fb9f3a"
             ],
             [
              0.8888888888888888,
              "#fdca26"
             ],
             [
              1,
              "#f0f921"
             ]
            ],
            "type": "surface"
           }
          ],
          "table": [
           {
            "cells": {
             "fill": {
              "color": "#EBF0F8"
             },
             "line": {
              "color": "white"
             }
            },
            "header": {
             "fill": {
              "color": "#C8D4E3"
             },
             "line": {
              "color": "white"
             }
            },
            "type": "table"
           }
          ]
         },
         "layout": {
          "annotationdefaults": {
           "arrowcolor": "#2a3f5f",
           "arrowhead": 0,
           "arrowwidth": 1
          },
          "autotypenumbers": "strict",
          "coloraxis": {
           "colorbar": {
            "outlinewidth": 0,
            "ticks": ""
           }
          },
          "colorscale": {
           "diverging": [
            [
             0,
             "#8e0152"
            ],
            [
             0.1,
             "#c51b7d"
            ],
            [
             0.2,
             "#de77ae"
            ],
            [
             0.3,
             "#f1b6da"
            ],
            [
             0.4,
             "#fde0ef"
            ],
            [
             0.5,
             "#f7f7f7"
            ],
            [
             0.6,
             "#e6f5d0"
            ],
            [
             0.7,
             "#b8e186"
            ],
            [
             0.8,
             "#7fbc41"
            ],
            [
             0.9,
             "#4d9221"
            ],
            [
             1,
             "#276419"
            ]
           ],
           "sequential": [
            [
             0,
             "#0d0887"
            ],
            [
             0.1111111111111111,
             "#46039f"
            ],
            [
             0.2222222222222222,
             "#7201a8"
            ],
            [
             0.3333333333333333,
             "#9c179e"
            ],
            [
             0.4444444444444444,
             "#bd3786"
            ],
            [
             0.5555555555555556,
             "#d8576b"
            ],
            [
             0.6666666666666666,
             "#ed7953"
            ],
            [
             0.7777777777777778,
             "#fb9f3a"
            ],
            [
             0.8888888888888888,
             "#fdca26"
            ],
            [
             1,
             "#f0f921"
            ]
           ],
           "sequentialminus": [
            [
             0,
             "#0d0887"
            ],
            [
             0.1111111111111111,
             "#46039f"
            ],
            [
             0.2222222222222222,
             "#7201a8"
            ],
            [
             0.3333333333333333,
             "#9c179e"
            ],
            [
             0.4444444444444444,
             "#bd3786"
            ],
            [
             0.5555555555555556,
             "#d8576b"
            ],
            [
             0.6666666666666666,
             "#ed7953"
            ],
            [
             0.7777777777777778,
             "#fb9f3a"
            ],
            [
             0.8888888888888888,
             "#fdca26"
            ],
            [
             1,
             "#f0f921"
            ]
           ]
          },
          "colorway": [
           "#636efa",
           "#EF553B",
           "#00cc96",
           "#ab63fa",
           "#FFA15A",
           "#19d3f3",
           "#FF6692",
           "#B6E880",
           "#FF97FF",
           "#FECB52"
          ],
          "font": {
           "color": "#2a3f5f"
          },
          "geo": {
           "bgcolor": "white",
           "lakecolor": "white",
           "landcolor": "#E5ECF6",
           "showlakes": true,
           "showland": true,
           "subunitcolor": "white"
          },
          "hoverlabel": {
           "align": "left"
          },
          "hovermode": "closest",
          "mapbox": {
           "style": "light"
          },
          "paper_bgcolor": "white",
          "plot_bgcolor": "#E5ECF6",
          "polar": {
           "angularaxis": {
            "gridcolor": "white",
            "linecolor": "white",
            "ticks": ""
           },
           "bgcolor": "#E5ECF6",
           "radialaxis": {
            "gridcolor": "white",
            "linecolor": "white",
            "ticks": ""
           }
          },
          "scene": {
           "xaxis": {
            "backgroundcolor": "#E5ECF6",
            "gridcolor": "white",
            "gridwidth": 2,
            "linecolor": "white",
            "showbackground": true,
            "ticks": "",
            "zerolinecolor": "white"
           },
           "yaxis": {
            "backgroundcolor": "#E5ECF6",
            "gridcolor": "white",
            "gridwidth": 2,
            "linecolor": "white",
            "showbackground": true,
            "ticks": "",
            "zerolinecolor": "white"
           },
           "zaxis": {
            "backgroundcolor": "#E5ECF6",
            "gridcolor": "white",
            "gridwidth": 2,
            "linecolor": "white",
            "showbackground": true,
            "ticks": "",
            "zerolinecolor": "white"
           }
          },
          "shapedefaults": {
           "line": {
            "color": "#2a3f5f"
           }
          },
          "ternary": {
           "aaxis": {
            "gridcolor": "white",
            "linecolor": "white",
            "ticks": ""
           },
           "baxis": {
            "gridcolor": "white",
            "linecolor": "white",
            "ticks": ""
           },
           "bgcolor": "#E5ECF6",
           "caxis": {
            "gridcolor": "white",
            "linecolor": "white",
            "ticks": ""
           }
          },
          "title": {
           "x": 0.05
          },
          "xaxis": {
           "automargin": true,
           "gridcolor": "white",
           "linecolor": "white",
           "ticks": "",
           "title": {
            "standoff": 15
           },
           "zerolinecolor": "white",
           "zerolinewidth": 2
          },
          "yaxis": {
           "automargin": true,
           "gridcolor": "white",
           "linecolor": "white",
           "ticks": "",
           "title": {
            "standoff": 15
           },
           "zerolinecolor": "white",
           "zerolinewidth": 2
          }
         }
        },
        "title": {
         "text": "Anime Studios Production by Genre (Top 20)"
        },
        "xaxis": {
         "anchor": "y",
         "domain": [
          0,
          1
         ],
         "title": {
          "text": "Anime Studios"
         }
        },
        "yaxis": {
         "anchor": "x",
         "domain": [
          0,
          1
         ],
         "title": {
          "text": "Number of anime per genre"
         }
        }
       }
      },
      "text/html": [
       "<div>                            <div id=\"acd38a44-2426-41ac-aeff-faae99982759\" class=\"plotly-graph-div\" style=\"height:525px; width:100%;\"></div>            <script type=\"text/javascript\">                require([\"plotly\"], function(Plotly) {                    window.PLOTLYENV=window.PLOTLYENV || {};                                    if (document.getElementById(\"acd38a44-2426-41ac-aeff-faae99982759\")) {                    Plotly.newPlot(                        \"acd38a44-2426-41ac-aeff-faae99982759\",                        [{\"alignmentgroup\":\"True\",\"hovertemplate\":\"Genre=%{text}<br>Anime Studios=%{x}<br>Number of anime per genre=%{y}<extra></extra>\",\"legendgroup\":\"Action\",\"marker\":{\"color\":\"#636efa\",\"pattern\":{\"shape\":\"\"}},\"name\":\"Action\",\"offsetgroup\":\"Action\",\"orientation\":\"v\",\"showlegend\":true,\"text\":[\"Action\",\"Action\",\"Action\",\"Action\",\"Action\",\"Action\",\"Action\",\"Action\",\"Action\",\"Action\",\"Action\",\"Action\"],\"textposition\":\"auto\",\"texttemplate\":\"%{y:0.2s}\",\"x\":[\"Sunrise\",\"Toei Animation\",\"Madhouse\",\"Production I.G\",\"Studio Pierrot\",\"J.C.Staff\",\"Bones\",\"OLM\",\"TMS Entertainment\",\"Studio Deen\",\"A-1 Pictures\",\"Gonzo\"],\"xaxis\":\"x\",\"y\":[170,153,85,76,69,67,66,65,64,62,62,55],\"yaxis\":\"y\",\"type\":\"bar\"},{\"alignmentgroup\":\"True\",\"hovertemplate\":\"Genre=%{text}<br>Anime Studios=%{x}<br>Number of anime per genre=%{y}<extra></extra>\",\"legendgroup\":\"Comedy\",\"marker\":{\"color\":\"#EF553B\",\"pattern\":{\"shape\":\"\"}},\"name\":\"Comedy\",\"offsetgroup\":\"Comedy\",\"orientation\":\"v\",\"showlegend\":true,\"text\":[\"Comedy\",\"Comedy\",\"Comedy\",\"Comedy\",\"Comedy\",\"Comedy\",\"Comedy\"],\"textposition\":\"auto\",\"texttemplate\":\"%{y:0.2s}\",\"x\":[\"J.C.Staff\",\"DLE\",\"Studio Deen\",\"Production I.G\",\"TMS Entertainment\",\"Madhouse\",\"Toei Animation\"],\"xaxis\":\"x\",\"y\":[100,89,66,59,53,50,50],\"yaxis\":\"y\",\"type\":\"bar\"},{\"alignmentgroup\":\"True\",\"hovertemplate\":\"Genre=%{text}<br>Anime Studios=%{x}<br>Number of anime per genre=%{y}<extra></extra>\",\"legendgroup\":\"Adventure\",\"marker\":{\"color\":\"#00cc96\",\"pattern\":{\"shape\":\"\"}},\"name\":\"Adventure\",\"offsetgroup\":\"Adventure\",\"orientation\":\"v\",\"showlegend\":true,\"text\":[\"Adventure\"],\"textposition\":\"auto\",\"texttemplate\":\"%{y:0.2s}\",\"x\":[\"Toei Animation\"],\"xaxis\":\"x\",\"y\":[58],\"yaxis\":\"y\",\"type\":\"bar\"}],                        {\"template\":{\"data\":{\"bar\":[{\"error_x\":{\"color\":\"#2a3f5f\"},\"error_y\":{\"color\":\"#2a3f5f\"},\"marker\":{\"line\":{\"color\":\"#E5ECF6\",\"width\":0.5},\"pattern\":{\"fillmode\":\"overlay\",\"size\":10,\"solidity\":0.2}},\"type\":\"bar\"}],\"barpolar\":[{\"marker\":{\"line\":{\"color\":\"#E5ECF6\",\"width\":0.5},\"pattern\":{\"fillmode\":\"overlay\",\"size\":10,\"solidity\":0.2}},\"type\":\"barpolar\"}],\"carpet\":[{\"aaxis\":{\"endlinecolor\":\"#2a3f5f\",\"gridcolor\":\"white\",\"linecolor\":\"white\",\"minorgridcolor\":\"white\",\"startlinecolor\":\"#2a3f5f\"},\"baxis\":{\"endlinecolor\":\"#2a3f5f\",\"gridcolor\":\"white\",\"linecolor\":\"white\",\"minorgridcolor\":\"white\",\"startlinecolor\":\"#2a3f5f\"},\"type\":\"carpet\"}],\"choropleth\":[{\"colorbar\":{\"outlinewidth\":0,\"ticks\":\"\"},\"type\":\"choropleth\"}],\"contour\":[{\"colorbar\":{\"outlinewidth\":0,\"ticks\":\"\"},\"colorscale\":[[0.0,\"#0d0887\"],[0.1111111111111111,\"#46039f\"],[0.2222222222222222,\"#7201a8\"],[0.3333333333333333,\"#9c179e\"],[0.4444444444444444,\"#bd3786\"],[0.5555555555555556,\"#d8576b\"],[0.6666666666666666,\"#ed7953\"],[0.7777777777777778,\"#fb9f3a\"],[0.8888888888888888,\"#fdca26\"],[1.0,\"#f0f921\"]],\"type\":\"contour\"}],\"contourcarpet\":[{\"colorbar\":{\"outlinewidth\":0,\"ticks\":\"\"},\"type\":\"contourcarpet\"}],\"heatmap\":[{\"colorbar\":{\"outlinewidth\":0,\"ticks\":\"\"},\"colorscale\":[[0.0,\"#0d0887\"],[0.1111111111111111,\"#46039f\"],[0.2222222222222222,\"#7201a8\"],[0.3333333333333333,\"#9c179e\"],[0.4444444444444444,\"#bd3786\"],[0.5555555555555556,\"#d8576b\"],[0.6666666666666666,\"#ed7953\"],[0.7777777777777778,\"#fb9f3a\"],[0.8888888888888888,\"#fdca26\"],[1.0,\"#f0f921\"]],\"type\":\"heatmap\"}],\"heatmapgl\":[{\"colorbar\":{\"outlinewidth\":0,\"ticks\":\"\"},\"colorscale\":[[0.0,\"#0d0887\"],[0.1111111111111111,\"#46039f\"],[0.2222222222222222,\"#7201a8\"],[0.3333333333333333,\"#9c179e\"],[0.4444444444444444,\"#bd3786\"],[0.5555555555555556,\"#d8576b\"],[0.6666666666666666,\"#ed7953\"],[0.7777777777777778,\"#fb9f3a\"],[0.8888888888888888,\"#fdca26\"],[1.0,\"#f0f921\"]],\"type\":\"heatmapgl\"}],\"histogram\":[{\"marker\":{\"pattern\":{\"fillmode\":\"overlay\",\"size\":10,\"solidity\":0.2}},\"type\":\"histogram\"}],\"histogram2d\":[{\"colorbar\":{\"outlinewidth\":0,\"ticks\":\"\"},\"colorscale\":[[0.0,\"#0d0887\"],[0.1111111111111111,\"#46039f\"],[0.2222222222222222,\"#7201a8\"],[0.3333333333333333,\"#9c179e\"],[0.4444444444444444,\"#bd3786\"],[0.5555555555555556,\"#d8576b\"],[0.6666666666666666,\"#ed7953\"],[0.7777777777777778,\"#fb9f3a\"],[0.8888888888888888,\"#fdca26\"],[1.0,\"#f0f921\"]],\"type\":\"histogram2d\"}],\"histogram2dcontour\":[{\"colorbar\":{\"outlinewidth\":0,\"ticks\":\"\"},\"colorscale\":[[0.0,\"#0d0887\"],[0.1111111111111111,\"#46039f\"],[0.2222222222222222,\"#7201a8\"],[0.3333333333333333,\"#9c179e\"],[0.4444444444444444,\"#bd3786\"],[0.5555555555555556,\"#d8576b\"],[0.6666666666666666,\"#ed7953\"],[0.7777777777777778,\"#fb9f3a\"],[0.8888888888888888,\"#fdca26\"],[1.0,\"#f0f921\"]],\"type\":\"histogram2dcontour\"}],\"mesh3d\":[{\"colorbar\":{\"outlinewidth\":0,\"ticks\":\"\"},\"type\":\"mesh3d\"}],\"parcoords\":[{\"line\":{\"colorbar\":{\"outlinewidth\":0,\"ticks\":\"\"}},\"type\":\"parcoords\"}],\"pie\":[{\"automargin\":true,\"type\":\"pie\"}],\"scatter\":[{\"marker\":{\"colorbar\":{\"outlinewidth\":0,\"ticks\":\"\"}},\"type\":\"scatter\"}],\"scatter3d\":[{\"line\":{\"colorbar\":{\"outlinewidth\":0,\"ticks\":\"\"}},\"marker\":{\"colorbar\":{\"outlinewidth\":0,\"ticks\":\"\"}},\"type\":\"scatter3d\"}],\"scattercarpet\":[{\"marker\":{\"colorbar\":{\"outlinewidth\":0,\"ticks\":\"\"}},\"type\":\"scattercarpet\"}],\"scattergeo\":[{\"marker\":{\"colorbar\":{\"outlinewidth\":0,\"ticks\":\"\"}},\"type\":\"scattergeo\"}],\"scattergl\":[{\"marker\":{\"colorbar\":{\"outlinewidth\":0,\"ticks\":\"\"}},\"type\":\"scattergl\"}],\"scattermapbox\":[{\"marker\":{\"colorbar\":{\"outlinewidth\":0,\"ticks\":\"\"}},\"type\":\"scattermapbox\"}],\"scatterpolar\":[{\"marker\":{\"colorbar\":{\"outlinewidth\":0,\"ticks\":\"\"}},\"type\":\"scatterpolar\"}],\"scatterpolargl\":[{\"marker\":{\"colorbar\":{\"outlinewidth\":0,\"ticks\":\"\"}},\"type\":\"scatterpolargl\"}],\"scatterternary\":[{\"marker\":{\"colorbar\":{\"outlinewidth\":0,\"ticks\":\"\"}},\"type\":\"scatterternary\"}],\"surface\":[{\"colorbar\":{\"outlinewidth\":0,\"ticks\":\"\"},\"colorscale\":[[0.0,\"#0d0887\"],[0.1111111111111111,\"#46039f\"],[0.2222222222222222,\"#7201a8\"],[0.3333333333333333,\"#9c179e\"],[0.4444444444444444,\"#bd3786\"],[0.5555555555555556,\"#d8576b\"],[0.6666666666666666,\"#ed7953\"],[0.7777777777777778,\"#fb9f3a\"],[0.8888888888888888,\"#fdca26\"],[1.0,\"#f0f921\"]],\"type\":\"surface\"}],\"table\":[{\"cells\":{\"fill\":{\"color\":\"#EBF0F8\"},\"line\":{\"color\":\"white\"}},\"header\":{\"fill\":{\"color\":\"#C8D4E3\"},\"line\":{\"color\":\"white\"}},\"type\":\"table\"}]},\"layout\":{\"annotationdefaults\":{\"arrowcolor\":\"#2a3f5f\",\"arrowhead\":0,\"arrowwidth\":1},\"autotypenumbers\":\"strict\",\"coloraxis\":{\"colorbar\":{\"outlinewidth\":0,\"ticks\":\"\"}},\"colorscale\":{\"diverging\":[[0,\"#8e0152\"],[0.1,\"#c51b7d\"],[0.2,\"#de77ae\"],[0.3,\"#f1b6da\"],[0.4,\"#fde0ef\"],[0.5,\"#f7f7f7\"],[0.6,\"#e6f5d0\"],[0.7,\"#b8e186\"],[0.8,\"#7fbc41\"],[0.9,\"#4d9221\"],[1,\"#276419\"]],\"sequential\":[[0.0,\"#0d0887\"],[0.1111111111111111,\"#46039f\"],[0.2222222222222222,\"#7201a8\"],[0.3333333333333333,\"#9c179e\"],[0.4444444444444444,\"#bd3786\"],[0.5555555555555556,\"#d8576b\"],[0.6666666666666666,\"#ed7953\"],[0.7777777777777778,\"#fb9f3a\"],[0.8888888888888888,\"#fdca26\"],[1.0,\"#f0f921\"]],\"sequentialminus\":[[0.0,\"#0d0887\"],[0.1111111111111111,\"#46039f\"],[0.2222222222222222,\"#7201a8\"],[0.3333333333333333,\"#9c179e\"],[0.4444444444444444,\"#bd3786\"],[0.5555555555555556,\"#d8576b\"],[0.6666666666666666,\"#ed7953\"],[0.7777777777777778,\"#fb9f3a\"],[0.8888888888888888,\"#fdca26\"],[1.0,\"#f0f921\"]]},\"colorway\":[\"#636efa\",\"#EF553B\",\"#00cc96\",\"#ab63fa\",\"#FFA15A\",\"#19d3f3\",\"#FF6692\",\"#B6E880\",\"#FF97FF\",\"#FECB52\"],\"font\":{\"color\":\"#2a3f5f\"},\"geo\":{\"bgcolor\":\"white\",\"lakecolor\":\"white\",\"landcolor\":\"#E5ECF6\",\"showlakes\":true,\"showland\":true,\"subunitcolor\":\"white\"},\"hoverlabel\":{\"align\":\"left\"},\"hovermode\":\"closest\",\"mapbox\":{\"style\":\"light\"},\"paper_bgcolor\":\"white\",\"plot_bgcolor\":\"#E5ECF6\",\"polar\":{\"angularaxis\":{\"gridcolor\":\"white\",\"linecolor\":\"white\",\"ticks\":\"\"},\"bgcolor\":\"#E5ECF6\",\"radialaxis\":{\"gridcolor\":\"white\",\"linecolor\":\"white\",\"ticks\":\"\"}},\"scene\":{\"xaxis\":{\"backgroundcolor\":\"#E5ECF6\",\"gridcolor\":\"white\",\"gridwidth\":2,\"linecolor\":\"white\",\"showbackground\":true,\"ticks\":\"\",\"zerolinecolor\":\"white\"},\"yaxis\":{\"backgroundcolor\":\"#E5ECF6\",\"gridcolor\":\"white\",\"gridwidth\":2,\"linecolor\":\"white\",\"showbackground\":true,\"ticks\":\"\",\"zerolinecolor\":\"white\"},\"zaxis\":{\"backgroundcolor\":\"#E5ECF6\",\"gridcolor\":\"white\",\"gridwidth\":2,\"linecolor\":\"white\",\"showbackground\":true,\"ticks\":\"\",\"zerolinecolor\":\"white\"}},\"shapedefaults\":{\"line\":{\"color\":\"#2a3f5f\"}},\"ternary\":{\"aaxis\":{\"gridcolor\":\"white\",\"linecolor\":\"white\",\"ticks\":\"\"},\"baxis\":{\"gridcolor\":\"white\",\"linecolor\":\"white\",\"ticks\":\"\"},\"bgcolor\":\"#E5ECF6\",\"caxis\":{\"gridcolor\":\"white\",\"linecolor\":\"white\",\"ticks\":\"\"}},\"title\":{\"x\":0.05},\"xaxis\":{\"automargin\":true,\"gridcolor\":\"white\",\"linecolor\":\"white\",\"ticks\":\"\",\"title\":{\"standoff\":15},\"zerolinecolor\":\"white\",\"zerolinewidth\":2},\"yaxis\":{\"automargin\":true,\"gridcolor\":\"white\",\"linecolor\":\"white\",\"ticks\":\"\",\"title\":{\"standoff\":15},\"zerolinecolor\":\"white\",\"zerolinewidth\":2}}},\"xaxis\":{\"anchor\":\"y\",\"domain\":[0.0,1.0],\"title\":{\"text\":\"Anime Studios\"}},\"yaxis\":{\"anchor\":\"x\",\"domain\":[0.0,1.0],\"title\":{\"text\":\"Number of anime per genre\"}},\"legend\":{\"title\":{\"text\":\"Genre\"},\"tracegroupgap\":0},\"title\":{\"text\":\"Anime Studios Production by Genre (Top 20)\"},\"barmode\":\"relative\"},                        {\"responsive\": true}                    ).then(function(){\n",
       "                            \n",
       "var gd = document.getElementById('acd38a44-2426-41ac-aeff-faae99982759');\n",
       "var x = new MutationObserver(function (mutations, observer) {{\n",
       "        var display = window.getComputedStyle(gd).display;\n",
       "        if (!display || display === 'none') {{\n",
       "            console.log([gd, 'removed!']);\n",
       "            Plotly.purge(gd);\n",
       "            observer.disconnect();\n",
       "        }}\n",
       "}});\n",
       "\n",
       "// Listen for the removal of the full notebook cells\n",
       "var notebookContainer = gd.closest('#notebook-container');\n",
       "if (notebookContainer) {{\n",
       "    x.observe(notebookContainer, {childList: true});\n",
       "}}\n",
       "\n",
       "// Listen for the clearing of the current output cell\n",
       "var outputEl = gd.closest('.output');\n",
       "if (outputEl) {{\n",
       "    x.observe(outputEl, {childList: true});\n",
       "}}\n",
       "\n",
       "                        })                };                });            </script>        </div>"
      ]
     },
     "metadata": {},
     "output_type": "display_data"
    }
   ],
   "source": [
    "px.bar(df_animes[['studio', 'genre']].value_counts().reset_index().rename(columns={0:'count'}).head(20),\n",
    "        x='studio', y='count', text='genre', color='genre', text_auto='0.2s',\n",
    "        title='Anime Studios Production by Genre (Top 20)',\n",
    "        labels={'genre':'Genre', 'count':'Number of anime per genre', 'studio':'Anime Studios'})"
   ]
  },
  {
   "cell_type": "code",
   "execution_count": null,
   "id": "5eae034c",
   "metadata": {},
   "outputs": [],
   "source": []
  },
  {
   "cell_type": "code",
   "execution_count": null,
   "id": "a8936779",
   "metadata": {},
   "outputs": [],
   "source": []
  },
  {
   "cell_type": "code",
   "execution_count": 146,
   "id": "e0687d39",
   "metadata": {},
   "outputs": [
    {
     "data": {
      "application/vnd.plotly.v1+json": {
       "config": {
        "plotlyServerURL": "https://plot.ly"
       },
       "data": [
        {
         "alignmentgroup": "True",
         "hovertemplate": "Release Format=%{text}<br>Anime Studios=%{x}<br>Number of anime per release format=%{y}<extra></extra>",
         "legendgroup": "TV",
         "marker": {
          "color": "#636efa",
          "pattern": {
           "shape": ""
          }
         },
         "name": "TV",
         "offsetgroup": "TV",
         "orientation": "v",
         "showlegend": true,
         "text": [
          "TV",
          "TV",
          "TV",
          "TV",
          "TV",
          "TV",
          "TV",
          "TV",
          "TV",
          "TV",
          "TV",
          "TV"
         ],
         "textposition": "auto",
         "texttemplate": "%{y:0.2s}",
         "type": "bar",
         "x": [
          "Studio Deen",
          "J.C.Staff",
          "Toei Animation",
          "Madhouse",
          "Sunrise",
          "TMS Entertainment",
          "A-1 Pictures",
          "Studio Pierrot",
          "OLM",
          "Xebec",
          "Gonzo",
          "Production I.G"
         ],
         "xaxis": "x",
         "y": [
          138,
          123,
          121,
          119,
          113,
          79,
          79,
          76,
          67,
          62,
          62,
          60
         ],
         "yaxis": "y"
        },
        {
         "alignmentgroup": "True",
         "hovertemplate": "Release Format=%{text}<br>Anime Studios=%{x}<br>Number of anime per release format=%{y}<extra></extra>",
         "legendgroup": "Movie",
         "marker": {
          "color": "#EF553B",
          "pattern": {
           "shape": ""
          }
         },
         "name": "Movie",
         "offsetgroup": "Movie",
         "orientation": "v",
         "showlegend": true,
         "text": [
          "Movie",
          "Movie"
         ],
         "textposition": "auto",
         "texttemplate": "%{y:0.2s}",
         "type": "bar",
         "x": [
          "Toei Animation",
          "TMS Entertainment"
         ],
         "xaxis": "x",
         "y": [
          137,
          61
         ],
         "yaxis": "y"
        },
        {
         "alignmentgroup": "True",
         "hovertemplate": "Release Format=%{text}<br>Anime Studios=%{x}<br>Number of anime per release format=%{y}<extra></extra>",
         "legendgroup": "OVA",
         "marker": {
          "color": "#00cc96",
          "pattern": {
           "shape": ""
          }
         },
         "name": "OVA",
         "offsetgroup": "OVA",
         "orientation": "v",
         "showlegend": true,
         "text": [
          "OVA",
          "OVA",
          "OVA"
         ],
         "textposition": "auto",
         "texttemplate": "%{y:0.2s}",
         "type": "bar",
         "x": [
          "J.C.Staff",
          "Sunrise",
          "Toei Animation"
         ],
         "xaxis": "x",
         "y": [
          85,
          64,
          58
         ],
         "yaxis": "y"
        },
        {
         "alignmentgroup": "True",
         "hovertemplate": "Release Format=%{text}<br>Anime Studios=%{x}<br>Number of anime per release format=%{y}<extra></extra>",
         "legendgroup": "Special",
         "marker": {
          "color": "#ab63fa",
          "pattern": {
           "shape": ""
          }
         },
         "name": "Special",
         "offsetgroup": "Special",
         "orientation": "v",
         "showlegend": true,
         "text": [
          "Special",
          "Special",
          "Special"
         ],
         "textposition": "auto",
         "texttemplate": "%{y:0.2s}",
         "type": "bar",
         "x": [
          "Sunrise",
          "J.C.Staff",
          "Production I.G"
         ],
         "xaxis": "x",
         "y": [
          77,
          62,
          61
         ],
         "yaxis": "y"
        }
       ],
       "layout": {
        "barmode": "relative",
        "legend": {
         "title": {
          "text": "Release Format"
         },
         "tracegroupgap": 0
        },
        "template": {
         "data": {
          "bar": [
           {
            "error_x": {
             "color": "#2a3f5f"
            },
            "error_y": {
             "color": "#2a3f5f"
            },
            "marker": {
             "line": {
              "color": "#E5ECF6",
              "width": 0.5
             },
             "pattern": {
              "fillmode": "overlay",
              "size": 10,
              "solidity": 0.2
             }
            },
            "type": "bar"
           }
          ],
          "barpolar": [
           {
            "marker": {
             "line": {
              "color": "#E5ECF6",
              "width": 0.5
             },
             "pattern": {
              "fillmode": "overlay",
              "size": 10,
              "solidity": 0.2
             }
            },
            "type": "barpolar"
           }
          ],
          "carpet": [
           {
            "aaxis": {
             "endlinecolor": "#2a3f5f",
             "gridcolor": "white",
             "linecolor": "white",
             "minorgridcolor": "white",
             "startlinecolor": "#2a3f5f"
            },
            "baxis": {
             "endlinecolor": "#2a3f5f",
             "gridcolor": "white",
             "linecolor": "white",
             "minorgridcolor": "white",
             "startlinecolor": "#2a3f5f"
            },
            "type": "carpet"
           }
          ],
          "choropleth": [
           {
            "colorbar": {
             "outlinewidth": 0,
             "ticks": ""
            },
            "type": "choropleth"
           }
          ],
          "contour": [
           {
            "colorbar": {
             "outlinewidth": 0,
             "ticks": ""
            },
            "colorscale": [
             [
              0,
              "#0d0887"
             ],
             [
              0.1111111111111111,
              "#46039f"
             ],
             [
              0.2222222222222222,
              "#7201a8"
             ],
             [
              0.3333333333333333,
              "#9c179e"
             ],
             [
              0.4444444444444444,
              "#bd3786"
             ],
             [
              0.5555555555555556,
              "#d8576b"
             ],
             [
              0.6666666666666666,
              "#ed7953"
             ],
             [
              0.7777777777777778,
              "#fb9f3a"
             ],
             [
              0.8888888888888888,
              "#fdca26"
             ],
             [
              1,
              "#f0f921"
             ]
            ],
            "type": "contour"
           }
          ],
          "contourcarpet": [
           {
            "colorbar": {
             "outlinewidth": 0,
             "ticks": ""
            },
            "type": "contourcarpet"
           }
          ],
          "heatmap": [
           {
            "colorbar": {
             "outlinewidth": 0,
             "ticks": ""
            },
            "colorscale": [
             [
              0,
              "#0d0887"
             ],
             [
              0.1111111111111111,
              "#46039f"
             ],
             [
              0.2222222222222222,
              "#7201a8"
             ],
             [
              0.3333333333333333,
              "#9c179e"
             ],
             [
              0.4444444444444444,
              "#bd3786"
             ],
             [
              0.5555555555555556,
              "#d8576b"
             ],
             [
              0.6666666666666666,
              "#ed7953"
             ],
             [
              0.7777777777777778,
              "#fb9f3a"
             ],
             [
              0.8888888888888888,
              "#fdca26"
             ],
             [
              1,
              "#f0f921"
             ]
            ],
            "type": "heatmap"
           }
          ],
          "heatmapgl": [
           {
            "colorbar": {
             "outlinewidth": 0,
             "ticks": ""
            },
            "colorscale": [
             [
              0,
              "#0d0887"
             ],
             [
              0.1111111111111111,
              "#46039f"
             ],
             [
              0.2222222222222222,
              "#7201a8"
             ],
             [
              0.3333333333333333,
              "#9c179e"
             ],
             [
              0.4444444444444444,
              "#bd3786"
             ],
             [
              0.5555555555555556,
              "#d8576b"
             ],
             [
              0.6666666666666666,
              "#ed7953"
             ],
             [
              0.7777777777777778,
              "#fb9f3a"
             ],
             [
              0.8888888888888888,
              "#fdca26"
             ],
             [
              1,
              "#f0f921"
             ]
            ],
            "type": "heatmapgl"
           }
          ],
          "histogram": [
           {
            "marker": {
             "pattern": {
              "fillmode": "overlay",
              "size": 10,
              "solidity": 0.2
             }
            },
            "type": "histogram"
           }
          ],
          "histogram2d": [
           {
            "colorbar": {
             "outlinewidth": 0,
             "ticks": ""
            },
            "colorscale": [
             [
              0,
              "#0d0887"
             ],
             [
              0.1111111111111111,
              "#46039f"
             ],
             [
              0.2222222222222222,
              "#7201a8"
             ],
             [
              0.3333333333333333,
              "#9c179e"
             ],
             [
              0.4444444444444444,
              "#bd3786"
             ],
             [
              0.5555555555555556,
              "#d8576b"
             ],
             [
              0.6666666666666666,
              "#ed7953"
             ],
             [
              0.7777777777777778,
              "#fb9f3a"
             ],
             [
              0.8888888888888888,
              "#fdca26"
             ],
             [
              1,
              "#f0f921"
             ]
            ],
            "type": "histogram2d"
           }
          ],
          "histogram2dcontour": [
           {
            "colorbar": {
             "outlinewidth": 0,
             "ticks": ""
            },
            "colorscale": [
             [
              0,
              "#0d0887"
             ],
             [
              0.1111111111111111,
              "#46039f"
             ],
             [
              0.2222222222222222,
              "#7201a8"
             ],
             [
              0.3333333333333333,
              "#9c179e"
             ],
             [
              0.4444444444444444,
              "#bd3786"
             ],
             [
              0.5555555555555556,
              "#d8576b"
             ],
             [
              0.6666666666666666,
              "#ed7953"
             ],
             [
              0.7777777777777778,
              "#fb9f3a"
             ],
             [
              0.8888888888888888,
              "#fdca26"
             ],
             [
              1,
              "#f0f921"
             ]
            ],
            "type": "histogram2dcontour"
           }
          ],
          "mesh3d": [
           {
            "colorbar": {
             "outlinewidth": 0,
             "ticks": ""
            },
            "type": "mesh3d"
           }
          ],
          "parcoords": [
           {
            "line": {
             "colorbar": {
              "outlinewidth": 0,
              "ticks": ""
             }
            },
            "type": "parcoords"
           }
          ],
          "pie": [
           {
            "automargin": true,
            "type": "pie"
           }
          ],
          "scatter": [
           {
            "marker": {
             "colorbar": {
              "outlinewidth": 0,
              "ticks": ""
             }
            },
            "type": "scatter"
           }
          ],
          "scatter3d": [
           {
            "line": {
             "colorbar": {
              "outlinewidth": 0,
              "ticks": ""
             }
            },
            "marker": {
             "colorbar": {
              "outlinewidth": 0,
              "ticks": ""
             }
            },
            "type": "scatter3d"
           }
          ],
          "scattercarpet": [
           {
            "marker": {
             "colorbar": {
              "outlinewidth": 0,
              "ticks": ""
             }
            },
            "type": "scattercarpet"
           }
          ],
          "scattergeo": [
           {
            "marker": {
             "colorbar": {
              "outlinewidth": 0,
              "ticks": ""
             }
            },
            "type": "scattergeo"
           }
          ],
          "scattergl": [
           {
            "marker": {
             "colorbar": {
              "outlinewidth": 0,
              "ticks": ""
             }
            },
            "type": "scattergl"
           }
          ],
          "scattermapbox": [
           {
            "marker": {
             "colorbar": {
              "outlinewidth": 0,
              "ticks": ""
             }
            },
            "type": "scattermapbox"
           }
          ],
          "scatterpolar": [
           {
            "marker": {
             "colorbar": {
              "outlinewidth": 0,
              "ticks": ""
             }
            },
            "type": "scatterpolar"
           }
          ],
          "scatterpolargl": [
           {
            "marker": {
             "colorbar": {
              "outlinewidth": 0,
              "ticks": ""
             }
            },
            "type": "scatterpolargl"
           }
          ],
          "scatterternary": [
           {
            "marker": {
             "colorbar": {
              "outlinewidth": 0,
              "ticks": ""
             }
            },
            "type": "scatterternary"
           }
          ],
          "surface": [
           {
            "colorbar": {
             "outlinewidth": 0,
             "ticks": ""
            },
            "colorscale": [
             [
              0,
              "#0d0887"
             ],
             [
              0.1111111111111111,
              "#46039f"
             ],
             [
              0.2222222222222222,
              "#7201a8"
             ],
             [
              0.3333333333333333,
              "#9c179e"
             ],
             [
              0.4444444444444444,
              "#bd3786"
             ],
             [
              0.5555555555555556,
              "#d8576b"
             ],
             [
              0.6666666666666666,
              "#ed7953"
             ],
             [
              0.7777777777777778,
              "#fb9f3a"
             ],
             [
              0.8888888888888888,
              "#fdca26"
             ],
             [
              1,
              "#f0f921"
             ]
            ],
            "type": "surface"
           }
          ],
          "table": [
           {
            "cells": {
             "fill": {
              "color": "#EBF0F8"
             },
             "line": {
              "color": "white"
             }
            },
            "header": {
             "fill": {
              "color": "#C8D4E3"
             },
             "line": {
              "color": "white"
             }
            },
            "type": "table"
           }
          ]
         },
         "layout": {
          "annotationdefaults": {
           "arrowcolor": "#2a3f5f",
           "arrowhead": 0,
           "arrowwidth": 1
          },
          "autotypenumbers": "strict",
          "coloraxis": {
           "colorbar": {
            "outlinewidth": 0,
            "ticks": ""
           }
          },
          "colorscale": {
           "diverging": [
            [
             0,
             "#8e0152"
            ],
            [
             0.1,
             "#c51b7d"
            ],
            [
             0.2,
             "#de77ae"
            ],
            [
             0.3,
             "#f1b6da"
            ],
            [
             0.4,
             "#fde0ef"
            ],
            [
             0.5,
             "#f7f7f7"
            ],
            [
             0.6,
             "#e6f5d0"
            ],
            [
             0.7,
             "#b8e186"
            ],
            [
             0.8,
             "#7fbc41"
            ],
            [
             0.9,
             "#4d9221"
            ],
            [
             1,
             "#276419"
            ]
           ],
           "sequential": [
            [
             0,
             "#0d0887"
            ],
            [
             0.1111111111111111,
             "#46039f"
            ],
            [
             0.2222222222222222,
             "#7201a8"
            ],
            [
             0.3333333333333333,
             "#9c179e"
            ],
            [
             0.4444444444444444,
             "#bd3786"
            ],
            [
             0.5555555555555556,
             "#d8576b"
            ],
            [
             0.6666666666666666,
             "#ed7953"
            ],
            [
             0.7777777777777778,
             "#fb9f3a"
            ],
            [
             0.8888888888888888,
             "#fdca26"
            ],
            [
             1,
             "#f0f921"
            ]
           ],
           "sequentialminus": [
            [
             0,
             "#0d0887"
            ],
            [
             0.1111111111111111,
             "#46039f"
            ],
            [
             0.2222222222222222,
             "#7201a8"
            ],
            [
             0.3333333333333333,
             "#9c179e"
            ],
            [
             0.4444444444444444,
             "#bd3786"
            ],
            [
             0.5555555555555556,
             "#d8576b"
            ],
            [
             0.6666666666666666,
             "#ed7953"
            ],
            [
             0.7777777777777778,
             "#fb9f3a"
            ],
            [
             0.8888888888888888,
             "#fdca26"
            ],
            [
             1,
             "#f0f921"
            ]
           ]
          },
          "colorway": [
           "#636efa",
           "#EF553B",
           "#00cc96",
           "#ab63fa",
           "#FFA15A",
           "#19d3f3",
           "#FF6692",
           "#B6E880",
           "#FF97FF",
           "#FECB52"
          ],
          "font": {
           "color": "#2a3f5f"
          },
          "geo": {
           "bgcolor": "white",
           "lakecolor": "white",
           "landcolor": "#E5ECF6",
           "showlakes": true,
           "showland": true,
           "subunitcolor": "white"
          },
          "hoverlabel": {
           "align": "left"
          },
          "hovermode": "closest",
          "mapbox": {
           "style": "light"
          },
          "paper_bgcolor": "white",
          "plot_bgcolor": "#E5ECF6",
          "polar": {
           "angularaxis": {
            "gridcolor": "white",
            "linecolor": "white",
            "ticks": ""
           },
           "bgcolor": "#E5ECF6",
           "radialaxis": {
            "gridcolor": "white",
            "linecolor": "white",
            "ticks": ""
           }
          },
          "scene": {
           "xaxis": {
            "backgroundcolor": "#E5ECF6",
            "gridcolor": "white",
            "gridwidth": 2,
            "linecolor": "white",
            "showbackground": true,
            "ticks": "",
            "zerolinecolor": "white"
           },
           "yaxis": {
            "backgroundcolor": "#E5ECF6",
            "gridcolor": "white",
            "gridwidth": 2,
            "linecolor": "white",
            "showbackground": true,
            "ticks": "",
            "zerolinecolor": "white"
           },
           "zaxis": {
            "backgroundcolor": "#E5ECF6",
            "gridcolor": "white",
            "gridwidth": 2,
            "linecolor": "white",
            "showbackground": true,
            "ticks": "",
            "zerolinecolor": "white"
           }
          },
          "shapedefaults": {
           "line": {
            "color": "#2a3f5f"
           }
          },
          "ternary": {
           "aaxis": {
            "gridcolor": "white",
            "linecolor": "white",
            "ticks": ""
           },
           "baxis": {
            "gridcolor": "white",
            "linecolor": "white",
            "ticks": ""
           },
           "bgcolor": "#E5ECF6",
           "caxis": {
            "gridcolor": "white",
            "linecolor": "white",
            "ticks": ""
           }
          },
          "title": {
           "x": 0.05
          },
          "xaxis": {
           "automargin": true,
           "gridcolor": "white",
           "linecolor": "white",
           "ticks": "",
           "title": {
            "standoff": 15
           },
           "zerolinecolor": "white",
           "zerolinewidth": 2
          },
          "yaxis": {
           "automargin": true,
           "gridcolor": "white",
           "linecolor": "white",
           "ticks": "",
           "title": {
            "standoff": 15
           },
           "zerolinecolor": "white",
           "zerolinewidth": 2
          }
         }
        },
        "title": {
         "text": "Anime Studios Production by Release Format (Top 20)"
        },
        "xaxis": {
         "anchor": "y",
         "domain": [
          0,
          1
         ],
         "title": {
          "text": "Anime Studios"
         }
        },
        "yaxis": {
         "anchor": "x",
         "domain": [
          0,
          1
         ],
         "title": {
          "text": "Number of anime per release format"
         }
        }
       }
      },
      "text/html": [
       "<div>                            <div id=\"f53e4030-77cd-43cd-b5b7-785418751034\" class=\"plotly-graph-div\" style=\"height:525px; width:100%;\"></div>            <script type=\"text/javascript\">                require([\"plotly\"], function(Plotly) {                    window.PLOTLYENV=window.PLOTLYENV || {};                                    if (document.getElementById(\"f53e4030-77cd-43cd-b5b7-785418751034\")) {                    Plotly.newPlot(                        \"f53e4030-77cd-43cd-b5b7-785418751034\",                        [{\"alignmentgroup\":\"True\",\"hovertemplate\":\"Release Format=%{text}<br>Anime Studios=%{x}<br>Number of anime per release format=%{y}<extra></extra>\",\"legendgroup\":\"TV\",\"marker\":{\"color\":\"#636efa\",\"pattern\":{\"shape\":\"\"}},\"name\":\"TV\",\"offsetgroup\":\"TV\",\"orientation\":\"v\",\"showlegend\":true,\"text\":[\"TV\",\"TV\",\"TV\",\"TV\",\"TV\",\"TV\",\"TV\",\"TV\",\"TV\",\"TV\",\"TV\",\"TV\"],\"textposition\":\"auto\",\"texttemplate\":\"%{y:0.2s}\",\"x\":[\"Studio Deen\",\"J.C.Staff\",\"Toei Animation\",\"Madhouse\",\"Sunrise\",\"TMS Entertainment\",\"A-1 Pictures\",\"Studio Pierrot\",\"OLM\",\"Xebec\",\"Gonzo\",\"Production I.G\"],\"xaxis\":\"x\",\"y\":[138,123,121,119,113,79,79,76,67,62,62,60],\"yaxis\":\"y\",\"type\":\"bar\"},{\"alignmentgroup\":\"True\",\"hovertemplate\":\"Release Format=%{text}<br>Anime Studios=%{x}<br>Number of anime per release format=%{y}<extra></extra>\",\"legendgroup\":\"Movie\",\"marker\":{\"color\":\"#EF553B\",\"pattern\":{\"shape\":\"\"}},\"name\":\"Movie\",\"offsetgroup\":\"Movie\",\"orientation\":\"v\",\"showlegend\":true,\"text\":[\"Movie\",\"Movie\"],\"textposition\":\"auto\",\"texttemplate\":\"%{y:0.2s}\",\"x\":[\"Toei Animation\",\"TMS Entertainment\"],\"xaxis\":\"x\",\"y\":[137,61],\"yaxis\":\"y\",\"type\":\"bar\"},{\"alignmentgroup\":\"True\",\"hovertemplate\":\"Release Format=%{text}<br>Anime Studios=%{x}<br>Number of anime per release format=%{y}<extra></extra>\",\"legendgroup\":\"OVA\",\"marker\":{\"color\":\"#00cc96\",\"pattern\":{\"shape\":\"\"}},\"name\":\"OVA\",\"offsetgroup\":\"OVA\",\"orientation\":\"v\",\"showlegend\":true,\"text\":[\"OVA\",\"OVA\",\"OVA\"],\"textposition\":\"auto\",\"texttemplate\":\"%{y:0.2s}\",\"x\":[\"J.C.Staff\",\"Sunrise\",\"Toei Animation\"],\"xaxis\":\"x\",\"y\":[85,64,58],\"yaxis\":\"y\",\"type\":\"bar\"},{\"alignmentgroup\":\"True\",\"hovertemplate\":\"Release Format=%{text}<br>Anime Studios=%{x}<br>Number of anime per release format=%{y}<extra></extra>\",\"legendgroup\":\"Special\",\"marker\":{\"color\":\"#ab63fa\",\"pattern\":{\"shape\":\"\"}},\"name\":\"Special\",\"offsetgroup\":\"Special\",\"orientation\":\"v\",\"showlegend\":true,\"text\":[\"Special\",\"Special\",\"Special\"],\"textposition\":\"auto\",\"texttemplate\":\"%{y:0.2s}\",\"x\":[\"Sunrise\",\"J.C.Staff\",\"Production I.G\"],\"xaxis\":\"x\",\"y\":[77,62,61],\"yaxis\":\"y\",\"type\":\"bar\"}],                        {\"template\":{\"data\":{\"bar\":[{\"error_x\":{\"color\":\"#2a3f5f\"},\"error_y\":{\"color\":\"#2a3f5f\"},\"marker\":{\"line\":{\"color\":\"#E5ECF6\",\"width\":0.5},\"pattern\":{\"fillmode\":\"overlay\",\"size\":10,\"solidity\":0.2}},\"type\":\"bar\"}],\"barpolar\":[{\"marker\":{\"line\":{\"color\":\"#E5ECF6\",\"width\":0.5},\"pattern\":{\"fillmode\":\"overlay\",\"size\":10,\"solidity\":0.2}},\"type\":\"barpolar\"}],\"carpet\":[{\"aaxis\":{\"endlinecolor\":\"#2a3f5f\",\"gridcolor\":\"white\",\"linecolor\":\"white\",\"minorgridcolor\":\"white\",\"startlinecolor\":\"#2a3f5f\"},\"baxis\":{\"endlinecolor\":\"#2a3f5f\",\"gridcolor\":\"white\",\"linecolor\":\"white\",\"minorgridcolor\":\"white\",\"startlinecolor\":\"#2a3f5f\"},\"type\":\"carpet\"}],\"choropleth\":[{\"colorbar\":{\"outlinewidth\":0,\"ticks\":\"\"},\"type\":\"choropleth\"}],\"contour\":[{\"colorbar\":{\"outlinewidth\":0,\"ticks\":\"\"},\"colorscale\":[[0.0,\"#0d0887\"],[0.1111111111111111,\"#46039f\"],[0.2222222222222222,\"#7201a8\"],[0.3333333333333333,\"#9c179e\"],[0.4444444444444444,\"#bd3786\"],[0.5555555555555556,\"#d8576b\"],[0.6666666666666666,\"#ed7953\"],[0.7777777777777778,\"#fb9f3a\"],[0.8888888888888888,\"#fdca26\"],[1.0,\"#f0f921\"]],\"type\":\"contour\"}],\"contourcarpet\":[{\"colorbar\":{\"outlinewidth\":0,\"ticks\":\"\"},\"type\":\"contourcarpet\"}],\"heatmap\":[{\"colorbar\":{\"outlinewidth\":0,\"ticks\":\"\"},\"colorscale\":[[0.0,\"#0d0887\"],[0.1111111111111111,\"#46039f\"],[0.2222222222222222,\"#7201a8\"],[0.3333333333333333,\"#9c179e\"],[0.4444444444444444,\"#bd3786\"],[0.5555555555555556,\"#d8576b\"],[0.6666666666666666,\"#ed7953\"],[0.7777777777777778,\"#fb9f3a\"],[0.8888888888888888,\"#fdca26\"],[1.0,\"#f0f921\"]],\"type\":\"heatmap\"}],\"heatmapgl\":[{\"colorbar\":{\"outlinewidth\":0,\"ticks\":\"\"},\"colorscale\":[[0.0,\"#0d0887\"],[0.1111111111111111,\"#46039f\"],[0.2222222222222222,\"#7201a8\"],[0.3333333333333333,\"#9c179e\"],[0.4444444444444444,\"#bd3786\"],[0.5555555555555556,\"#d8576b\"],[0.6666666666666666,\"#ed7953\"],[0.7777777777777778,\"#fb9f3a\"],[0.8888888888888888,\"#fdca26\"],[1.0,\"#f0f921\"]],\"type\":\"heatmapgl\"}],\"histogram\":[{\"marker\":{\"pattern\":{\"fillmode\":\"overlay\",\"size\":10,\"solidity\":0.2}},\"type\":\"histogram\"}],\"histogram2d\":[{\"colorbar\":{\"outlinewidth\":0,\"ticks\":\"\"},\"colorscale\":[[0.0,\"#0d0887\"],[0.1111111111111111,\"#46039f\"],[0.2222222222222222,\"#7201a8\"],[0.3333333333333333,\"#9c179e\"],[0.4444444444444444,\"#bd3786\"],[0.5555555555555556,\"#d8576b\"],[0.6666666666666666,\"#ed7953\"],[0.7777777777777778,\"#fb9f3a\"],[0.8888888888888888,\"#fdca26\"],[1.0,\"#f0f921\"]],\"type\":\"histogram2d\"}],\"histogram2dcontour\":[{\"colorbar\":{\"outlinewidth\":0,\"ticks\":\"\"},\"colorscale\":[[0.0,\"#0d0887\"],[0.1111111111111111,\"#46039f\"],[0.2222222222222222,\"#7201a8\"],[0.3333333333333333,\"#9c179e\"],[0.4444444444444444,\"#bd3786\"],[0.5555555555555556,\"#d8576b\"],[0.6666666666666666,\"#ed7953\"],[0.7777777777777778,\"#fb9f3a\"],[0.8888888888888888,\"#fdca26\"],[1.0,\"#f0f921\"]],\"type\":\"histogram2dcontour\"}],\"mesh3d\":[{\"colorbar\":{\"outlinewidth\":0,\"ticks\":\"\"},\"type\":\"mesh3d\"}],\"parcoords\":[{\"line\":{\"colorbar\":{\"outlinewidth\":0,\"ticks\":\"\"}},\"type\":\"parcoords\"}],\"pie\":[{\"automargin\":true,\"type\":\"pie\"}],\"scatter\":[{\"marker\":{\"colorbar\":{\"outlinewidth\":0,\"ticks\":\"\"}},\"type\":\"scatter\"}],\"scatter3d\":[{\"line\":{\"colorbar\":{\"outlinewidth\":0,\"ticks\":\"\"}},\"marker\":{\"colorbar\":{\"outlinewidth\":0,\"ticks\":\"\"}},\"type\":\"scatter3d\"}],\"scattercarpet\":[{\"marker\":{\"colorbar\":{\"outlinewidth\":0,\"ticks\":\"\"}},\"type\":\"scattercarpet\"}],\"scattergeo\":[{\"marker\":{\"colorbar\":{\"outlinewidth\":0,\"ticks\":\"\"}},\"type\":\"scattergeo\"}],\"scattergl\":[{\"marker\":{\"colorbar\":{\"outlinewidth\":0,\"ticks\":\"\"}},\"type\":\"scattergl\"}],\"scattermapbox\":[{\"marker\":{\"colorbar\":{\"outlinewidth\":0,\"ticks\":\"\"}},\"type\":\"scattermapbox\"}],\"scatterpolar\":[{\"marker\":{\"colorbar\":{\"outlinewidth\":0,\"ticks\":\"\"}},\"type\":\"scatterpolar\"}],\"scatterpolargl\":[{\"marker\":{\"colorbar\":{\"outlinewidth\":0,\"ticks\":\"\"}},\"type\":\"scatterpolargl\"}],\"scatterternary\":[{\"marker\":{\"colorbar\":{\"outlinewidth\":0,\"ticks\":\"\"}},\"type\":\"scatterternary\"}],\"surface\":[{\"colorbar\":{\"outlinewidth\":0,\"ticks\":\"\"},\"colorscale\":[[0.0,\"#0d0887\"],[0.1111111111111111,\"#46039f\"],[0.2222222222222222,\"#7201a8\"],[0.3333333333333333,\"#9c179e\"],[0.4444444444444444,\"#bd3786\"],[0.5555555555555556,\"#d8576b\"],[0.6666666666666666,\"#ed7953\"],[0.7777777777777778,\"#fb9f3a\"],[0.8888888888888888,\"#fdca26\"],[1.0,\"#f0f921\"]],\"type\":\"surface\"}],\"table\":[{\"cells\":{\"fill\":{\"color\":\"#EBF0F8\"},\"line\":{\"color\":\"white\"}},\"header\":{\"fill\":{\"color\":\"#C8D4E3\"},\"line\":{\"color\":\"white\"}},\"type\":\"table\"}]},\"layout\":{\"annotationdefaults\":{\"arrowcolor\":\"#2a3f5f\",\"arrowhead\":0,\"arrowwidth\":1},\"autotypenumbers\":\"strict\",\"coloraxis\":{\"colorbar\":{\"outlinewidth\":0,\"ticks\":\"\"}},\"colorscale\":{\"diverging\":[[0,\"#8e0152\"],[0.1,\"#c51b7d\"],[0.2,\"#de77ae\"],[0.3,\"#f1b6da\"],[0.4,\"#fde0ef\"],[0.5,\"#f7f7f7\"],[0.6,\"#e6f5d0\"],[0.7,\"#b8e186\"],[0.8,\"#7fbc41\"],[0.9,\"#4d9221\"],[1,\"#276419\"]],\"sequential\":[[0.0,\"#0d0887\"],[0.1111111111111111,\"#46039f\"],[0.2222222222222222,\"#7201a8\"],[0.3333333333333333,\"#9c179e\"],[0.4444444444444444,\"#bd3786\"],[0.5555555555555556,\"#d8576b\"],[0.6666666666666666,\"#ed7953\"],[0.7777777777777778,\"#fb9f3a\"],[0.8888888888888888,\"#fdca26\"],[1.0,\"#f0f921\"]],\"sequentialminus\":[[0.0,\"#0d0887\"],[0.1111111111111111,\"#46039f\"],[0.2222222222222222,\"#7201a8\"],[0.3333333333333333,\"#9c179e\"],[0.4444444444444444,\"#bd3786\"],[0.5555555555555556,\"#d8576b\"],[0.6666666666666666,\"#ed7953\"],[0.7777777777777778,\"#fb9f3a\"],[0.8888888888888888,\"#fdca26\"],[1.0,\"#f0f921\"]]},\"colorway\":[\"#636efa\",\"#EF553B\",\"#00cc96\",\"#ab63fa\",\"#FFA15A\",\"#19d3f3\",\"#FF6692\",\"#B6E880\",\"#FF97FF\",\"#FECB52\"],\"font\":{\"color\":\"#2a3f5f\"},\"geo\":{\"bgcolor\":\"white\",\"lakecolor\":\"white\",\"landcolor\":\"#E5ECF6\",\"showlakes\":true,\"showland\":true,\"subunitcolor\":\"white\"},\"hoverlabel\":{\"align\":\"left\"},\"hovermode\":\"closest\",\"mapbox\":{\"style\":\"light\"},\"paper_bgcolor\":\"white\",\"plot_bgcolor\":\"#E5ECF6\",\"polar\":{\"angularaxis\":{\"gridcolor\":\"white\",\"linecolor\":\"white\",\"ticks\":\"\"},\"bgcolor\":\"#E5ECF6\",\"radialaxis\":{\"gridcolor\":\"white\",\"linecolor\":\"white\",\"ticks\":\"\"}},\"scene\":{\"xaxis\":{\"backgroundcolor\":\"#E5ECF6\",\"gridcolor\":\"white\",\"gridwidth\":2,\"linecolor\":\"white\",\"showbackground\":true,\"ticks\":\"\",\"zerolinecolor\":\"white\"},\"yaxis\":{\"backgroundcolor\":\"#E5ECF6\",\"gridcolor\":\"white\",\"gridwidth\":2,\"linecolor\":\"white\",\"showbackground\":true,\"ticks\":\"\",\"zerolinecolor\":\"white\"},\"zaxis\":{\"backgroundcolor\":\"#E5ECF6\",\"gridcolor\":\"white\",\"gridwidth\":2,\"linecolor\":\"white\",\"showbackground\":true,\"ticks\":\"\",\"zerolinecolor\":\"white\"}},\"shapedefaults\":{\"line\":{\"color\":\"#2a3f5f\"}},\"ternary\":{\"aaxis\":{\"gridcolor\":\"white\",\"linecolor\":\"white\",\"ticks\":\"\"},\"baxis\":{\"gridcolor\":\"white\",\"linecolor\":\"white\",\"ticks\":\"\"},\"bgcolor\":\"#E5ECF6\",\"caxis\":{\"gridcolor\":\"white\",\"linecolor\":\"white\",\"ticks\":\"\"}},\"title\":{\"x\":0.05},\"xaxis\":{\"automargin\":true,\"gridcolor\":\"white\",\"linecolor\":\"white\",\"ticks\":\"\",\"title\":{\"standoff\":15},\"zerolinecolor\":\"white\",\"zerolinewidth\":2},\"yaxis\":{\"automargin\":true,\"gridcolor\":\"white\",\"linecolor\":\"white\",\"ticks\":\"\",\"title\":{\"standoff\":15},\"zerolinecolor\":\"white\",\"zerolinewidth\":2}}},\"xaxis\":{\"anchor\":\"y\",\"domain\":[0.0,1.0],\"title\":{\"text\":\"Anime Studios\"}},\"yaxis\":{\"anchor\":\"x\",\"domain\":[0.0,1.0],\"title\":{\"text\":\"Number of anime per release format\"}},\"legend\":{\"title\":{\"text\":\"Release Format\"},\"tracegroupgap\":0},\"title\":{\"text\":\"Anime Studios Production by Release Format (Top 20)\"},\"barmode\":\"relative\"},                        {\"responsive\": true}                    ).then(function(){\n",
       "                            \n",
       "var gd = document.getElementById('f53e4030-77cd-43cd-b5b7-785418751034');\n",
       "var x = new MutationObserver(function (mutations, observer) {{\n",
       "        var display = window.getComputedStyle(gd).display;\n",
       "        if (!display || display === 'none') {{\n",
       "            console.log([gd, 'removed!']);\n",
       "            Plotly.purge(gd);\n",
       "            observer.disconnect();\n",
       "        }}\n",
       "}});\n",
       "\n",
       "// Listen for the removal of the full notebook cells\n",
       "var notebookContainer = gd.closest('#notebook-container');\n",
       "if (notebookContainer) {{\n",
       "    x.observe(notebookContainer, {childList: true});\n",
       "}}\n",
       "\n",
       "// Listen for the clearing of the current output cell\n",
       "var outputEl = gd.closest('.output');\n",
       "if (outputEl) {{\n",
       "    x.observe(outputEl, {childList: true});\n",
       "}}\n",
       "\n",
       "                        })                };                });            </script>        </div>"
      ]
     },
     "metadata": {},
     "output_type": "display_data"
    }
   ],
   "source": [
    "px.bar(df_animes[['studio', 'type']].value_counts().reset_index().rename(columns={0:'count'}).head(20),\n",
    "        x='studio', y='count', text='type', color='type', text_auto='0.2s',\n",
    "        title='Anime Studios Production by Release Format (Top 20)',\n",
    "        labels={'type':'Release Format', 'count':'Number of anime per release format', 'studio':'Anime Studios'})"
   ]
  },
  {
   "cell_type": "code",
   "execution_count": null,
   "id": "e180d624",
   "metadata": {},
   "outputs": [],
   "source": []
  },
  {
   "cell_type": "code",
   "execution_count": null,
   "metadata": {},
   "outputs": [],
   "source": []
  },
  {
   "cell_type": "code",
   "execution_count": 147,
   "id": "f9c52015",
   "metadata": {},
   "outputs": [
    {
     "data": {
      "application/vnd.plotly.v1+json": {
       "config": {
        "plotlyServerURL": "https://plot.ly"
       },
       "data": [
        {
         "alignmentgroup": "True",
         "hovertemplate": "source=%{text}<br>Anime Studios=%{x}<br>Number of anime per release format=%{y}<extra></extra>",
         "legendgroup": "Manga",
         "marker": {
          "color": "#636efa",
          "pattern": {
           "shape": ""
          }
         },
         "name": "Manga",
         "offsetgroup": "Manga",
         "orientation": "v",
         "showlegend": true,
         "text": [
          "Manga",
          "Manga",
          "Manga",
          "Manga",
          "Manga",
          "Manga",
          "Manga",
          "Manga",
          "Manga"
         ],
         "textposition": "auto",
         "texttemplate": "%{y:0.2s}",
         "type": "bar",
         "x": [
          "Toei Animation",
          "Madhouse",
          "Studio Pierrot",
          "J.C.Staff",
          "Studio Deen",
          "Production I.G",
          "TMS Entertainment",
          "A-1 Pictures",
          "Xebec"
         ],
         "xaxis": "x",
         "y": [
          150,
          115,
          111,
          104,
          94,
          86,
          84,
          51,
          49
         ],
         "yaxis": "y"
        },
        {
         "alignmentgroup": "True",
         "hovertemplate": "source=%{text}<br>Anime Studios=%{x}<br>Number of anime per release format=%{y}<extra></extra>",
         "legendgroup": "Original",
         "marker": {
          "color": "#EF553B",
          "pattern": {
           "shape": ""
          }
         },
         "name": "Original",
         "offsetgroup": "Original",
         "orientation": "v",
         "showlegend": true,
         "text": [
          "Original",
          "Original",
          "Original",
          "Original"
         ],
         "textposition": "auto",
         "texttemplate": "%{y:0.2s}",
         "type": "bar",
         "x": [
          "Sunrise",
          "Toei Animation",
          "DLE",
          "Production I.G"
         ],
         "xaxis": "x",
         "y": [
          132,
          93,
          60,
          49
         ],
         "yaxis": "y"
        },
        {
         "alignmentgroup": "True",
         "hovertemplate": "source=%{text}<br>Anime Studios=%{x}<br>Number of anime per release format=%{y}<extra></extra>",
         "legendgroup": "Unknown",
         "marker": {
          "color": "#00cc96",
          "pattern": {
           "shape": ""
          }
         },
         "name": "Unknown",
         "offsetgroup": "Unknown",
         "orientation": "v",
         "showlegend": true,
         "text": [
          "Unknown",
          "Unknown",
          "Unknown",
          "Unknown",
          "Unknown",
          "Unknown"
         ],
         "textposition": "auto",
         "texttemplate": "%{y:0.2s}",
         "type": "bar",
         "x": [
          "Toei Animation",
          "Sunrise",
          "TMS Entertainment",
          "J.C.Staff",
          "Production I.G",
          "Shin-Ei Animation"
         ],
         "xaxis": "x",
         "y": [
          112,
          108,
          73,
          63,
          63,
          47
         ],
         "yaxis": "y"
        },
        {
         "alignmentgroup": "True",
         "hovertemplate": "source=%{text}<br>Anime Studios=%{x}<br>Number of anime per release format=%{y}<extra></extra>",
         "legendgroup": "Game",
         "marker": {
          "color": "#ab63fa",
          "pattern": {
           "shape": ""
          }
         },
         "name": "Game",
         "offsetgroup": "Game",
         "orientation": "v",
         "showlegend": true,
         "text": [
          "Game"
         ],
         "textposition": "auto",
         "texttemplate": "%{y:0.2s}",
         "type": "bar",
         "x": [
          "OLM"
         ],
         "xaxis": "x",
         "y": [
          90
         ],
         "yaxis": "y"
        }
       ],
       "layout": {
        "barmode": "relative",
        "legend": {
         "title": {
          "text": "source"
         },
         "tracegroupgap": 0
        },
        "template": {
         "data": {
          "bar": [
           {
            "error_x": {
             "color": "#2a3f5f"
            },
            "error_y": {
             "color": "#2a3f5f"
            },
            "marker": {
             "line": {
              "color": "#E5ECF6",
              "width": 0.5
             },
             "pattern": {
              "fillmode": "overlay",
              "size": 10,
              "solidity": 0.2
             }
            },
            "type": "bar"
           }
          ],
          "barpolar": [
           {
            "marker": {
             "line": {
              "color": "#E5ECF6",
              "width": 0.5
             },
             "pattern": {
              "fillmode": "overlay",
              "size": 10,
              "solidity": 0.2
             }
            },
            "type": "barpolar"
           }
          ],
          "carpet": [
           {
            "aaxis": {
             "endlinecolor": "#2a3f5f",
             "gridcolor": "white",
             "linecolor": "white",
             "minorgridcolor": "white",
             "startlinecolor": "#2a3f5f"
            },
            "baxis": {
             "endlinecolor": "#2a3f5f",
             "gridcolor": "white",
             "linecolor": "white",
             "minorgridcolor": "white",
             "startlinecolor": "#2a3f5f"
            },
            "type": "carpet"
           }
          ],
          "choropleth": [
           {
            "colorbar": {
             "outlinewidth": 0,
             "ticks": ""
            },
            "type": "choropleth"
           }
          ],
          "contour": [
           {
            "colorbar": {
             "outlinewidth": 0,
             "ticks": ""
            },
            "colorscale": [
             [
              0,
              "#0d0887"
             ],
             [
              0.1111111111111111,
              "#46039f"
             ],
             [
              0.2222222222222222,
              "#7201a8"
             ],
             [
              0.3333333333333333,
              "#9c179e"
             ],
             [
              0.4444444444444444,
              "#bd3786"
             ],
             [
              0.5555555555555556,
              "#d8576b"
             ],
             [
              0.6666666666666666,
              "#ed7953"
             ],
             [
              0.7777777777777778,
              "#fb9f3a"
             ],
             [
              0.8888888888888888,
              "#fdca26"
             ],
             [
              1,
              "#f0f921"
             ]
            ],
            "type": "contour"
           }
          ],
          "contourcarpet": [
           {
            "colorbar": {
             "outlinewidth": 0,
             "ticks": ""
            },
            "type": "contourcarpet"
           }
          ],
          "heatmap": [
           {
            "colorbar": {
             "outlinewidth": 0,
             "ticks": ""
            },
            "colorscale": [
             [
              0,
              "#0d0887"
             ],
             [
              0.1111111111111111,
              "#46039f"
             ],
             [
              0.2222222222222222,
              "#7201a8"
             ],
             [
              0.3333333333333333,
              "#9c179e"
             ],
             [
              0.4444444444444444,
              "#bd3786"
             ],
             [
              0.5555555555555556,
              "#d8576b"
             ],
             [
              0.6666666666666666,
              "#ed7953"
             ],
             [
              0.7777777777777778,
              "#fb9f3a"
             ],
             [
              0.8888888888888888,
              "#fdca26"
             ],
             [
              1,
              "#f0f921"
             ]
            ],
            "type": "heatmap"
           }
          ],
          "heatmapgl": [
           {
            "colorbar": {
             "outlinewidth": 0,
             "ticks": ""
            },
            "colorscale": [
             [
              0,
              "#0d0887"
             ],
             [
              0.1111111111111111,
              "#46039f"
             ],
             [
              0.2222222222222222,
              "#7201a8"
             ],
             [
              0.3333333333333333,
              "#9c179e"
             ],
             [
              0.4444444444444444,
              "#bd3786"
             ],
             [
              0.5555555555555556,
              "#d8576b"
             ],
             [
              0.6666666666666666,
              "#ed7953"
             ],
             [
              0.7777777777777778,
              "#fb9f3a"
             ],
             [
              0.8888888888888888,
              "#fdca26"
             ],
             [
              1,
              "#f0f921"
             ]
            ],
            "type": "heatmapgl"
           }
          ],
          "histogram": [
           {
            "marker": {
             "pattern": {
              "fillmode": "overlay",
              "size": 10,
              "solidity": 0.2
             }
            },
            "type": "histogram"
           }
          ],
          "histogram2d": [
           {
            "colorbar": {
             "outlinewidth": 0,
             "ticks": ""
            },
            "colorscale": [
             [
              0,
              "#0d0887"
             ],
             [
              0.1111111111111111,
              "#46039f"
             ],
             [
              0.2222222222222222,
              "#7201a8"
             ],
             [
              0.3333333333333333,
              "#9c179e"
             ],
             [
              0.4444444444444444,
              "#bd3786"
             ],
             [
              0.5555555555555556,
              "#d8576b"
             ],
             [
              0.6666666666666666,
              "#ed7953"
             ],
             [
              0.7777777777777778,
              "#fb9f3a"
             ],
             [
              0.8888888888888888,
              "#fdca26"
             ],
             [
              1,
              "#f0f921"
             ]
            ],
            "type": "histogram2d"
           }
          ],
          "histogram2dcontour": [
           {
            "colorbar": {
             "outlinewidth": 0,
             "ticks": ""
            },
            "colorscale": [
             [
              0,
              "#0d0887"
             ],
             [
              0.1111111111111111,
              "#46039f"
             ],
             [
              0.2222222222222222,
              "#7201a8"
             ],
             [
              0.3333333333333333,
              "#9c179e"
             ],
             [
              0.4444444444444444,
              "#bd3786"
             ],
             [
              0.5555555555555556,
              "#d8576b"
             ],
             [
              0.6666666666666666,
              "#ed7953"
             ],
             [
              0.7777777777777778,
              "#fb9f3a"
             ],
             [
              0.8888888888888888,
              "#fdca26"
             ],
             [
              1,
              "#f0f921"
             ]
            ],
            "type": "histogram2dcontour"
           }
          ],
          "mesh3d": [
           {
            "colorbar": {
             "outlinewidth": 0,
             "ticks": ""
            },
            "type": "mesh3d"
           }
          ],
          "parcoords": [
           {
            "line": {
             "colorbar": {
              "outlinewidth": 0,
              "ticks": ""
             }
            },
            "type": "parcoords"
           }
          ],
          "pie": [
           {
            "automargin": true,
            "type": "pie"
           }
          ],
          "scatter": [
           {
            "marker": {
             "colorbar": {
              "outlinewidth": 0,
              "ticks": ""
             }
            },
            "type": "scatter"
           }
          ],
          "scatter3d": [
           {
            "line": {
             "colorbar": {
              "outlinewidth": 0,
              "ticks": ""
             }
            },
            "marker": {
             "colorbar": {
              "outlinewidth": 0,
              "ticks": ""
             }
            },
            "type": "scatter3d"
           }
          ],
          "scattercarpet": [
           {
            "marker": {
             "colorbar": {
              "outlinewidth": 0,
              "ticks": ""
             }
            },
            "type": "scattercarpet"
           }
          ],
          "scattergeo": [
           {
            "marker": {
             "colorbar": {
              "outlinewidth": 0,
              "ticks": ""
             }
            },
            "type": "scattergeo"
           }
          ],
          "scattergl": [
           {
            "marker": {
             "colorbar": {
              "outlinewidth": 0,
              "ticks": ""
             }
            },
            "type": "scattergl"
           }
          ],
          "scattermapbox": [
           {
            "marker": {
             "colorbar": {
              "outlinewidth": 0,
              "ticks": ""
             }
            },
            "type": "scattermapbox"
           }
          ],
          "scatterpolar": [
           {
            "marker": {
             "colorbar": {
              "outlinewidth": 0,
              "ticks": ""
             }
            },
            "type": "scatterpolar"
           }
          ],
          "scatterpolargl": [
           {
            "marker": {
             "colorbar": {
              "outlinewidth": 0,
              "ticks": ""
             }
            },
            "type": "scatterpolargl"
           }
          ],
          "scatterternary": [
           {
            "marker": {
             "colorbar": {
              "outlinewidth": 0,
              "ticks": ""
             }
            },
            "type": "scatterternary"
           }
          ],
          "surface": [
           {
            "colorbar": {
             "outlinewidth": 0,
             "ticks": ""
            },
            "colorscale": [
             [
              0,
              "#0d0887"
             ],
             [
              0.1111111111111111,
              "#46039f"
             ],
             [
              0.2222222222222222,
              "#7201a8"
             ],
             [
              0.3333333333333333,
              "#9c179e"
             ],
             [
              0.4444444444444444,
              "#bd3786"
             ],
             [
              0.5555555555555556,
              "#d8576b"
             ],
             [
              0.6666666666666666,
              "#ed7953"
             ],
             [
              0.7777777777777778,
              "#fb9f3a"
             ],
             [
              0.8888888888888888,
              "#fdca26"
             ],
             [
              1,
              "#f0f921"
             ]
            ],
            "type": "surface"
           }
          ],
          "table": [
           {
            "cells": {
             "fill": {
              "color": "#EBF0F8"
             },
             "line": {
              "color": "white"
             }
            },
            "header": {
             "fill": {
              "color": "#C8D4E3"
             },
             "line": {
              "color": "white"
             }
            },
            "type": "table"
           }
          ]
         },
         "layout": {
          "annotationdefaults": {
           "arrowcolor": "#2a3f5f",
           "arrowhead": 0,
           "arrowwidth": 1
          },
          "autotypenumbers": "strict",
          "coloraxis": {
           "colorbar": {
            "outlinewidth": 0,
            "ticks": ""
           }
          },
          "colorscale": {
           "diverging": [
            [
             0,
             "#8e0152"
            ],
            [
             0.1,
             "#c51b7d"
            ],
            [
             0.2,
             "#de77ae"
            ],
            [
             0.3,
             "#f1b6da"
            ],
            [
             0.4,
             "#fde0ef"
            ],
            [
             0.5,
             "#f7f7f7"
            ],
            [
             0.6,
             "#e6f5d0"
            ],
            [
             0.7,
             "#b8e186"
            ],
            [
             0.8,
             "#7fbc41"
            ],
            [
             0.9,
             "#4d9221"
            ],
            [
             1,
             "#276419"
            ]
           ],
           "sequential": [
            [
             0,
             "#0d0887"
            ],
            [
             0.1111111111111111,
             "#46039f"
            ],
            [
             0.2222222222222222,
             "#7201a8"
            ],
            [
             0.3333333333333333,
             "#9c179e"
            ],
            [
             0.4444444444444444,
             "#bd3786"
            ],
            [
             0.5555555555555556,
             "#d8576b"
            ],
            [
             0.6666666666666666,
             "#ed7953"
            ],
            [
             0.7777777777777778,
             "#fb9f3a"
            ],
            [
             0.8888888888888888,
             "#fdca26"
            ],
            [
             1,
             "#f0f921"
            ]
           ],
           "sequentialminus": [
            [
             0,
             "#0d0887"
            ],
            [
             0.1111111111111111,
             "#46039f"
            ],
            [
             0.2222222222222222,
             "#7201a8"
            ],
            [
             0.3333333333333333,
             "#9c179e"
            ],
            [
             0.4444444444444444,
             "#bd3786"
            ],
            [
             0.5555555555555556,
             "#d8576b"
            ],
            [
             0.6666666666666666,
             "#ed7953"
            ],
            [
             0.7777777777777778,
             "#fb9f3a"
            ],
            [
             0.8888888888888888,
             "#fdca26"
            ],
            [
             1,
             "#f0f921"
            ]
           ]
          },
          "colorway": [
           "#636efa",
           "#EF553B",
           "#00cc96",
           "#ab63fa",
           "#FFA15A",
           "#19d3f3",
           "#FF6692",
           "#B6E880",
           "#FF97FF",
           "#FECB52"
          ],
          "font": {
           "color": "#2a3f5f"
          },
          "geo": {
           "bgcolor": "white",
           "lakecolor": "white",
           "landcolor": "#E5ECF6",
           "showlakes": true,
           "showland": true,
           "subunitcolor": "white"
          },
          "hoverlabel": {
           "align": "left"
          },
          "hovermode": "closest",
          "mapbox": {
           "style": "light"
          },
          "paper_bgcolor": "white",
          "plot_bgcolor": "#E5ECF6",
          "polar": {
           "angularaxis": {
            "gridcolor": "white",
            "linecolor": "white",
            "ticks": ""
           },
           "bgcolor": "#E5ECF6",
           "radialaxis": {
            "gridcolor": "white",
            "linecolor": "white",
            "ticks": ""
           }
          },
          "scene": {
           "xaxis": {
            "backgroundcolor": "#E5ECF6",
            "gridcolor": "white",
            "gridwidth": 2,
            "linecolor": "white",
            "showbackground": true,
            "ticks": "",
            "zerolinecolor": "white"
           },
           "yaxis": {
            "backgroundcolor": "#E5ECF6",
            "gridcolor": "white",
            "gridwidth": 2,
            "linecolor": "white",
            "showbackground": true,
            "ticks": "",
            "zerolinecolor": "white"
           },
           "zaxis": {
            "backgroundcolor": "#E5ECF6",
            "gridcolor": "white",
            "gridwidth": 2,
            "linecolor": "white",
            "showbackground": true,
            "ticks": "",
            "zerolinecolor": "white"
           }
          },
          "shapedefaults": {
           "line": {
            "color": "#2a3f5f"
           }
          },
          "ternary": {
           "aaxis": {
            "gridcolor": "white",
            "linecolor": "white",
            "ticks": ""
           },
           "baxis": {
            "gridcolor": "white",
            "linecolor": "white",
            "ticks": ""
           },
           "bgcolor": "#E5ECF6",
           "caxis": {
            "gridcolor": "white",
            "linecolor": "white",
            "ticks": ""
           }
          },
          "title": {
           "x": 0.05
          },
          "xaxis": {
           "automargin": true,
           "gridcolor": "white",
           "linecolor": "white",
           "ticks": "",
           "title": {
            "standoff": 15
           },
           "zerolinecolor": "white",
           "zerolinewidth": 2
          },
          "yaxis": {
           "automargin": true,
           "gridcolor": "white",
           "linecolor": "white",
           "ticks": "",
           "title": {
            "standoff": 15
           },
           "zerolinecolor": "white",
           "zerolinewidth": 2
          }
         }
        },
        "title": {
         "text": "Anime Studios Production by Release Format (Top 20)"
        },
        "xaxis": {
         "anchor": "y",
         "domain": [
          0,
          1
         ],
         "title": {
          "text": "Anime Studios"
         }
        },
        "yaxis": {
         "anchor": "x",
         "domain": [
          0,
          1
         ],
         "title": {
          "text": "Number of anime per release format"
         }
        }
       }
      },
      "text/html": [
       "<div>                            <div id=\"220b863f-c32e-4bf8-80cd-d32d8ec8ab1d\" class=\"plotly-graph-div\" style=\"height:525px; width:100%;\"></div>            <script type=\"text/javascript\">                require([\"plotly\"], function(Plotly) {                    window.PLOTLYENV=window.PLOTLYENV || {};                                    if (document.getElementById(\"220b863f-c32e-4bf8-80cd-d32d8ec8ab1d\")) {                    Plotly.newPlot(                        \"220b863f-c32e-4bf8-80cd-d32d8ec8ab1d\",                        [{\"alignmentgroup\":\"True\",\"hovertemplate\":\"source=%{text}<br>Anime Studios=%{x}<br>Number of anime per release format=%{y}<extra></extra>\",\"legendgroup\":\"Manga\",\"marker\":{\"color\":\"#636efa\",\"pattern\":{\"shape\":\"\"}},\"name\":\"Manga\",\"offsetgroup\":\"Manga\",\"orientation\":\"v\",\"showlegend\":true,\"text\":[\"Manga\",\"Manga\",\"Manga\",\"Manga\",\"Manga\",\"Manga\",\"Manga\",\"Manga\",\"Manga\"],\"textposition\":\"auto\",\"texttemplate\":\"%{y:0.2s}\",\"x\":[\"Toei Animation\",\"Madhouse\",\"Studio Pierrot\",\"J.C.Staff\",\"Studio Deen\",\"Production I.G\",\"TMS Entertainment\",\"A-1 Pictures\",\"Xebec\"],\"xaxis\":\"x\",\"y\":[150,115,111,104,94,86,84,51,49],\"yaxis\":\"y\",\"type\":\"bar\"},{\"alignmentgroup\":\"True\",\"hovertemplate\":\"source=%{text}<br>Anime Studios=%{x}<br>Number of anime per release format=%{y}<extra></extra>\",\"legendgroup\":\"Original\",\"marker\":{\"color\":\"#EF553B\",\"pattern\":{\"shape\":\"\"}},\"name\":\"Original\",\"offsetgroup\":\"Original\",\"orientation\":\"v\",\"showlegend\":true,\"text\":[\"Original\",\"Original\",\"Original\",\"Original\"],\"textposition\":\"auto\",\"texttemplate\":\"%{y:0.2s}\",\"x\":[\"Sunrise\",\"Toei Animation\",\"DLE\",\"Production I.G\"],\"xaxis\":\"x\",\"y\":[132,93,60,49],\"yaxis\":\"y\",\"type\":\"bar\"},{\"alignmentgroup\":\"True\",\"hovertemplate\":\"source=%{text}<br>Anime Studios=%{x}<br>Number of anime per release format=%{y}<extra></extra>\",\"legendgroup\":\"Unknown\",\"marker\":{\"color\":\"#00cc96\",\"pattern\":{\"shape\":\"\"}},\"name\":\"Unknown\",\"offsetgroup\":\"Unknown\",\"orientation\":\"v\",\"showlegend\":true,\"text\":[\"Unknown\",\"Unknown\",\"Unknown\",\"Unknown\",\"Unknown\",\"Unknown\"],\"textposition\":\"auto\",\"texttemplate\":\"%{y:0.2s}\",\"x\":[\"Toei Animation\",\"Sunrise\",\"TMS Entertainment\",\"J.C.Staff\",\"Production I.G\",\"Shin-Ei Animation\"],\"xaxis\":\"x\",\"y\":[112,108,73,63,63,47],\"yaxis\":\"y\",\"type\":\"bar\"},{\"alignmentgroup\":\"True\",\"hovertemplate\":\"source=%{text}<br>Anime Studios=%{x}<br>Number of anime per release format=%{y}<extra></extra>\",\"legendgroup\":\"Game\",\"marker\":{\"color\":\"#ab63fa\",\"pattern\":{\"shape\":\"\"}},\"name\":\"Game\",\"offsetgroup\":\"Game\",\"orientation\":\"v\",\"showlegend\":true,\"text\":[\"Game\"],\"textposition\":\"auto\",\"texttemplate\":\"%{y:0.2s}\",\"x\":[\"OLM\"],\"xaxis\":\"x\",\"y\":[90],\"yaxis\":\"y\",\"type\":\"bar\"}],                        {\"template\":{\"data\":{\"bar\":[{\"error_x\":{\"color\":\"#2a3f5f\"},\"error_y\":{\"color\":\"#2a3f5f\"},\"marker\":{\"line\":{\"color\":\"#E5ECF6\",\"width\":0.5},\"pattern\":{\"fillmode\":\"overlay\",\"size\":10,\"solidity\":0.2}},\"type\":\"bar\"}],\"barpolar\":[{\"marker\":{\"line\":{\"color\":\"#E5ECF6\",\"width\":0.5},\"pattern\":{\"fillmode\":\"overlay\",\"size\":10,\"solidity\":0.2}},\"type\":\"barpolar\"}],\"carpet\":[{\"aaxis\":{\"endlinecolor\":\"#2a3f5f\",\"gridcolor\":\"white\",\"linecolor\":\"white\",\"minorgridcolor\":\"white\",\"startlinecolor\":\"#2a3f5f\"},\"baxis\":{\"endlinecolor\":\"#2a3f5f\",\"gridcolor\":\"white\",\"linecolor\":\"white\",\"minorgridcolor\":\"white\",\"startlinecolor\":\"#2a3f5f\"},\"type\":\"carpet\"}],\"choropleth\":[{\"colorbar\":{\"outlinewidth\":0,\"ticks\":\"\"},\"type\":\"choropleth\"}],\"contour\":[{\"colorbar\":{\"outlinewidth\":0,\"ticks\":\"\"},\"colorscale\":[[0.0,\"#0d0887\"],[0.1111111111111111,\"#46039f\"],[0.2222222222222222,\"#7201a8\"],[0.3333333333333333,\"#9c179e\"],[0.4444444444444444,\"#bd3786\"],[0.5555555555555556,\"#d8576b\"],[0.6666666666666666,\"#ed7953\"],[0.7777777777777778,\"#fb9f3a\"],[0.8888888888888888,\"#fdca26\"],[1.0,\"#f0f921\"]],\"type\":\"contour\"}],\"contourcarpet\":[{\"colorbar\":{\"outlinewidth\":0,\"ticks\":\"\"},\"type\":\"contourcarpet\"}],\"heatmap\":[{\"colorbar\":{\"outlinewidth\":0,\"ticks\":\"\"},\"colorscale\":[[0.0,\"#0d0887\"],[0.1111111111111111,\"#46039f\"],[0.2222222222222222,\"#7201a8\"],[0.3333333333333333,\"#9c179e\"],[0.4444444444444444,\"#bd3786\"],[0.5555555555555556,\"#d8576b\"],[0.6666666666666666,\"#ed7953\"],[0.7777777777777778,\"#fb9f3a\"],[0.8888888888888888,\"#fdca26\"],[1.0,\"#f0f921\"]],\"type\":\"heatmap\"}],\"heatmapgl\":[{\"colorbar\":{\"outlinewidth\":0,\"ticks\":\"\"},\"colorscale\":[[0.0,\"#0d0887\"],[0.1111111111111111,\"#46039f\"],[0.2222222222222222,\"#7201a8\"],[0.3333333333333333,\"#9c179e\"],[0.4444444444444444,\"#bd3786\"],[0.5555555555555556,\"#d8576b\"],[0.6666666666666666,\"#ed7953\"],[0.7777777777777778,\"#fb9f3a\"],[0.8888888888888888,\"#fdca26\"],[1.0,\"#f0f921\"]],\"type\":\"heatmapgl\"}],\"histogram\":[{\"marker\":{\"pattern\":{\"fillmode\":\"overlay\",\"size\":10,\"solidity\":0.2}},\"type\":\"histogram\"}],\"histogram2d\":[{\"colorbar\":{\"outlinewidth\":0,\"ticks\":\"\"},\"colorscale\":[[0.0,\"#0d0887\"],[0.1111111111111111,\"#46039f\"],[0.2222222222222222,\"#7201a8\"],[0.3333333333333333,\"#9c179e\"],[0.4444444444444444,\"#bd3786\"],[0.5555555555555556,\"#d8576b\"],[0.6666666666666666,\"#ed7953\"],[0.7777777777777778,\"#fb9f3a\"],[0.8888888888888888,\"#fdca26\"],[1.0,\"#f0f921\"]],\"type\":\"histogram2d\"}],\"histogram2dcontour\":[{\"colorbar\":{\"outlinewidth\":0,\"ticks\":\"\"},\"colorscale\":[[0.0,\"#0d0887\"],[0.1111111111111111,\"#46039f\"],[0.2222222222222222,\"#7201a8\"],[0.3333333333333333,\"#9c179e\"],[0.4444444444444444,\"#bd3786\"],[0.5555555555555556,\"#d8576b\"],[0.6666666666666666,\"#ed7953\"],[0.7777777777777778,\"#fb9f3a\"],[0.8888888888888888,\"#fdca26\"],[1.0,\"#f0f921\"]],\"type\":\"histogram2dcontour\"}],\"mesh3d\":[{\"colorbar\":{\"outlinewidth\":0,\"ticks\":\"\"},\"type\":\"mesh3d\"}],\"parcoords\":[{\"line\":{\"colorbar\":{\"outlinewidth\":0,\"ticks\":\"\"}},\"type\":\"parcoords\"}],\"pie\":[{\"automargin\":true,\"type\":\"pie\"}],\"scatter\":[{\"marker\":{\"colorbar\":{\"outlinewidth\":0,\"ticks\":\"\"}},\"type\":\"scatter\"}],\"scatter3d\":[{\"line\":{\"colorbar\":{\"outlinewidth\":0,\"ticks\":\"\"}},\"marker\":{\"colorbar\":{\"outlinewidth\":0,\"ticks\":\"\"}},\"type\":\"scatter3d\"}],\"scattercarpet\":[{\"marker\":{\"colorbar\":{\"outlinewidth\":0,\"ticks\":\"\"}},\"type\":\"scattercarpet\"}],\"scattergeo\":[{\"marker\":{\"colorbar\":{\"outlinewidth\":0,\"ticks\":\"\"}},\"type\":\"scattergeo\"}],\"scattergl\":[{\"marker\":{\"colorbar\":{\"outlinewidth\":0,\"ticks\":\"\"}},\"type\":\"scattergl\"}],\"scattermapbox\":[{\"marker\":{\"colorbar\":{\"outlinewidth\":0,\"ticks\":\"\"}},\"type\":\"scattermapbox\"}],\"scatterpolar\":[{\"marker\":{\"colorbar\":{\"outlinewidth\":0,\"ticks\":\"\"}},\"type\":\"scatterpolar\"}],\"scatterpolargl\":[{\"marker\":{\"colorbar\":{\"outlinewidth\":0,\"ticks\":\"\"}},\"type\":\"scatterpolargl\"}],\"scatterternary\":[{\"marker\":{\"colorbar\":{\"outlinewidth\":0,\"ticks\":\"\"}},\"type\":\"scatterternary\"}],\"surface\":[{\"colorbar\":{\"outlinewidth\":0,\"ticks\":\"\"},\"colorscale\":[[0.0,\"#0d0887\"],[0.1111111111111111,\"#46039f\"],[0.2222222222222222,\"#7201a8\"],[0.3333333333333333,\"#9c179e\"],[0.4444444444444444,\"#bd3786\"],[0.5555555555555556,\"#d8576b\"],[0.6666666666666666,\"#ed7953\"],[0.7777777777777778,\"#fb9f3a\"],[0.8888888888888888,\"#fdca26\"],[1.0,\"#f0f921\"]],\"type\":\"surface\"}],\"table\":[{\"cells\":{\"fill\":{\"color\":\"#EBF0F8\"},\"line\":{\"color\":\"white\"}},\"header\":{\"fill\":{\"color\":\"#C8D4E3\"},\"line\":{\"color\":\"white\"}},\"type\":\"table\"}]},\"layout\":{\"annotationdefaults\":{\"arrowcolor\":\"#2a3f5f\",\"arrowhead\":0,\"arrowwidth\":1},\"autotypenumbers\":\"strict\",\"coloraxis\":{\"colorbar\":{\"outlinewidth\":0,\"ticks\":\"\"}},\"colorscale\":{\"diverging\":[[0,\"#8e0152\"],[0.1,\"#c51b7d\"],[0.2,\"#de77ae\"],[0.3,\"#f1b6da\"],[0.4,\"#fde0ef\"],[0.5,\"#f7f7f7\"],[0.6,\"#e6f5d0\"],[0.7,\"#b8e186\"],[0.8,\"#7fbc41\"],[0.9,\"#4d9221\"],[1,\"#276419\"]],\"sequential\":[[0.0,\"#0d0887\"],[0.1111111111111111,\"#46039f\"],[0.2222222222222222,\"#7201a8\"],[0.3333333333333333,\"#9c179e\"],[0.4444444444444444,\"#bd3786\"],[0.5555555555555556,\"#d8576b\"],[0.6666666666666666,\"#ed7953\"],[0.7777777777777778,\"#fb9f3a\"],[0.8888888888888888,\"#fdca26\"],[1.0,\"#f0f921\"]],\"sequentialminus\":[[0.0,\"#0d0887\"],[0.1111111111111111,\"#46039f\"],[0.2222222222222222,\"#7201a8\"],[0.3333333333333333,\"#9c179e\"],[0.4444444444444444,\"#bd3786\"],[0.5555555555555556,\"#d8576b\"],[0.6666666666666666,\"#ed7953\"],[0.7777777777777778,\"#fb9f3a\"],[0.8888888888888888,\"#fdca26\"],[1.0,\"#f0f921\"]]},\"colorway\":[\"#636efa\",\"#EF553B\",\"#00cc96\",\"#ab63fa\",\"#FFA15A\",\"#19d3f3\",\"#FF6692\",\"#B6E880\",\"#FF97FF\",\"#FECB52\"],\"font\":{\"color\":\"#2a3f5f\"},\"geo\":{\"bgcolor\":\"white\",\"lakecolor\":\"white\",\"landcolor\":\"#E5ECF6\",\"showlakes\":true,\"showland\":true,\"subunitcolor\":\"white\"},\"hoverlabel\":{\"align\":\"left\"},\"hovermode\":\"closest\",\"mapbox\":{\"style\":\"light\"},\"paper_bgcolor\":\"white\",\"plot_bgcolor\":\"#E5ECF6\",\"polar\":{\"angularaxis\":{\"gridcolor\":\"white\",\"linecolor\":\"white\",\"ticks\":\"\"},\"bgcolor\":\"#E5ECF6\",\"radialaxis\":{\"gridcolor\":\"white\",\"linecolor\":\"white\",\"ticks\":\"\"}},\"scene\":{\"xaxis\":{\"backgroundcolor\":\"#E5ECF6\",\"gridcolor\":\"white\",\"gridwidth\":2,\"linecolor\":\"white\",\"showbackground\":true,\"ticks\":\"\",\"zerolinecolor\":\"white\"},\"yaxis\":{\"backgroundcolor\":\"#E5ECF6\",\"gridcolor\":\"white\",\"gridwidth\":2,\"linecolor\":\"white\",\"showbackground\":true,\"ticks\":\"\",\"zerolinecolor\":\"white\"},\"zaxis\":{\"backgroundcolor\":\"#E5ECF6\",\"gridcolor\":\"white\",\"gridwidth\":2,\"linecolor\":\"white\",\"showbackground\":true,\"ticks\":\"\",\"zerolinecolor\":\"white\"}},\"shapedefaults\":{\"line\":{\"color\":\"#2a3f5f\"}},\"ternary\":{\"aaxis\":{\"gridcolor\":\"white\",\"linecolor\":\"white\",\"ticks\":\"\"},\"baxis\":{\"gridcolor\":\"white\",\"linecolor\":\"white\",\"ticks\":\"\"},\"bgcolor\":\"#E5ECF6\",\"caxis\":{\"gridcolor\":\"white\",\"linecolor\":\"white\",\"ticks\":\"\"}},\"title\":{\"x\":0.05},\"xaxis\":{\"automargin\":true,\"gridcolor\":\"white\",\"linecolor\":\"white\",\"ticks\":\"\",\"title\":{\"standoff\":15},\"zerolinecolor\":\"white\",\"zerolinewidth\":2},\"yaxis\":{\"automargin\":true,\"gridcolor\":\"white\",\"linecolor\":\"white\",\"ticks\":\"\",\"title\":{\"standoff\":15},\"zerolinecolor\":\"white\",\"zerolinewidth\":2}}},\"xaxis\":{\"anchor\":\"y\",\"domain\":[0.0,1.0],\"title\":{\"text\":\"Anime Studios\"}},\"yaxis\":{\"anchor\":\"x\",\"domain\":[0.0,1.0],\"title\":{\"text\":\"Number of anime per release format\"}},\"legend\":{\"title\":{\"text\":\"source\"},\"tracegroupgap\":0},\"title\":{\"text\":\"Anime Studios Production by Release Format (Top 20)\"},\"barmode\":\"relative\"},                        {\"responsive\": true}                    ).then(function(){\n",
       "                            \n",
       "var gd = document.getElementById('220b863f-c32e-4bf8-80cd-d32d8ec8ab1d');\n",
       "var x = new MutationObserver(function (mutations, observer) {{\n",
       "        var display = window.getComputedStyle(gd).display;\n",
       "        if (!display || display === 'none') {{\n",
       "            console.log([gd, 'removed!']);\n",
       "            Plotly.purge(gd);\n",
       "            observer.disconnect();\n",
       "        }}\n",
       "}});\n",
       "\n",
       "// Listen for the removal of the full notebook cells\n",
       "var notebookContainer = gd.closest('#notebook-container');\n",
       "if (notebookContainer) {{\n",
       "    x.observe(notebookContainer, {childList: true});\n",
       "}}\n",
       "\n",
       "// Listen for the clearing of the current output cell\n",
       "var outputEl = gd.closest('.output');\n",
       "if (outputEl) {{\n",
       "    x.observe(outputEl, {childList: true});\n",
       "}}\n",
       "\n",
       "                        })                };                });            </script>        </div>"
      ]
     },
     "metadata": {},
     "output_type": "display_data"
    }
   ],
   "source": [
    "px.bar(df_animes[['studio', 'source']].value_counts().reset_index().rename(columns={0:'count'}).head(20),\n",
    "        x='studio', y='count', text='source', color='source', text_auto='0.2s',\n",
    "        title='Anime Studios Production by Release Format (Top 20)',\n",
    "        labels={'type':'Release Format', 'count':'Number of anime per release format', 'studio':'Anime Studios'})"
   ]
  },
  {
   "cell_type": "code",
   "execution_count": 149,
   "id": "51ae6527",
   "metadata": {},
   "outputs": [
    {
     "data": {
      "text/plain": [
       "Index(['anime_id', 'title', 'genre', 'studio', 'premiered', 'type', 'source',\n",
       "       'episodes', 'status', 'rank', 'image_url', 'rating', 'score',\n",
       "       'scored_by', 'score_rank', 'popularity', 'popularity_rank', 'members',\n",
       "       'favorites', 'avg_rank_score'],\n",
       "      dtype='object')"
      ]
     },
     "execution_count": 149,
     "metadata": {},
     "output_type": "execute_result"
    }
   ],
   "source": [
    "\n",
    "df_animes.columns"
   ]
  },
  {
   "cell_type": "code",
   "execution_count": 157,
   "id": "a2e55d0a",
   "metadata": {},
   "outputs": [
    {
     "data": {
      "text/html": [
       "<div>\n",
       "<style scoped>\n",
       "    .dataframe tbody tr th:only-of-type {\n",
       "        vertical-align: middle;\n",
       "    }\n",
       "\n",
       "    .dataframe tbody tr th {\n",
       "        vertical-align: top;\n",
       "    }\n",
       "\n",
       "    .dataframe thead th {\n",
       "        text-align: right;\n",
       "    }\n",
       "</style>\n",
       "<table border=\"1\" class=\"dataframe\">\n",
       "  <thead>\n",
       "    <tr style=\"text-align: right;\">\n",
       "      <th></th>\n",
       "      <th>episodes</th>\n",
       "      <th>rank</th>\n",
       "      <th>score</th>\n",
       "      <th>scored_by</th>\n",
       "      <th>score_rank</th>\n",
       "      <th>popularity</th>\n",
       "      <th>popularity_rank</th>\n",
       "      <th>members</th>\n",
       "      <th>favorites</th>\n",
       "      <th>avg_rank_score</th>\n",
       "    </tr>\n",
       "    <tr>\n",
       "      <th>studio</th>\n",
       "      <th></th>\n",
       "      <th></th>\n",
       "      <th></th>\n",
       "      <th></th>\n",
       "      <th></th>\n",
       "      <th></th>\n",
       "      <th></th>\n",
       "      <th></th>\n",
       "      <th></th>\n",
       "      <th></th>\n",
       "    </tr>\n",
       "  </thead>\n",
       "  <tbody>\n",
       "    <tr>\n",
       "      <th>10Gauge</th>\n",
       "      <td>6.500000</td>\n",
       "      <td>6157.250000</td>\n",
       "      <td>5.525000</td>\n",
       "      <td>349.250000</td>\n",
       "      <td>338.250000</td>\n",
       "      <td>9918.500000</td>\n",
       "      <td>5282.500000</td>\n",
       "      <td>1322.750000</td>\n",
       "      <td>1.500000</td>\n",
       "      <td>2810.375000</td>\n",
       "    </tr>\n",
       "    <tr>\n",
       "      <th>2:10 Animation</th>\n",
       "      <td>9.333333</td>\n",
       "      <td>6046.666667</td>\n",
       "      <td>4.176667</td>\n",
       "      <td>124.000000</td>\n",
       "      <td>349.666667</td>\n",
       "      <td>8773.000000</td>\n",
       "      <td>5125.333333</td>\n",
       "      <td>1136.333333</td>\n",
       "      <td>2.000000</td>\n",
       "      <td>2737.500000</td>\n",
       "    </tr>\n",
       "    <tr>\n",
       "      <th>33 Collective</th>\n",
       "      <td>0.000000</td>\n",
       "      <td>7158.000000</td>\n",
       "      <td>0.000000</td>\n",
       "      <td>0.000000</td>\n",
       "      <td>510.000000</td>\n",
       "      <td>14456.000000</td>\n",
       "      <td>6231.000000</td>\n",
       "      <td>21.000000</td>\n",
       "      <td>0.000000</td>\n",
       "      <td>3370.500000</td>\n",
       "    </tr>\n",
       "    <tr>\n",
       "      <th>8bit</th>\n",
       "      <td>7.558824</td>\n",
       "      <td>2160.294118</td>\n",
       "      <td>6.662647</td>\n",
       "      <td>38130.823529</td>\n",
       "      <td>207.029412</td>\n",
       "      <td>2325.088235</td>\n",
       "      <td>1816.588235</td>\n",
       "      <td>75684.117647</td>\n",
       "      <td>345.882353</td>\n",
       "      <td>1011.808824</td>\n",
       "    </tr>\n",
       "    <tr>\n",
       "      <th>A-1 Pictures</th>\n",
       "      <td>10.034884</td>\n",
       "      <td>2261.569767</td>\n",
       "      <td>7.077093</td>\n",
       "      <td>55898.081395</td>\n",
       "      <td>181.552326</td>\n",
       "      <td>2694.110465</td>\n",
       "      <td>1934.395349</td>\n",
       "      <td>106915.976744</td>\n",
       "      <td>1626.209302</td>\n",
       "      <td>1057.973837</td>\n",
       "    </tr>\n",
       "    <tr>\n",
       "      <th>...</th>\n",
       "      <td>...</td>\n",
       "      <td>...</td>\n",
       "      <td>...</td>\n",
       "      <td>...</td>\n",
       "      <td>...</td>\n",
       "      <td>...</td>\n",
       "      <td>...</td>\n",
       "      <td>...</td>\n",
       "      <td>...</td>\n",
       "      <td>...</td>\n",
       "    </tr>\n",
       "    <tr>\n",
       "      <th>ixtl, LIDENFILMS</th>\n",
       "      <td>12.000000</td>\n",
       "      <td>1200.000000</td>\n",
       "      <td>6.930000</td>\n",
       "      <td>26434.000000</td>\n",
       "      <td>203.000000</td>\n",
       "      <td>1163.000000</td>\n",
       "      <td>1001.000000</td>\n",
       "      <td>70801.000000</td>\n",
       "      <td>254.000000</td>\n",
       "      <td>602.000000</td>\n",
       "    </tr>\n",
       "    <tr>\n",
       "      <th>pH Studio</th>\n",
       "      <td>1.000000</td>\n",
       "      <td>6990.000000</td>\n",
       "      <td>6.060000</td>\n",
       "      <td>51.000000</td>\n",
       "      <td>290.000000</td>\n",
       "      <td>13320.000000</td>\n",
       "      <td>6138.000000</td>\n",
       "      <td>84.000000</td>\n",
       "      <td>0.000000</td>\n",
       "      <td>3214.000000</td>\n",
       "    </tr>\n",
       "    <tr>\n",
       "      <th>production doA</th>\n",
       "      <td>6.500000</td>\n",
       "      <td>2335.500000</td>\n",
       "      <td>6.990000</td>\n",
       "      <td>4299.000000</td>\n",
       "      <td>197.000000</td>\n",
       "      <td>2430.000000</td>\n",
       "      <td>1974.500000</td>\n",
       "      <td>34213.500000</td>\n",
       "      <td>72.000000</td>\n",
       "      <td>1085.750000</td>\n",
       "    </tr>\n",
       "    <tr>\n",
       "      <th>ufotable</th>\n",
       "      <td>4.553571</td>\n",
       "      <td>2454.535714</td>\n",
       "      <td>7.195714</td>\n",
       "      <td>42798.767857</td>\n",
       "      <td>176.035714</td>\n",
       "      <td>2776.142857</td>\n",
       "      <td>2102.678571</td>\n",
       "      <td>80084.232143</td>\n",
       "      <td>994.107143</td>\n",
       "      <td>1139.357143</td>\n",
       "    </tr>\n",
       "    <tr>\n",
       "      <th>ufotable, feel., Studio Flag</th>\n",
       "      <td>13.000000</td>\n",
       "      <td>2324.000000</td>\n",
       "      <td>6.990000</td>\n",
       "      <td>9372.000000</td>\n",
       "      <td>197.000000</td>\n",
       "      <td>2379.000000</td>\n",
       "      <td>1974.000000</td>\n",
       "      <td>24641.000000</td>\n",
       "      <td>57.000000</td>\n",
       "      <td>1085.500000</td>\n",
       "    </tr>\n",
       "  </tbody>\n",
       "</table>\n",
       "<p>691 rows × 10 columns</p>\n",
       "</div>"
      ],
      "text/plain": [
       "                               episodes         rank     score     scored_by  \\\n",
       "studio                                                                         \n",
       "10Gauge                        6.500000  6157.250000  5.525000    349.250000   \n",
       "2:10 Animation                 9.333333  6046.666667  4.176667    124.000000   \n",
       "33 Collective                  0.000000  7158.000000  0.000000      0.000000   \n",
       "8bit                           7.558824  2160.294118  6.662647  38130.823529   \n",
       "A-1 Pictures                  10.034884  2261.569767  7.077093  55898.081395   \n",
       "...                                 ...          ...       ...           ...   \n",
       "ixtl, LIDENFILMS              12.000000  1200.000000  6.930000  26434.000000   \n",
       "pH Studio                      1.000000  6990.000000  6.060000     51.000000   \n",
       "production doA                 6.500000  2335.500000  6.990000   4299.000000   \n",
       "ufotable                       4.553571  2454.535714  7.195714  42798.767857   \n",
       "ufotable, feel., Studio Flag  13.000000  2324.000000  6.990000   9372.000000   \n",
       "\n",
       "                              score_rank    popularity  popularity_rank  \\\n",
       "studio                                                                    \n",
       "10Gauge                       338.250000   9918.500000      5282.500000   \n",
       "2:10 Animation                349.666667   8773.000000      5125.333333   \n",
       "33 Collective                 510.000000  14456.000000      6231.000000   \n",
       "8bit                          207.029412   2325.088235      1816.588235   \n",
       "A-1 Pictures                  181.552326   2694.110465      1934.395349   \n",
       "...                                  ...           ...              ...   \n",
       "ixtl, LIDENFILMS              203.000000   1163.000000      1001.000000   \n",
       "pH Studio                     290.000000  13320.000000      6138.000000   \n",
       "production doA                197.000000   2430.000000      1974.500000   \n",
       "ufotable                      176.035714   2776.142857      2102.678571   \n",
       "ufotable, feel., Studio Flag  197.000000   2379.000000      1974.000000   \n",
       "\n",
       "                                    members    favorites  avg_rank_score  \n",
       "studio                                                                    \n",
       "10Gauge                         1322.750000     1.500000     2810.375000  \n",
       "2:10 Animation                  1136.333333     2.000000     2737.500000  \n",
       "33 Collective                     21.000000     0.000000     3370.500000  \n",
       "8bit                           75684.117647   345.882353     1011.808824  \n",
       "A-1 Pictures                  106915.976744  1626.209302     1057.973837  \n",
       "...                                     ...          ...             ...  \n",
       "ixtl, LIDENFILMS               70801.000000   254.000000      602.000000  \n",
       "pH Studio                         84.000000     0.000000     3214.000000  \n",
       "production doA                 34213.500000    72.000000     1085.750000  \n",
       "ufotable                       80084.232143   994.107143     1139.357143  \n",
       "ufotable, feel., Studio Flag   24641.000000    57.000000     1085.500000  \n",
       "\n",
       "[691 rows x 10 columns]"
      ]
     },
     "metadata": {},
     "output_type": "display_data"
    },
    {
     "data": {
      "text/html": [
       "<div>\n",
       "<style scoped>\n",
       "    .dataframe tbody tr th:only-of-type {\n",
       "        vertical-align: middle;\n",
       "    }\n",
       "\n",
       "    .dataframe tbody tr th {\n",
       "        vertical-align: top;\n",
       "    }\n",
       "\n",
       "    .dataframe thead th {\n",
       "        text-align: right;\n",
       "    }\n",
       "</style>\n",
       "<table border=\"1\" class=\"dataframe\">\n",
       "  <thead>\n",
       "    <tr style=\"text-align: right;\">\n",
       "      <th></th>\n",
       "      <th>episodes</th>\n",
       "      <th>rank</th>\n",
       "      <th>score</th>\n",
       "      <th>scored_by</th>\n",
       "      <th>score_rank</th>\n",
       "      <th>popularity</th>\n",
       "      <th>popularity_rank</th>\n",
       "      <th>members</th>\n",
       "      <th>favorites</th>\n",
       "      <th>avg_rank_score</th>\n",
       "    </tr>\n",
       "  </thead>\n",
       "  <tbody>\n",
       "    <tr>\n",
       "      <th>count</th>\n",
       "      <td>691.000000</td>\n",
       "      <td>691.000000</td>\n",
       "      <td>691.000000</td>\n",
       "      <td>691.000000</td>\n",
       "      <td>691.000000</td>\n",
       "      <td>691.000000</td>\n",
       "      <td>691.000000</td>\n",
       "      <td>691.000000</td>\n",
       "      <td>691.000000</td>\n",
       "      <td>691.000000</td>\n",
       "    </tr>\n",
       "    <tr>\n",
       "      <th>mean</th>\n",
       "      <td>12.717311</td>\n",
       "      <td>4000.770012</td>\n",
       "      <td>6.437043</td>\n",
       "      <td>13241.434748</td>\n",
       "      <td>244.913730</td>\n",
       "      <td>5324.922285</td>\n",
       "      <td>3405.646170</td>\n",
       "      <td>28275.172796</td>\n",
       "      <td>338.364375</td>\n",
       "      <td>1825.279950</td>\n",
       "    </tr>\n",
       "    <tr>\n",
       "      <th>std</th>\n",
       "      <td>19.526138</td>\n",
       "      <td>1762.484791</td>\n",
       "      <td>1.035811</td>\n",
       "      <td>27504.316713</td>\n",
       "      <td>81.003575</td>\n",
       "      <td>3285.203642</td>\n",
       "      <td>1519.209857</td>\n",
       "      <td>51696.868020</td>\n",
       "      <td>1809.232774</td>\n",
       "      <td>786.113295</td>\n",
       "    </tr>\n",
       "    <tr>\n",
       "      <th>min</th>\n",
       "      <td>0.000000</td>\n",
       "      <td>42.000000</td>\n",
       "      <td>0.000000</td>\n",
       "      <td>0.000000</td>\n",
       "      <td>35.500000</td>\n",
       "      <td>48.000000</td>\n",
       "      <td>47.000000</td>\n",
       "      <td>16.000000</td>\n",
       "      <td>0.000000</td>\n",
       "      <td>55.500000</td>\n",
       "    </tr>\n",
       "    <tr>\n",
       "      <th>25%</th>\n",
       "      <td>2.375000</td>\n",
       "      <td>2607.000000</td>\n",
       "      <td>6.030000</td>\n",
       "      <td>563.666667</td>\n",
       "      <td>190.330357</td>\n",
       "      <td>2828.500000</td>\n",
       "      <td>2208.000000</td>\n",
       "      <td>2125.000000</td>\n",
       "      <td>4.000000</td>\n",
       "      <td>1204.166667</td>\n",
       "    </tr>\n",
       "    <tr>\n",
       "      <th>50%</th>\n",
       "      <td>8.593750</td>\n",
       "      <td>3927.000000</td>\n",
       "      <td>6.600000</td>\n",
       "      <td>3672.166667</td>\n",
       "      <td>234.000000</td>\n",
       "      <td>4532.000000</td>\n",
       "      <td>3324.000000</td>\n",
       "      <td>10255.000000</td>\n",
       "      <td>28.000000</td>\n",
       "      <td>1781.907407</td>\n",
       "    </tr>\n",
       "    <tr>\n",
       "      <th>75%</th>\n",
       "      <td>13.000000</td>\n",
       "      <td>5479.500000</td>\n",
       "      <td>7.046500</td>\n",
       "      <td>14276.741379</td>\n",
       "      <td>289.333333</td>\n",
       "      <td>7221.000000</td>\n",
       "      <td>4661.095361</td>\n",
       "      <td>32239.333333</td>\n",
       "      <td>146.550000</td>\n",
       "      <td>2463.333333</td>\n",
       "    </tr>\n",
       "    <tr>\n",
       "      <th>max</th>\n",
       "      <td>258.000000</td>\n",
       "      <td>7158.000000</td>\n",
       "      <td>8.615000</td>\n",
       "      <td>364012.000000</td>\n",
       "      <td>510.000000</td>\n",
       "      <td>14456.000000</td>\n",
       "      <td>6231.000000</td>\n",
       "      <td>641101.000000</td>\n",
       "      <td>41098.000000</td>\n",
       "      <td>3370.500000</td>\n",
       "    </tr>\n",
       "  </tbody>\n",
       "</table>\n",
       "</div>"
      ],
      "text/plain": [
       "         episodes         rank       score      scored_by  score_rank  \\\n",
       "count  691.000000   691.000000  691.000000     691.000000  691.000000   \n",
       "mean    12.717311  4000.770012    6.437043   13241.434748  244.913730   \n",
       "std     19.526138  1762.484791    1.035811   27504.316713   81.003575   \n",
       "min      0.000000    42.000000    0.000000       0.000000   35.500000   \n",
       "25%      2.375000  2607.000000    6.030000     563.666667  190.330357   \n",
       "50%      8.593750  3927.000000    6.600000    3672.166667  234.000000   \n",
       "75%     13.000000  5479.500000    7.046500   14276.741379  289.333333   \n",
       "max    258.000000  7158.000000    8.615000  364012.000000  510.000000   \n",
       "\n",
       "         popularity  popularity_rank        members     favorites  \\\n",
       "count    691.000000       691.000000     691.000000    691.000000   \n",
       "mean    5324.922285      3405.646170   28275.172796    338.364375   \n",
       "std     3285.203642      1519.209857   51696.868020   1809.232774   \n",
       "min       48.000000        47.000000      16.000000      0.000000   \n",
       "25%     2828.500000      2208.000000    2125.000000      4.000000   \n",
       "50%     4532.000000      3324.000000   10255.000000     28.000000   \n",
       "75%     7221.000000      4661.095361   32239.333333    146.550000   \n",
       "max    14456.000000      6231.000000  641101.000000  41098.000000   \n",
       "\n",
       "       avg_rank_score  \n",
       "count      691.000000  \n",
       "mean      1825.279950  \n",
       "std        786.113295  \n",
       "min         55.500000  \n",
       "25%       1204.166667  \n",
       "50%       1781.907407  \n",
       "75%       2463.333333  \n",
       "max       3370.500000  "
      ]
     },
     "metadata": {},
     "output_type": "display_data"
    }
   ],
   "source": [
    "\n",
    "studios_avgs= df_animes.groupby('studio')[['episodes', 'status', 'rank', 'image_url', 'rating',\n",
    "                  'score','scored_by', 'score_rank', 'popularity', 'popularity_rank',\n",
    "                  'members','favorites', 'avg_rank_score']].mean()\n",
    "\n",
    "display(studios_avgs, studios_avgs.describe())"
   ]
  },
  {
   "cell_type": "code",
   "execution_count": 168,
   "id": "f824a56a",
   "metadata": {},
   "outputs": [
    {
     "data": {
      "text/html": [
       "<div>\n",
       "<style scoped>\n",
       "    .dataframe tbody tr th:only-of-type {\n",
       "        vertical-align: middle;\n",
       "    }\n",
       "\n",
       "    .dataframe tbody tr th {\n",
       "        vertical-align: top;\n",
       "    }\n",
       "\n",
       "    .dataframe thead th {\n",
       "        text-align: right;\n",
       "    }\n",
       "</style>\n",
       "<table border=\"1\" class=\"dataframe\">\n",
       "  <thead>\n",
       "    <tr style=\"text-align: right;\">\n",
       "      <th></th>\n",
       "      <th>episodes</th>\n",
       "      <th>rank</th>\n",
       "      <th>score</th>\n",
       "      <th>scored_by</th>\n",
       "      <th>score_rank</th>\n",
       "      <th>popularity</th>\n",
       "      <th>popularity_rank</th>\n",
       "      <th>members</th>\n",
       "      <th>favorites</th>\n",
       "      <th>avg_rank_score</th>\n",
       "    </tr>\n",
       "    <tr>\n",
       "      <th>studio</th>\n",
       "      <th></th>\n",
       "      <th></th>\n",
       "      <th></th>\n",
       "      <th></th>\n",
       "      <th></th>\n",
       "      <th></th>\n",
       "      <th></th>\n",
       "      <th></th>\n",
       "      <th></th>\n",
       "      <th></th>\n",
       "    </tr>\n",
       "  </thead>\n",
       "  <tbody>\n",
       "    <tr>\n",
       "      <th>J.C.Staff, Egg Firm</th>\n",
       "      <td>72.0</td>\n",
       "      <td>811.5</td>\n",
       "      <td>8.615</td>\n",
       "      <td>36726.0</td>\n",
       "      <td>35.5</td>\n",
       "      <td>949.5</td>\n",
       "      <td>822.0</td>\n",
       "      <td>102833.0</td>\n",
       "      <td>1721.0</td>\n",
       "      <td>428.75</td>\n",
       "    </tr>\n",
       "    <tr>\n",
       "      <th>Madhouse, Satelight, Graphinica</th>\n",
       "      <td>10.0</td>\n",
       "      <td>67.0</td>\n",
       "      <td>8.530</td>\n",
       "      <td>221939.0</td>\n",
       "      <td>43.0</td>\n",
       "      <td>105.0</td>\n",
       "      <td>101.0</td>\n",
       "      <td>425255.0</td>\n",
       "      <td>13450.0</td>\n",
       "      <td>72.00</td>\n",
       "    </tr>\n",
       "    <tr>\n",
       "      <th>Xebec, AIC</th>\n",
       "      <td>26.0</td>\n",
       "      <td>1128.0</td>\n",
       "      <td>8.460</td>\n",
       "      <td>21150.0</td>\n",
       "      <td>50.0</td>\n",
       "      <td>1282.0</td>\n",
       "      <td>1092.0</td>\n",
       "      <td>63676.0</td>\n",
       "      <td>1228.0</td>\n",
       "      <td>571.00</td>\n",
       "    </tr>\n",
       "    <tr>\n",
       "      <th>Tezuka Productions, MAPPA</th>\n",
       "      <td>12.0</td>\n",
       "      <td>303.0</td>\n",
       "      <td>8.440</td>\n",
       "      <td>93986.0</td>\n",
       "      <td>52.0</td>\n",
       "      <td>390.0</td>\n",
       "      <td>349.0</td>\n",
       "      <td>192993.0</td>\n",
       "      <td>4600.0</td>\n",
       "      <td>200.50</td>\n",
       "    </tr>\n",
       "    <tr>\n",
       "      <th>Gainax, Tatsunoko Production</th>\n",
       "      <td>26.0</td>\n",
       "      <td>42.0</td>\n",
       "      <td>8.320</td>\n",
       "      <td>364012.0</td>\n",
       "      <td>64.0</td>\n",
       "      <td>48.0</td>\n",
       "      <td>47.0</td>\n",
       "      <td>641101.0</td>\n",
       "      <td>41098.0</td>\n",
       "      <td>55.50</td>\n",
       "    </tr>\n",
       "    <tr>\n",
       "      <th>Studio Gallop, Studio Comet</th>\n",
       "      <td>26.0</td>\n",
       "      <td>649.0</td>\n",
       "      <td>8.280</td>\n",
       "      <td>60560.0</td>\n",
       "      <td>68.0</td>\n",
       "      <td>745.0</td>\n",
       "      <td>654.0</td>\n",
       "      <td>115355.0</td>\n",
       "      <td>3395.0</td>\n",
       "      <td>361.00</td>\n",
       "    </tr>\n",
       "    <tr>\n",
       "      <th>Oh! Production</th>\n",
       "      <td>1.0</td>\n",
       "      <td>1238.0</td>\n",
       "      <td>8.190</td>\n",
       "      <td>34896.0</td>\n",
       "      <td>77.0</td>\n",
       "      <td>1366.0</td>\n",
       "      <td>1159.0</td>\n",
       "      <td>58598.0</td>\n",
       "      <td>376.0</td>\n",
       "      <td>618.00</td>\n",
       "    </tr>\n",
       "    <tr>\n",
       "      <th>A-1 Pictures, Trigger, CloverWorks</th>\n",
       "      <td>24.0</td>\n",
       "      <td>200.0</td>\n",
       "      <td>8.170</td>\n",
       "      <td>76973.0</td>\n",
       "      <td>79.0</td>\n",
       "      <td>239.0</td>\n",
       "      <td>219.0</td>\n",
       "      <td>276912.0</td>\n",
       "      <td>4991.0</td>\n",
       "      <td>149.00</td>\n",
       "    </tr>\n",
       "    <tr>\n",
       "      <th>Shirogumi, Shin-Ei Animation</th>\n",
       "      <td>1.0</td>\n",
       "      <td>3264.0</td>\n",
       "      <td>8.130</td>\n",
       "      <td>6520.0</td>\n",
       "      <td>83.0</td>\n",
       "      <td>3636.0</td>\n",
       "      <td>2885.0</td>\n",
       "      <td>10320.0</td>\n",
       "      <td>47.0</td>\n",
       "      <td>1484.00</td>\n",
       "    </tr>\n",
       "    <tr>\n",
       "      <th>Studio Pierrot, Studio Hibari</th>\n",
       "      <td>50.0</td>\n",
       "      <td>1525.0</td>\n",
       "      <td>8.030</td>\n",
       "      <td>21618.0</td>\n",
       "      <td>93.0</td>\n",
       "      <td>1630.0</td>\n",
       "      <td>1382.0</td>\n",
       "      <td>45625.0</td>\n",
       "      <td>826.0</td>\n",
       "      <td>737.50</td>\n",
       "    </tr>\n",
       "  </tbody>\n",
       "</table>\n",
       "</div>"
      ],
      "text/plain": [
       "                                    episodes    rank  score  scored_by  \\\n",
       "studio                                                                   \n",
       "J.C.Staff, Egg Firm                     72.0   811.5  8.615    36726.0   \n",
       "Madhouse, Satelight, Graphinica         10.0    67.0  8.530   221939.0   \n",
       "Xebec, AIC                              26.0  1128.0  8.460    21150.0   \n",
       "Tezuka Productions, MAPPA               12.0   303.0  8.440    93986.0   \n",
       "Gainax, Tatsunoko Production            26.0    42.0  8.320   364012.0   \n",
       "Studio Gallop, Studio Comet             26.0   649.0  8.280    60560.0   \n",
       "Oh! Production                           1.0  1238.0  8.190    34896.0   \n",
       "A-1 Pictures, Trigger, CloverWorks      24.0   200.0  8.170    76973.0   \n",
       "Shirogumi, Shin-Ei Animation             1.0  3264.0  8.130     6520.0   \n",
       "Studio Pierrot, Studio Hibari           50.0  1525.0  8.030    21618.0   \n",
       "\n",
       "                                    score_rank  popularity  popularity_rank  \\\n",
       "studio                                                                        \n",
       "J.C.Staff, Egg Firm                       35.5       949.5            822.0   \n",
       "Madhouse, Satelight, Graphinica           43.0       105.0            101.0   \n",
       "Xebec, AIC                                50.0      1282.0           1092.0   \n",
       "Tezuka Productions, MAPPA                 52.0       390.0            349.0   \n",
       "Gainax, Tatsunoko Production              64.0        48.0             47.0   \n",
       "Studio Gallop, Studio Comet               68.0       745.0            654.0   \n",
       "Oh! Production                            77.0      1366.0           1159.0   \n",
       "A-1 Pictures, Trigger, CloverWorks        79.0       239.0            219.0   \n",
       "Shirogumi, Shin-Ei Animation              83.0      3636.0           2885.0   \n",
       "Studio Pierrot, Studio Hibari             93.0      1630.0           1382.0   \n",
       "\n",
       "                                     members  favorites  avg_rank_score  \n",
       "studio                                                                   \n",
       "J.C.Staff, Egg Firm                 102833.0     1721.0          428.75  \n",
       "Madhouse, Satelight, Graphinica     425255.0    13450.0           72.00  \n",
       "Xebec, AIC                           63676.0     1228.0          571.00  \n",
       "Tezuka Productions, MAPPA           192993.0     4600.0          200.50  \n",
       "Gainax, Tatsunoko Production        641101.0    41098.0           55.50  \n",
       "Studio Gallop, Studio Comet         115355.0     3395.0          361.00  \n",
       "Oh! Production                       58598.0      376.0          618.00  \n",
       "A-1 Pictures, Trigger, CloverWorks  276912.0     4991.0          149.00  \n",
       "Shirogumi, Shin-Ei Animation         10320.0       47.0         1484.00  \n",
       "Studio Pierrot, Studio Hibari        45625.0      826.0          737.50  "
      ]
     },
     "execution_count": 168,
     "metadata": {},
     "output_type": "execute_result"
    }
   ],
   "source": [
    "studios_avgs.nsmallest(10,'score_rank')"
   ]
  },
  {
   "cell_type": "code",
   "execution_count": 169,
   "id": "ed993dd5",
   "metadata": {},
   "outputs": [
    {
     "data": {
      "text/html": [
       "<div>\n",
       "<style scoped>\n",
       "    .dataframe tbody tr th:only-of-type {\n",
       "        vertical-align: middle;\n",
       "    }\n",
       "\n",
       "    .dataframe tbody tr th {\n",
       "        vertical-align: top;\n",
       "    }\n",
       "\n",
       "    .dataframe thead th {\n",
       "        text-align: right;\n",
       "    }\n",
       "</style>\n",
       "<table border=\"1\" class=\"dataframe\">\n",
       "  <thead>\n",
       "    <tr style=\"text-align: right;\">\n",
       "      <th></th>\n",
       "      <th>episodes</th>\n",
       "      <th>rank</th>\n",
       "      <th>score</th>\n",
       "      <th>scored_by</th>\n",
       "      <th>score_rank</th>\n",
       "      <th>popularity</th>\n",
       "      <th>popularity_rank</th>\n",
       "      <th>members</th>\n",
       "      <th>favorites</th>\n",
       "      <th>avg_rank_score</th>\n",
       "    </tr>\n",
       "    <tr>\n",
       "      <th>studio</th>\n",
       "      <th></th>\n",
       "      <th></th>\n",
       "      <th></th>\n",
       "      <th></th>\n",
       "      <th></th>\n",
       "      <th></th>\n",
       "      <th></th>\n",
       "      <th></th>\n",
       "      <th></th>\n",
       "      <th></th>\n",
       "    </tr>\n",
       "  </thead>\n",
       "  <tbody>\n",
       "    <tr>\n",
       "      <th>Gainax, Tatsunoko Production</th>\n",
       "      <td>26.000000</td>\n",
       "      <td>42.000000</td>\n",
       "      <td>8.320000</td>\n",
       "      <td>364012.0</td>\n",
       "      <td>64.000000</td>\n",
       "      <td>48.0</td>\n",
       "      <td>47.0</td>\n",
       "      <td>641101.000000</td>\n",
       "      <td>41098.000000</td>\n",
       "      <td>55.500000</td>\n",
       "    </tr>\n",
       "    <tr>\n",
       "      <th>Madhouse, Satelight, Graphinica</th>\n",
       "      <td>10.000000</td>\n",
       "      <td>67.000000</td>\n",
       "      <td>8.530000</td>\n",
       "      <td>221939.0</td>\n",
       "      <td>43.000000</td>\n",
       "      <td>105.0</td>\n",
       "      <td>101.0</td>\n",
       "      <td>425255.000000</td>\n",
       "      <td>13450.000000</td>\n",
       "      <td>72.000000</td>\n",
       "    </tr>\n",
       "    <tr>\n",
       "      <th>Silver Link., Nexus</th>\n",
       "      <td>12.000000</td>\n",
       "      <td>188.000000</td>\n",
       "      <td>7.750000</td>\n",
       "      <td>193030.0</td>\n",
       "      <td>121.000000</td>\n",
       "      <td>168.0</td>\n",
       "      <td>158.0</td>\n",
       "      <td>336877.000000</td>\n",
       "      <td>4087.000000</td>\n",
       "      <td>139.500000</td>\n",
       "    </tr>\n",
       "    <tr>\n",
       "      <th>A-1 Pictures, Trigger, CloverWorks</th>\n",
       "      <td>24.000000</td>\n",
       "      <td>200.000000</td>\n",
       "      <td>8.170000</td>\n",
       "      <td>76973.0</td>\n",
       "      <td>79.000000</td>\n",
       "      <td>239.0</td>\n",
       "      <td>219.0</td>\n",
       "      <td>276912.000000</td>\n",
       "      <td>4991.000000</td>\n",
       "      <td>149.000000</td>\n",
       "    </tr>\n",
       "    <tr>\n",
       "      <th>Kyoto Animation, Animation Do</th>\n",
       "      <td>12.500000</td>\n",
       "      <td>275.500000</td>\n",
       "      <td>7.720000</td>\n",
       "      <td>155257.5</td>\n",
       "      <td>124.000000</td>\n",
       "      <td>264.0</td>\n",
       "      <td>239.0</td>\n",
       "      <td>277420.500000</td>\n",
       "      <td>5126.000000</td>\n",
       "      <td>181.500000</td>\n",
       "    </tr>\n",
       "    <tr>\n",
       "      <th>Ordet, SANZIGEN</th>\n",
       "      <td>8.000000</td>\n",
       "      <td>370.000000</td>\n",
       "      <td>7.000000</td>\n",
       "      <td>125060.0</td>\n",
       "      <td>196.000000</td>\n",
       "      <td>283.0</td>\n",
       "      <td>256.0</td>\n",
       "      <td>245436.000000</td>\n",
       "      <td>1852.000000</td>\n",
       "      <td>226.000000</td>\n",
       "    </tr>\n",
       "    <tr>\n",
       "      <th>Hal Film Maker, TYO Animations</th>\n",
       "      <td>12.000000</td>\n",
       "      <td>357.000000</td>\n",
       "      <td>7.100000</td>\n",
       "      <td>142827.0</td>\n",
       "      <td>186.000000</td>\n",
       "      <td>285.0</td>\n",
       "      <td>257.0</td>\n",
       "      <td>244791.000000</td>\n",
       "      <td>1641.000000</td>\n",
       "      <td>221.500000</td>\n",
       "    </tr>\n",
       "    <tr>\n",
       "      <th>Gainax, Production I.G</th>\n",
       "      <td>2.666667</td>\n",
       "      <td>323.666667</td>\n",
       "      <td>8.016667</td>\n",
       "      <td>165267.0</td>\n",
       "      <td>94.333333</td>\n",
       "      <td>344.0</td>\n",
       "      <td>309.0</td>\n",
       "      <td>274696.666667</td>\n",
       "      <td>8161.333333</td>\n",
       "      <td>201.666667</td>\n",
       "    </tr>\n",
       "    <tr>\n",
       "      <th>Tezuka Productions, MAPPA</th>\n",
       "      <td>12.000000</td>\n",
       "      <td>303.000000</td>\n",
       "      <td>8.440000</td>\n",
       "      <td>93986.0</td>\n",
       "      <td>52.000000</td>\n",
       "      <td>390.0</td>\n",
       "      <td>349.0</td>\n",
       "      <td>192993.000000</td>\n",
       "      <td>4600.000000</td>\n",
       "      <td>200.500000</td>\n",
       "    </tr>\n",
       "    <tr>\n",
       "      <th>Xebec, Asread</th>\n",
       "      <td>24.000000</td>\n",
       "      <td>434.000000</td>\n",
       "      <td>7.240000</td>\n",
       "      <td>97057.0</td>\n",
       "      <td>172.000000</td>\n",
       "      <td>395.0</td>\n",
       "      <td>354.0</td>\n",
       "      <td>190780.000000</td>\n",
       "      <td>1482.000000</td>\n",
       "      <td>263.000000</td>\n",
       "    </tr>\n",
       "  </tbody>\n",
       "</table>\n",
       "</div>"
      ],
      "text/plain": [
       "                                     episodes        rank     score  \\\n",
       "studio                                                                \n",
       "Gainax, Tatsunoko Production        26.000000   42.000000  8.320000   \n",
       "Madhouse, Satelight, Graphinica     10.000000   67.000000  8.530000   \n",
       "Silver Link., Nexus                 12.000000  188.000000  7.750000   \n",
       "A-1 Pictures, Trigger, CloverWorks  24.000000  200.000000  8.170000   \n",
       "Kyoto Animation, Animation Do       12.500000  275.500000  7.720000   \n",
       "Ordet, SANZIGEN                      8.000000  370.000000  7.000000   \n",
       "Hal Film Maker, TYO Animations      12.000000  357.000000  7.100000   \n",
       "Gainax, Production I.G               2.666667  323.666667  8.016667   \n",
       "Tezuka Productions, MAPPA           12.000000  303.000000  8.440000   \n",
       "Xebec, Asread                       24.000000  434.000000  7.240000   \n",
       "\n",
       "                                    scored_by  score_rank  popularity  \\\n",
       "studio                                                                  \n",
       "Gainax, Tatsunoko Production         364012.0   64.000000        48.0   \n",
       "Madhouse, Satelight, Graphinica      221939.0   43.000000       105.0   \n",
       "Silver Link., Nexus                  193030.0  121.000000       168.0   \n",
       "A-1 Pictures, Trigger, CloverWorks    76973.0   79.000000       239.0   \n",
       "Kyoto Animation, Animation Do        155257.5  124.000000       264.0   \n",
       "Ordet, SANZIGEN                      125060.0  196.000000       283.0   \n",
       "Hal Film Maker, TYO Animations       142827.0  186.000000       285.0   \n",
       "Gainax, Production I.G               165267.0   94.333333       344.0   \n",
       "Tezuka Productions, MAPPA             93986.0   52.000000       390.0   \n",
       "Xebec, Asread                         97057.0  172.000000       395.0   \n",
       "\n",
       "                                    popularity_rank        members  \\\n",
       "studio                                                               \n",
       "Gainax, Tatsunoko Production                   47.0  641101.000000   \n",
       "Madhouse, Satelight, Graphinica               101.0  425255.000000   \n",
       "Silver Link., Nexus                           158.0  336877.000000   \n",
       "A-1 Pictures, Trigger, CloverWorks            219.0  276912.000000   \n",
       "Kyoto Animation, Animation Do                 239.0  277420.500000   \n",
       "Ordet, SANZIGEN                               256.0  245436.000000   \n",
       "Hal Film Maker, TYO Animations                257.0  244791.000000   \n",
       "Gainax, Production I.G                        309.0  274696.666667   \n",
       "Tezuka Productions, MAPPA                     349.0  192993.000000   \n",
       "Xebec, Asread                                 354.0  190780.000000   \n",
       "\n",
       "                                       favorites  avg_rank_score  \n",
       "studio                                                            \n",
       "Gainax, Tatsunoko Production        41098.000000       55.500000  \n",
       "Madhouse, Satelight, Graphinica     13450.000000       72.000000  \n",
       "Silver Link., Nexus                  4087.000000      139.500000  \n",
       "A-1 Pictures, Trigger, CloverWorks   4991.000000      149.000000  \n",
       "Kyoto Animation, Animation Do        5126.000000      181.500000  \n",
       "Ordet, SANZIGEN                      1852.000000      226.000000  \n",
       "Hal Film Maker, TYO Animations       1641.000000      221.500000  \n",
       "Gainax, Production I.G               8161.333333      201.666667  \n",
       "Tezuka Productions, MAPPA            4600.000000      200.500000  \n",
       "Xebec, Asread                        1482.000000      263.000000  "
      ]
     },
     "execution_count": 169,
     "metadata": {},
     "output_type": "execute_result"
    }
   ],
   "source": [
    "studios_avgs.nsmallest(10,'popularity_rank')"
   ]
  },
  {
   "cell_type": "code",
   "execution_count": 171,
   "id": "3b395893",
   "metadata": {},
   "outputs": [
    {
     "data": {
      "text/html": [
       "<div>\n",
       "<style scoped>\n",
       "    .dataframe tbody tr th:only-of-type {\n",
       "        vertical-align: middle;\n",
       "    }\n",
       "\n",
       "    .dataframe tbody tr th {\n",
       "        vertical-align: top;\n",
       "    }\n",
       "\n",
       "    .dataframe thead th {\n",
       "        text-align: right;\n",
       "    }\n",
       "</style>\n",
       "<table border=\"1\" class=\"dataframe\">\n",
       "  <thead>\n",
       "    <tr style=\"text-align: right;\">\n",
       "      <th></th>\n",
       "      <th>episodes</th>\n",
       "      <th>rank</th>\n",
       "      <th>score</th>\n",
       "      <th>scored_by</th>\n",
       "      <th>score_rank</th>\n",
       "      <th>popularity</th>\n",
       "      <th>popularity_rank</th>\n",
       "      <th>members</th>\n",
       "      <th>favorites</th>\n",
       "      <th>avg_rank_score</th>\n",
       "    </tr>\n",
       "    <tr>\n",
       "      <th>studio</th>\n",
       "      <th></th>\n",
       "      <th></th>\n",
       "      <th></th>\n",
       "      <th></th>\n",
       "      <th></th>\n",
       "      <th></th>\n",
       "      <th></th>\n",
       "      <th></th>\n",
       "      <th></th>\n",
       "      <th></th>\n",
       "    </tr>\n",
       "  </thead>\n",
       "  <tbody>\n",
       "    <tr>\n",
       "      <th>Gainax, Tatsunoko Production</th>\n",
       "      <td>26.000000</td>\n",
       "      <td>42.000000</td>\n",
       "      <td>8.320000</td>\n",
       "      <td>364012.0</td>\n",
       "      <td>64.000000</td>\n",
       "      <td>48.0</td>\n",
       "      <td>47.0</td>\n",
       "      <td>641101.000000</td>\n",
       "      <td>41098.000000</td>\n",
       "      <td>55.500000</td>\n",
       "    </tr>\n",
       "    <tr>\n",
       "      <th>Madhouse, Satelight, Graphinica</th>\n",
       "      <td>10.000000</td>\n",
       "      <td>67.000000</td>\n",
       "      <td>8.530000</td>\n",
       "      <td>221939.0</td>\n",
       "      <td>43.000000</td>\n",
       "      <td>105.0</td>\n",
       "      <td>101.0</td>\n",
       "      <td>425255.000000</td>\n",
       "      <td>13450.000000</td>\n",
       "      <td>72.000000</td>\n",
       "    </tr>\n",
       "    <tr>\n",
       "      <th>Silver Link., Nexus</th>\n",
       "      <td>12.000000</td>\n",
       "      <td>188.000000</td>\n",
       "      <td>7.750000</td>\n",
       "      <td>193030.0</td>\n",
       "      <td>121.000000</td>\n",
       "      <td>168.0</td>\n",
       "      <td>158.0</td>\n",
       "      <td>336877.000000</td>\n",
       "      <td>4087.000000</td>\n",
       "      <td>139.500000</td>\n",
       "    </tr>\n",
       "    <tr>\n",
       "      <th>Kyoto Animation, Animation Do</th>\n",
       "      <td>12.500000</td>\n",
       "      <td>275.500000</td>\n",
       "      <td>7.720000</td>\n",
       "      <td>155257.5</td>\n",
       "      <td>124.000000</td>\n",
       "      <td>264.0</td>\n",
       "      <td>239.0</td>\n",
       "      <td>277420.500000</td>\n",
       "      <td>5126.000000</td>\n",
       "      <td>181.500000</td>\n",
       "    </tr>\n",
       "    <tr>\n",
       "      <th>A-1 Pictures, Trigger, CloverWorks</th>\n",
       "      <td>24.000000</td>\n",
       "      <td>200.000000</td>\n",
       "      <td>8.170000</td>\n",
       "      <td>76973.0</td>\n",
       "      <td>79.000000</td>\n",
       "      <td>239.0</td>\n",
       "      <td>219.0</td>\n",
       "      <td>276912.000000</td>\n",
       "      <td>4991.000000</td>\n",
       "      <td>149.000000</td>\n",
       "    </tr>\n",
       "    <tr>\n",
       "      <th>Gainax, Production I.G</th>\n",
       "      <td>2.666667</td>\n",
       "      <td>323.666667</td>\n",
       "      <td>8.016667</td>\n",
       "      <td>165267.0</td>\n",
       "      <td>94.333333</td>\n",
       "      <td>344.0</td>\n",
       "      <td>309.0</td>\n",
       "      <td>274696.666667</td>\n",
       "      <td>8161.333333</td>\n",
       "      <td>201.666667</td>\n",
       "    </tr>\n",
       "    <tr>\n",
       "      <th>Kinema Citrus, Orange</th>\n",
       "      <td>7.000000</td>\n",
       "      <td>1029.000000</td>\n",
       "      <td>6.890000</td>\n",
       "      <td>137591.5</td>\n",
       "      <td>207.000000</td>\n",
       "      <td>969.5</td>\n",
       "      <td>828.5</td>\n",
       "      <td>251132.000000</td>\n",
       "      <td>1502.500000</td>\n",
       "      <td>517.750000</td>\n",
       "    </tr>\n",
       "    <tr>\n",
       "      <th>Ordet, SANZIGEN</th>\n",
       "      <td>8.000000</td>\n",
       "      <td>370.000000</td>\n",
       "      <td>7.000000</td>\n",
       "      <td>125060.0</td>\n",
       "      <td>196.000000</td>\n",
       "      <td>283.0</td>\n",
       "      <td>256.0</td>\n",
       "      <td>245436.000000</td>\n",
       "      <td>1852.000000</td>\n",
       "      <td>226.000000</td>\n",
       "    </tr>\n",
       "    <tr>\n",
       "      <th>Hal Film Maker, TYO Animations</th>\n",
       "      <td>12.000000</td>\n",
       "      <td>357.000000</td>\n",
       "      <td>7.100000</td>\n",
       "      <td>142827.0</td>\n",
       "      <td>186.000000</td>\n",
       "      <td>285.0</td>\n",
       "      <td>257.0</td>\n",
       "      <td>244791.000000</td>\n",
       "      <td>1641.000000</td>\n",
       "      <td>221.500000</td>\n",
       "    </tr>\n",
       "    <tr>\n",
       "      <th>Satelight, A-1 Pictures</th>\n",
       "      <td>36.600000</td>\n",
       "      <td>856.000000</td>\n",
       "      <td>7.680000</td>\n",
       "      <td>123002.0</td>\n",
       "      <td>128.000000</td>\n",
       "      <td>874.2</td>\n",
       "      <td>752.6</td>\n",
       "      <td>230361.200000</td>\n",
       "      <td>7779.400000</td>\n",
       "      <td>440.300000</td>\n",
       "    </tr>\n",
       "  </tbody>\n",
       "</table>\n",
       "</div>"
      ],
      "text/plain": [
       "                                     episodes         rank     score  \\\n",
       "studio                                                                 \n",
       "Gainax, Tatsunoko Production        26.000000    42.000000  8.320000   \n",
       "Madhouse, Satelight, Graphinica     10.000000    67.000000  8.530000   \n",
       "Silver Link., Nexus                 12.000000   188.000000  7.750000   \n",
       "Kyoto Animation, Animation Do       12.500000   275.500000  7.720000   \n",
       "A-1 Pictures, Trigger, CloverWorks  24.000000   200.000000  8.170000   \n",
       "Gainax, Production I.G               2.666667   323.666667  8.016667   \n",
       "Kinema Citrus, Orange                7.000000  1029.000000  6.890000   \n",
       "Ordet, SANZIGEN                      8.000000   370.000000  7.000000   \n",
       "Hal Film Maker, TYO Animations      12.000000   357.000000  7.100000   \n",
       "Satelight, A-1 Pictures             36.600000   856.000000  7.680000   \n",
       "\n",
       "                                    scored_by  score_rank  popularity  \\\n",
       "studio                                                                  \n",
       "Gainax, Tatsunoko Production         364012.0   64.000000        48.0   \n",
       "Madhouse, Satelight, Graphinica      221939.0   43.000000       105.0   \n",
       "Silver Link., Nexus                  193030.0  121.000000       168.0   \n",
       "Kyoto Animation, Animation Do        155257.5  124.000000       264.0   \n",
       "A-1 Pictures, Trigger, CloverWorks    76973.0   79.000000       239.0   \n",
       "Gainax, Production I.G               165267.0   94.333333       344.0   \n",
       "Kinema Citrus, Orange                137591.5  207.000000       969.5   \n",
       "Ordet, SANZIGEN                      125060.0  196.000000       283.0   \n",
       "Hal Film Maker, TYO Animations       142827.0  186.000000       285.0   \n",
       "Satelight, A-1 Pictures              123002.0  128.000000       874.2   \n",
       "\n",
       "                                    popularity_rank        members  \\\n",
       "studio                                                               \n",
       "Gainax, Tatsunoko Production                   47.0  641101.000000   \n",
       "Madhouse, Satelight, Graphinica               101.0  425255.000000   \n",
       "Silver Link., Nexus                           158.0  336877.000000   \n",
       "Kyoto Animation, Animation Do                 239.0  277420.500000   \n",
       "A-1 Pictures, Trigger, CloverWorks            219.0  276912.000000   \n",
       "Gainax, Production I.G                        309.0  274696.666667   \n",
       "Kinema Citrus, Orange                         828.5  251132.000000   \n",
       "Ordet, SANZIGEN                               256.0  245436.000000   \n",
       "Hal Film Maker, TYO Animations                257.0  244791.000000   \n",
       "Satelight, A-1 Pictures                       752.6  230361.200000   \n",
       "\n",
       "                                       favorites  avg_rank_score  \n",
       "studio                                                            \n",
       "Gainax, Tatsunoko Production        41098.000000       55.500000  \n",
       "Madhouse, Satelight, Graphinica     13450.000000       72.000000  \n",
       "Silver Link., Nexus                  4087.000000      139.500000  \n",
       "Kyoto Animation, Animation Do        5126.000000      181.500000  \n",
       "A-1 Pictures, Trigger, CloverWorks   4991.000000      149.000000  \n",
       "Gainax, Production I.G               8161.333333      201.666667  \n",
       "Kinema Citrus, Orange                1502.500000      517.750000  \n",
       "Ordet, SANZIGEN                      1852.000000      226.000000  \n",
       "Hal Film Maker, TYO Animations       1641.000000      221.500000  \n",
       "Satelight, A-1 Pictures              7779.400000      440.300000  "
      ]
     },
     "execution_count": 171,
     "metadata": {},
     "output_type": "execute_result"
    }
   ],
   "source": [
    "studios_avgs.nlargest(10,'members')"
   ]
  },
  {
   "cell_type": "code",
   "execution_count": 172,
   "id": "f0495b69",
   "metadata": {},
   "outputs": [
    {
     "data": {
      "text/html": [
       "<div>\n",
       "<style scoped>\n",
       "    .dataframe tbody tr th:only-of-type {\n",
       "        vertical-align: middle;\n",
       "    }\n",
       "\n",
       "    .dataframe tbody tr th {\n",
       "        vertical-align: top;\n",
       "    }\n",
       "\n",
       "    .dataframe thead th {\n",
       "        text-align: right;\n",
       "    }\n",
       "</style>\n",
       "<table border=\"1\" class=\"dataframe\">\n",
       "  <thead>\n",
       "    <tr style=\"text-align: right;\">\n",
       "      <th></th>\n",
       "      <th>episodes</th>\n",
       "      <th>rank</th>\n",
       "      <th>score</th>\n",
       "      <th>scored_by</th>\n",
       "      <th>score_rank</th>\n",
       "      <th>popularity</th>\n",
       "      <th>popularity_rank</th>\n",
       "      <th>members</th>\n",
       "      <th>favorites</th>\n",
       "      <th>avg_rank_score</th>\n",
       "    </tr>\n",
       "    <tr>\n",
       "      <th>studio</th>\n",
       "      <th></th>\n",
       "      <th></th>\n",
       "      <th></th>\n",
       "      <th></th>\n",
       "      <th></th>\n",
       "      <th></th>\n",
       "      <th></th>\n",
       "      <th></th>\n",
       "      <th></th>\n",
       "      <th></th>\n",
       "    </tr>\n",
       "  </thead>\n",
       "  <tbody>\n",
       "    <tr>\n",
       "      <th>Gainax, Tatsunoko Production</th>\n",
       "      <td>26.000000</td>\n",
       "      <td>42.000000</td>\n",
       "      <td>8.320000</td>\n",
       "      <td>364012.000000</td>\n",
       "      <td>64.000000</td>\n",
       "      <td>48.000000</td>\n",
       "      <td>47.0</td>\n",
       "      <td>641101.000000</td>\n",
       "      <td>41098.000000</td>\n",
       "      <td>55.500000</td>\n",
       "    </tr>\n",
       "    <tr>\n",
       "      <th>Madhouse, Satelight, Graphinica</th>\n",
       "      <td>10.000000</td>\n",
       "      <td>67.000000</td>\n",
       "      <td>8.530000</td>\n",
       "      <td>221939.000000</td>\n",
       "      <td>43.000000</td>\n",
       "      <td>105.000000</td>\n",
       "      <td>101.0</td>\n",
       "      <td>425255.000000</td>\n",
       "      <td>13450.000000</td>\n",
       "      <td>72.000000</td>\n",
       "    </tr>\n",
       "    <tr>\n",
       "      <th>Gainax, Production I.G</th>\n",
       "      <td>2.666667</td>\n",
       "      <td>323.666667</td>\n",
       "      <td>8.016667</td>\n",
       "      <td>165267.000000</td>\n",
       "      <td>94.333333</td>\n",
       "      <td>344.000000</td>\n",
       "      <td>309.0</td>\n",
       "      <td>274696.666667</td>\n",
       "      <td>8161.333333</td>\n",
       "      <td>201.666667</td>\n",
       "    </tr>\n",
       "    <tr>\n",
       "      <th>Satelight, A-1 Pictures</th>\n",
       "      <td>36.600000</td>\n",
       "      <td>856.000000</td>\n",
       "      <td>7.680000</td>\n",
       "      <td>123002.000000</td>\n",
       "      <td>128.000000</td>\n",
       "      <td>874.200000</td>\n",
       "      <td>752.6</td>\n",
       "      <td>230361.200000</td>\n",
       "      <td>7779.400000</td>\n",
       "      <td>440.300000</td>\n",
       "    </tr>\n",
       "    <tr>\n",
       "      <th>Imagin</th>\n",
       "      <td>9.000000</td>\n",
       "      <td>1900.000000</td>\n",
       "      <td>7.570000</td>\n",
       "      <td>115083.000000</td>\n",
       "      <td>139.000000</td>\n",
       "      <td>2062.500000</td>\n",
       "      <td>1621.5</td>\n",
       "      <td>225190.000000</td>\n",
       "      <td>6630.000000</td>\n",
       "      <td>880.250000</td>\n",
       "    </tr>\n",
       "    <tr>\n",
       "      <th>White Fox</th>\n",
       "      <td>9.066667</td>\n",
       "      <td>1999.700000</td>\n",
       "      <td>6.504667</td>\n",
       "      <td>92496.766667</td>\n",
       "      <td>195.600000</td>\n",
       "      <td>2260.366667</td>\n",
       "      <td>1676.8</td>\n",
       "      <td>175628.033333</td>\n",
       "      <td>5318.066667</td>\n",
       "      <td>936.200000</td>\n",
       "    </tr>\n",
       "    <tr>\n",
       "      <th>Kyoto Animation, Animation Do</th>\n",
       "      <td>12.500000</td>\n",
       "      <td>275.500000</td>\n",
       "      <td>7.720000</td>\n",
       "      <td>155257.500000</td>\n",
       "      <td>124.000000</td>\n",
       "      <td>264.000000</td>\n",
       "      <td>239.0</td>\n",
       "      <td>277420.500000</td>\n",
       "      <td>5126.000000</td>\n",
       "      <td>181.500000</td>\n",
       "    </tr>\n",
       "    <tr>\n",
       "      <th>A-1 Pictures, Trigger, CloverWorks</th>\n",
       "      <td>24.000000</td>\n",
       "      <td>200.000000</td>\n",
       "      <td>8.170000</td>\n",
       "      <td>76973.000000</td>\n",
       "      <td>79.000000</td>\n",
       "      <td>239.000000</td>\n",
       "      <td>219.0</td>\n",
       "      <td>276912.000000</td>\n",
       "      <td>4991.000000</td>\n",
       "      <td>149.000000</td>\n",
       "    </tr>\n",
       "    <tr>\n",
       "      <th>A-1 Pictures, Bridge</th>\n",
       "      <td>52.000000</td>\n",
       "      <td>1663.500000</td>\n",
       "      <td>7.755000</td>\n",
       "      <td>95461.500000</td>\n",
       "      <td>120.500000</td>\n",
       "      <td>1789.500000</td>\n",
       "      <td>1436.5</td>\n",
       "      <td>207060.500000</td>\n",
       "      <td>4669.500000</td>\n",
       "      <td>778.500000</td>\n",
       "    </tr>\n",
       "    <tr>\n",
       "      <th>Tezuka Productions, MAPPA</th>\n",
       "      <td>12.000000</td>\n",
       "      <td>303.000000</td>\n",
       "      <td>8.440000</td>\n",
       "      <td>93986.000000</td>\n",
       "      <td>52.000000</td>\n",
       "      <td>390.000000</td>\n",
       "      <td>349.0</td>\n",
       "      <td>192993.000000</td>\n",
       "      <td>4600.000000</td>\n",
       "      <td>200.500000</td>\n",
       "    </tr>\n",
       "  </tbody>\n",
       "</table>\n",
       "</div>"
      ],
      "text/plain": [
       "                                     episodes         rank     score  \\\n",
       "studio                                                                 \n",
       "Gainax, Tatsunoko Production        26.000000    42.000000  8.320000   \n",
       "Madhouse, Satelight, Graphinica     10.000000    67.000000  8.530000   \n",
       "Gainax, Production I.G               2.666667   323.666667  8.016667   \n",
       "Satelight, A-1 Pictures             36.600000   856.000000  7.680000   \n",
       "Imagin                               9.000000  1900.000000  7.570000   \n",
       "White Fox                            9.066667  1999.700000  6.504667   \n",
       "Kyoto Animation, Animation Do       12.500000   275.500000  7.720000   \n",
       "A-1 Pictures, Trigger, CloverWorks  24.000000   200.000000  8.170000   \n",
       "A-1 Pictures, Bridge                52.000000  1663.500000  7.755000   \n",
       "Tezuka Productions, MAPPA           12.000000   303.000000  8.440000   \n",
       "\n",
       "                                        scored_by  score_rank   popularity  \\\n",
       "studio                                                                       \n",
       "Gainax, Tatsunoko Production        364012.000000   64.000000    48.000000   \n",
       "Madhouse, Satelight, Graphinica     221939.000000   43.000000   105.000000   \n",
       "Gainax, Production I.G              165267.000000   94.333333   344.000000   \n",
       "Satelight, A-1 Pictures             123002.000000  128.000000   874.200000   \n",
       "Imagin                              115083.000000  139.000000  2062.500000   \n",
       "White Fox                            92496.766667  195.600000  2260.366667   \n",
       "Kyoto Animation, Animation Do       155257.500000  124.000000   264.000000   \n",
       "A-1 Pictures, Trigger, CloverWorks   76973.000000   79.000000   239.000000   \n",
       "A-1 Pictures, Bridge                 95461.500000  120.500000  1789.500000   \n",
       "Tezuka Productions, MAPPA            93986.000000   52.000000   390.000000   \n",
       "\n",
       "                                    popularity_rank        members  \\\n",
       "studio                                                               \n",
       "Gainax, Tatsunoko Production                   47.0  641101.000000   \n",
       "Madhouse, Satelight, Graphinica               101.0  425255.000000   \n",
       "Gainax, Production I.G                        309.0  274696.666667   \n",
       "Satelight, A-1 Pictures                       752.6  230361.200000   \n",
       "Imagin                                       1621.5  225190.000000   \n",
       "White Fox                                    1676.8  175628.033333   \n",
       "Kyoto Animation, Animation Do                 239.0  277420.500000   \n",
       "A-1 Pictures, Trigger, CloverWorks            219.0  276912.000000   \n",
       "A-1 Pictures, Bridge                         1436.5  207060.500000   \n",
       "Tezuka Productions, MAPPA                     349.0  192993.000000   \n",
       "\n",
       "                                       favorites  avg_rank_score  \n",
       "studio                                                            \n",
       "Gainax, Tatsunoko Production        41098.000000       55.500000  \n",
       "Madhouse, Satelight, Graphinica     13450.000000       72.000000  \n",
       "Gainax, Production I.G               8161.333333      201.666667  \n",
       "Satelight, A-1 Pictures              7779.400000      440.300000  \n",
       "Imagin                               6630.000000      880.250000  \n",
       "White Fox                            5318.066667      936.200000  \n",
       "Kyoto Animation, Animation Do        5126.000000      181.500000  \n",
       "A-1 Pictures, Trigger, CloverWorks   4991.000000      149.000000  \n",
       "A-1 Pictures, Bridge                 4669.500000      778.500000  \n",
       "Tezuka Productions, MAPPA            4600.000000      200.500000  "
      ]
     },
     "execution_count": 172,
     "metadata": {},
     "output_type": "execute_result"
    }
   ],
   "source": [
    "studios_avgs.nlargest(10,'favorites')"
   ]
  },
  {
   "cell_type": "code",
   "execution_count": null,
   "id": "b078a40c",
   "metadata": {},
   "outputs": [],
   "source": []
  },
  {
   "cell_type": "code",
   "execution_count": null,
   "id": "3cebba6a",
   "metadata": {},
   "outputs": [],
   "source": []
  },
  {
   "cell_type": "code",
   "execution_count": null,
   "id": "611f71ad",
   "metadata": {},
   "outputs": [],
   "source": []
  },
  {
   "cell_type": "code",
   "execution_count": null,
   "id": "06ec7fc4",
   "metadata": {},
   "outputs": [],
   "source": []
  },
  {
   "cell_type": "code",
   "execution_count": null,
   "id": "00feb486",
   "metadata": {},
   "outputs": [],
   "source": []
  },
  {
   "cell_type": "code",
   "execution_count": null,
   "id": "895ba97e",
   "metadata": {},
   "outputs": [],
   "source": []
  },
  {
   "cell_type": "code",
   "execution_count": null,
   "id": "278e52b2",
   "metadata": {},
   "outputs": [],
   "source": []
  },
  {
   "cell_type": "code",
   "execution_count": null,
   "id": "b376c763",
   "metadata": {},
   "outputs": [],
   "source": []
  }
 ],
 "metadata": {
  "kernelspec": {
   "display_name": "Python 3 (ipykernel)",
   "language": "python",
   "name": "python3"
  },
  "language_info": {
   "codemirror_mode": {
    "name": "ipython",
    "version": 3
   },
   "file_extension": ".py",
   "mimetype": "text/x-python",
   "name": "python",
   "nbconvert_exporter": "python",
   "pygments_lexer": "ipython3",
   "version": "3.9.12"
  }
 },
 "nbformat": 4,
 "nbformat_minor": 5
}
